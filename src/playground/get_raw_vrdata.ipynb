{
 "cells": [
  {
   "cell_type": "code",
   "execution_count": 1,
   "metadata": {},
   "outputs": [],
   "source": [
    "import requests\n",
    "import json\n",
    "\n",
    "from pathlib import Path\n",
    "from urllib.parse import urljoin\n",
    "from datetime import date, timedelta\n",
    "from itertools import product\n"
   ]
  },
  {
   "cell_type": "code",
   "execution_count": 2,
   "metadata": {},
   "outputs": [],
   "source": [
    "def http(method:str, path:str, BASE=\"https://rata.digitraffic.fi/\", **kwargs):\n",
    "    path = path.lstrip(\"/\")\n",
    "    url = urljoin(BASE, path)\n",
    "    response = requests.request(method, url, **kwargs)\n",
    "    response.raise_for_status()\n",
    "    return response.json()"
   ]
  },
  {
   "cell_type": "code",
   "execution_count": 3,
   "metadata": {},
   "outputs": [
    {
     "name": "stdout",
     "output_type": "stream",
     "text": [
      "/workspaces/VR-data\n"
     ]
    }
   ],
   "source": [
    "project_dir = Path().absolute().parent.parent\n",
    "print(project_dir)"
   ]
  },
  {
   "cell_type": "code",
   "execution_count": 4,
   "metadata": {},
   "outputs": [],
   "source": [
    "vr_data_path = project_dir / \"data\" / \"datalake\" / \"staging\" / \"vr_data\"\n",
    "vr_data_path.mkdir(exist_ok=True, parents=True)\n",
    "\n"
   ]
  },
  {
   "cell_type": "code",
   "execution_count": 5,
   "metadata": {},
   "outputs": [
    {
     "name": "stdout",
     "output_type": "stream",
     "text": [
      "Fetching from 2023-11-01 to 2023-11-30 (30 days)\n"
     ]
    }
   ],
   "source": [
    "START_DATE = \"2023-11-01\"\n",
    "END_DATE = \"2023-11-30\"\n",
    "\n",
    "\n",
    "start_date = date.fromisoformat(START_DATE)\n",
    "custom_end_date = date.fromisoformat(END_DATE) if END_DATE else None\n",
    "end_date = custom_end_date or (date.today() - timedelta(days=1))\n",
    "daterange = range((end_date - start_date).days + 1)\n",
    "iso_dates = [(start_date + timedelta(days=x)).isoformat() for x in daterange]\n",
    "print(f\"Fetching from {iso_dates[0]} to {iso_dates[-1]} ({len(iso_dates)} days)\")"
   ]
  },
  {
   "cell_type": "code",
   "execution_count": 6,
   "metadata": {},
   "outputs": [
    {
     "name": "stdout",
     "output_type": "stream",
     "text": [
      "/workspaces/VR-data/data/datalake/staging/vr_data/2023-11-01.json\n",
      "/workspaces/VR-data/data/datalake/staging/vr_data/2023-11-02.json\n",
      "/workspaces/VR-data/data/datalake/staging/vr_data/2023-11-03.json\n",
      "/workspaces/VR-data/data/datalake/staging/vr_data/2023-11-04.json\n",
      "/workspaces/VR-data/data/datalake/staging/vr_data/2023-11-05.json\n",
      "/workspaces/VR-data/data/datalake/staging/vr_data/2023-11-06.json\n",
      "/workspaces/VR-data/data/datalake/staging/vr_data/2023-11-07.json\n",
      "/workspaces/VR-data/data/datalake/staging/vr_data/2023-11-08.json\n",
      "/workspaces/VR-data/data/datalake/staging/vr_data/2023-11-09.json\n",
      "/workspaces/VR-data/data/datalake/staging/vr_data/2023-11-10.json\n",
      "/workspaces/VR-data/data/datalake/staging/vr_data/2023-11-11.json\n",
      "/workspaces/VR-data/data/datalake/staging/vr_data/2023-11-12.json\n",
      "/workspaces/VR-data/data/datalake/staging/vr_data/2023-11-13.json\n",
      "/workspaces/VR-data/data/datalake/staging/vr_data/2023-11-14.json\n",
      "/workspaces/VR-data/data/datalake/staging/vr_data/2023-11-15.json\n",
      "/workspaces/VR-data/data/datalake/staging/vr_data/2023-11-16.json\n",
      "/workspaces/VR-data/data/datalake/staging/vr_data/2023-11-17.json\n",
      "/workspaces/VR-data/data/datalake/staging/vr_data/2023-11-18.json\n",
      "/workspaces/VR-data/data/datalake/staging/vr_data/2023-11-19.json\n",
      "/workspaces/VR-data/data/datalake/staging/vr_data/2023-11-20.json\n",
      "/workspaces/VR-data/data/datalake/staging/vr_data/2023-11-21.json\n",
      "/workspaces/VR-data/data/datalake/staging/vr_data/2023-11-22.json\n",
      "/workspaces/VR-data/data/datalake/staging/vr_data/2023-11-23.json\n",
      "/workspaces/VR-data/data/datalake/staging/vr_data/2023-11-24.json\n",
      "/workspaces/VR-data/data/datalake/staging/vr_data/2023-11-25.json\n",
      "/workspaces/VR-data/data/datalake/staging/vr_data/2023-11-26.json\n",
      "/workspaces/VR-data/data/datalake/staging/vr_data/2023-11-27.json\n",
      "/workspaces/VR-data/data/datalake/staging/vr_data/2023-11-28.json\n",
      "/workspaces/VR-data/data/datalake/staging/vr_data/2023-11-29.json\n",
      "/workspaces/VR-data/data/datalake/staging/vr_data/2023-11-30.json\n"
     ]
    }
   ],
   "source": [
    "for date in iso_dates:\n",
    "    data = http(\"GET\", f\"/api/v1/trains/{date}\")\n",
    "    result_json = json.dumps(data)\n",
    "\n",
    "    json_path = vr_data_path / f\"{date}.json\"\n",
    "    json_path.write_text(result_json, encoding='utf-8')\n",
    "    print(json_path)"
   ]
  }
 ],
 "metadata": {
  "kernelspec": {
   "display_name": "Python 3",
   "language": "python",
   "name": "python3"
  },
  "language_info": {
   "codemirror_mode": {
    "name": "ipython",
    "version": 3
   },
   "file_extension": ".py",
   "mimetype": "text/x-python",
   "name": "python",
   "nbconvert_exporter": "python",
   "pygments_lexer": "ipython3",
   "version": "3.11.7"
  }
 },
 "nbformat": 4,
 "nbformat_minor": 2
}
