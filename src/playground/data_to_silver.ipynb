{
 "cells": [
  {
   "cell_type": "markdown",
   "metadata": {},
   "source": [
    "# Create new table for silver"
   ]
  },
  {
   "cell_type": "code",
   "execution_count": 11,
   "metadata": {},
   "outputs": [],
   "source": [
    "import polars as pl\n",
    "import duckdb\n",
    "from pathlib import Path"
   ]
  },
  {
   "cell_type": "code",
   "execution_count": 12,
   "metadata": {},
   "outputs": [],
   "source": [
    "duckdb_path = Path().absolute().parent.parent / \"data\" / \"warehouse\" / \"vr.duckdb\"\n",
    "duckdb_path.is_file()\n",
    "conn = duckdb.connect(database=str(duckdb_path), read_only=False)"
   ]
  },
  {
   "cell_type": "code",
   "execution_count": 13,
   "metadata": {},
   "outputs": [
    {
     "data": {
      "text/plain": [
       "<duckdb.duckdb.DuckDBPyConnection at 0x7f11d50f8bb0>"
      ]
     },
     "execution_count": 13,
     "metadata": {},
     "output_type": "execute_result"
    }
   ],
   "source": [
    "create_table_sql = \"\"\"\n",
    "CREATE SCHEMA IF NOT EXISTS medallion_silver;     \n",
    "CREATE OR REPLACE TABLE vr.medallion_silver.method_b_silvertrain AS (  \n",
    "WITH exploded AS (\n",
    "    SELECT \n",
    "        route_sk,\n",
    "        UNNEST(timeTableRows) as timetable_row\n",
    "    FROM medallion_bronze.method_b_traintest\n",
    "),\n",
    "\n",
    "defined AS (\n",
    "        SELECT \n",
    "        route_sk,\n",
    "        timetable_row::STRUCT(\n",
    "            stationShortCode STRING,\n",
    "            stationUICCode INT,\n",
    "            countryCode STRING,\n",
    "            type STRING,\n",
    "            trainStopping BOOL,\n",
    "            commercialStop BOOL,\n",
    "            commercialTrack STRING, \n",
    "            cancelled BOOLEAN,\n",
    "            scheduledTime STRING,\n",
    "            liveEstimateTime STRING,\n",
    "            estimateSource STRING,\n",
    "            unknownDelay BOOLEAN, \n",
    "            actualTime STRING,\n",
    "            differenceInMinutes INT,\n",
    "            causes STRUCT(\n",
    "                passengerTerm STRING, \n",
    "                categoryCode STRING, \n",
    "                categoryName STRING, \n",
    "                validFrom STRING,\n",
    "                validTo STRING, \n",
    "                id INT, \n",
    "                detailedCategoryCode STRING, \n",
    "                detailedCategoryName STRING,\n",
    "                thirdCategoryCode STRING, \n",
    "                thirdCategoryName STRING, \n",
    "                description STRING,\n",
    "                categoryCodeId INT, \n",
    "                detailedCategoryCodeId INT, \n",
    "                thirdCategoryCodeId INT)[],\n",
    "            trainReady STRUCT(\n",
    "                source STRING,\n",
    "                accepted BOOL,\n",
    "                timestamp STRING)[]\n",
    "        ) as timetable_struct\n",
    "    FROM exploded\n",
    "),\n",
    "    \n",
    "flattened AS(\n",
    "    SELECT \n",
    "        md5(route_sk || timetable_struct.stationShortCode || timetable_struct.stationUICCode) as stop_sk,\n",
    "        route_sk, \n",
    "        timetable_struct.*\n",
    "    FROM defined\n",
    ")\n",
    "\n",
    "SELECT    \n",
    "    stop_sk,    \n",
    "    FIRST(stationShortCode),    \n",
    "    FIRST(stationUICCode) as station_id,      \n",
    "    FIRST(stationShortCode) as station_name,\n",
    "    MAX(CASE WHEN type = 'ARRIVAL' THEN differenceInMinutes END) AS arrival_lateness, \n",
    "    MAX(CASE WHEN type = 'DEPARTURE' THEN differenceInMinutes END) AS departure_lateness,\n",
    "    FIRST(CASE WHEN type = 'ARRIVAL' THEN scheduledTime END) AS arrival_schedule,    \n",
    "    FIRST(CASE WHEN type = 'DEPARTURE' THEN scheduledTime END) AS departure_schedule,    \n",
    "    MAX(CASE WHEN type = 'ARRIVAL' THEN actualTime END) AS arrival_actual,    \n",
    "    MAX(CASE WHEN type = 'DEPARTURE' THEN actualTime END) AS departure_actual,\n",
    "    FLATTEN(LIST(causes)) as lateness_causes,\n",
    "\n",
    "FROM flattened\n",
    "GROUP BY stop_sk);\n",
    "\"\"\"\n",
    "\n",
    "conn.execute(create_table_sql)"
   ]
  },
  {
   "cell_type": "code",
   "execution_count": 14,
   "metadata": {},
   "outputs": [],
   "source": [
    "conn.close()"
   ]
  }
 ],
 "metadata": {
  "kernelspec": {
   "display_name": "Python 3",
   "language": "python",
   "name": "python3"
  },
  "language_info": {
   "codemirror_mode": {
    "name": "ipython",
    "version": 3
   },
   "file_extension": ".py",
   "mimetype": "text/x-python",
   "name": "python",
   "nbconvert_exporter": "python",
   "pygments_lexer": "ipython3",
   "version": "3.11.7"
  }
 },
 "nbformat": 4,
 "nbformat_minor": 2
}
