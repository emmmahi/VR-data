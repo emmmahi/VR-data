{
 "cells": [
  {
   "cell_type": "code",
   "execution_count": 66,
   "metadata": {},
   "outputs": [],
   "source": [
    "import duckdb\n",
    "from polars import DataFrame\n",
    "from pathlib import Path"
   ]
  },
  {
   "cell_type": "code",
   "execution_count": 67,
   "metadata": {},
   "outputs": [
    {
     "data": {
      "text/plain": [
       "PosixPath('/workspaces/VR-data')"
      ]
     },
     "execution_count": 67,
     "metadata": {},
     "output_type": "execute_result"
    }
   ],
   "source": [
    "Path().absolute().parent.parent"
   ]
  },
  {
   "cell_type": "markdown",
   "metadata": {},
   "source": [
    "# Alustetaan yhteyttä tietokantaan"
   ]
  },
  {
   "cell_type": "code",
   "execution_count": 68,
   "metadata": {},
   "outputs": [
    {
     "name": "stdout",
     "output_type": "stream",
     "text": [
      "/workspaces/VR-data/data/warehouse/vr.duckdb   file exists:   True\n"
     ]
    }
   ],
   "source": [
    "project_dir = Path().absolute().parent.parent\n",
    "db_path = project_dir / \"data\" / \"warehouse\" / \"vr.duckdb\"\n",
    "print(str(db_path), \"  file exists:  \", db_path.is_file())"
   ]
  },
  {
   "cell_type": "code",
   "execution_count": 69,
   "metadata": {},
   "outputs": [],
   "source": [
    "# funktio kyselyn tekemistä varten ei vaadi yhteyden sulkua koska käytetään WITH\n",
    "def sql(query: str) -> DataFrame:\n",
    "    with duckdb.connect(str(db_path), read_only=True) as conn:\n",
    "        df = conn.execute(query).pl()\n",
    "    return df\n"
   ]
  },
  {
   "cell_type": "code",
   "execution_count": 86,
   "metadata": {},
   "outputs": [
    {
     "data": {
      "text/html": [
       "<div><style>\n",
       ".dataframe > thead > tr,\n",
       ".dataframe > tbody > tr {\n",
       "  text-align: right;\n",
       "  white-space: pre-wrap;\n",
       "}\n",
       "</style>\n",
       "<small>shape: (5, 6)</small><table border=\"1\" class=\"dataframe\"><thead><tr><th>database</th><th>schema</th><th>name</th><th>column_names</th><th>column_types</th><th>temporary</th></tr><tr><td>str</td><td>str</td><td>str</td><td>list[str]</td><td>list[str]</td><td>bool</td></tr></thead><tbody><tr><td>&quot;vr&quot;</td><td>&quot;medallion&quot;</td><td>&quot;my_first_dbt_m…</td><td>[&quot;id&quot;]</td><td>[&quot;INTEGER&quot;]</td><td>false</td></tr><tr><td>&quot;vr&quot;</td><td>&quot;medallion&quot;</td><td>&quot;my_second_dbt_…</td><td>[&quot;id&quot;]</td><td>[&quot;INTEGER&quot;]</td><td>false</td></tr><tr><td>&quot;vr&quot;</td><td>&quot;medallion_bron…</td><td>&quot;method_b_train…</td><td>[&quot;route_sk&quot;, &quot;trainNumber&quot;, … &quot;timeTableRows&quot;]</td><td>[&quot;VARCHAR&quot;, &quot;BIGINT&quot;, … &quot;STRUCT(stationShortCode VARCHAR, stationUICCode BIGINT, countryCode VARCHAR, &quot;type&quot; VARCHAR, trainStopping BOOLEAN, commercialStop BOOLEAN, commercialTrack VARCHAR, cancelled BOOLEAN, scheduledTime VARCHAR, liveEstimateTime VARCHAR, estimateSource VARCHAR, unknownDelay BOOLEAN, actualTime VARCHAR, differenceInMinutes BIGINT, causes STRUCT(passengerTerm VARCHAR, categoryCode VARCHAR, categoryName VARCHAR, validFrom VARCHAR, validTo VARCHAR, id INTEGER, detailedCategoryCode VARCHAR, detailedCategoryName VARCHAR, thirdCategoryCode VARCHAR, thirdCategoryName VARCHAR, description VARCHAR, categoryCodeId INTEGER, detailedCategoryCodeId INTEGER, thirdCategoryCodeId INTEGER)[], trainReady STRUCT(source VARCHAR, accepted BOOLEAN, &quot;timestamp&quot; VARCHAR)[])[]&quot;]</td><td>false</td></tr><tr><td>&quot;vr&quot;</td><td>&quot;medallion_gold…</td><td>&quot;method_b_kaj_t…</td><td>[&quot;stop_sk&quot;, &quot;first(stationShortCode)&quot;, … &quot;lateness_causes_new&quot;]</td><td>[&quot;VARCHAR&quot;, &quot;VARCHAR&quot;, … &quot;STRUCT(passengerTerm VARCHAR, categoryCode VARCHAR, categoryName VARCHAR, validFrom VARCHAR, validTo VARCHAR, id INTEGER, detailedCategoryCode VARCHAR, detailedCategoryName VARCHAR, thirdCategoryCode VARCHAR, thirdCategoryName VARCHAR, description VARCHAR, categoryCodeId INTEGER, detailedCategoryCodeId INTEGER, thirdCategoryCodeId INTEGER)&quot;]</td><td>false</td></tr><tr><td>&quot;vr&quot;</td><td>&quot;medallion_silv…</td><td>&quot;method_b_silve…</td><td>[&quot;stop_sk&quot;, &quot;first(stationShortCode)&quot;, … &quot;lateness_causes&quot;]</td><td>[&quot;VARCHAR&quot;, &quot;VARCHAR&quot;, … &quot;STRUCT(passengerTerm VARCHAR, categoryCode VARCHAR, categoryName VARCHAR, validFrom VARCHAR, validTo VARCHAR, id INTEGER, detailedCategoryCode VARCHAR, detailedCategoryName VARCHAR, thirdCategoryCode VARCHAR, thirdCategoryName VARCHAR, description VARCHAR, categoryCodeId INTEGER, detailedCategoryCodeId INTEGER, thirdCategoryCodeId INTEGER)[]&quot;]</td><td>false</td></tr></tbody></table></div>"
      ],
      "text/plain": [
       "shape: (5, 6)\n",
       "┌──────────┬──────────────────┬────────────────────┬────────────────────┬──────────────┬───────────┐\n",
       "│ database ┆ schema           ┆ name               ┆ column_names       ┆ column_types ┆ temporary │\n",
       "│ ---      ┆ ---              ┆ ---                ┆ ---                ┆ ---          ┆ ---       │\n",
       "│ str      ┆ str              ┆ str                ┆ list[str]          ┆ list[str]    ┆ bool      │\n",
       "╞══════════╪══════════════════╪════════════════════╪════════════════════╪══════════════╪═══════════╡\n",
       "│ vr       ┆ medallion        ┆ my_first_dbt_model ┆ [\"id\"]             ┆ [\"INTEGER\"]  ┆ false     │\n",
       "│ vr       ┆ medallion        ┆ my_second_dbt_mode ┆ [\"id\"]             ┆ [\"INTEGER\"]  ┆ false     │\n",
       "│          ┆                  ┆ l                  ┆                    ┆              ┆           │\n",
       "│ vr       ┆ medallion_bronze ┆ method_b_traintest ┆ [\"route_sk\",       ┆ [\"VARCHAR\",  ┆ false     │\n",
       "│          ┆                  ┆                    ┆ \"trainNumber\", …   ┆ \"BIGINT\", …  ┆           │\n",
       "│          ┆                  ┆                    ┆ \"t…                ┆ \"STRUCT(…    ┆           │\n",
       "│ vr       ┆ medallion_gold   ┆ method_b_kaj_train ┆ [\"stop_sk\", \"first ┆ [\"VARCHAR\",  ┆ false     │\n",
       "│          ┆                  ┆                    ┆ (stationShortC…    ┆ \"VARCHAR\", … ┆           │\n",
       "│          ┆                  ┆                    ┆                    ┆ \"STRUCT…     ┆           │\n",
       "│ vr       ┆ medallion_silver ┆ method_b_silvertra ┆ [\"stop_sk\", \"first ┆ [\"VARCHAR\",  ┆ false     │\n",
       "│          ┆                  ┆ in                 ┆ (stationShortC…    ┆ \"VARCHAR\", … ┆           │\n",
       "│          ┆                  ┆                    ┆                    ┆ \"STRUCT…     ┆           │\n",
       "└──────────┴──────────────────┴────────────────────┴────────────────────┴──────────────┴───────────┘"
      ]
     },
     "execution_count": 86,
     "metadata": {},
     "output_type": "execute_result"
    }
   ],
   "source": [
    "sql(\"SHOW ALL TABLES\")"
   ]
  },
  {
   "cell_type": "code",
   "execution_count": 87,
   "metadata": {},
   "outputs": [
    {
     "data": {
      "text/html": [
       "<div><style>\n",
       ".dataframe > thead > tr,\n",
       ".dataframe > tbody > tr {\n",
       "  text-align: right;\n",
       "  white-space: pre-wrap;\n",
       "}\n",
       "</style>\n",
       "<small>shape: (5, 3)</small><table border=\"1\" class=\"dataframe\"><thead><tr><th>database</th><th>schema</th><th>name</th></tr><tr><td>str</td><td>str</td><td>str</td></tr></thead><tbody><tr><td>&quot;vr&quot;</td><td>&quot;medallion&quot;</td><td>&quot;my_first_dbt_m…</td></tr><tr><td>&quot;vr&quot;</td><td>&quot;medallion&quot;</td><td>&quot;my_second_dbt_…</td></tr><tr><td>&quot;vr&quot;</td><td>&quot;medallion_bron…</td><td>&quot;method_b_train…</td></tr><tr><td>&quot;vr&quot;</td><td>&quot;medallion_gold…</td><td>&quot;method_b_kaj_t…</td></tr><tr><td>&quot;vr&quot;</td><td>&quot;medallion_silv…</td><td>&quot;method_b_silve…</td></tr></tbody></table></div>"
      ],
      "text/plain": [
       "shape: (5, 3)\n",
       "┌──────────┬──────────────────┬──────────────────────┐\n",
       "│ database ┆ schema           ┆ name                 │\n",
       "│ ---      ┆ ---              ┆ ---                  │\n",
       "│ str      ┆ str              ┆ str                  │\n",
       "╞══════════╪══════════════════╪══════════════════════╡\n",
       "│ vr       ┆ medallion        ┆ my_first_dbt_model   │\n",
       "│ vr       ┆ medallion        ┆ my_second_dbt_model  │\n",
       "│ vr       ┆ medallion_bronze ┆ method_b_traintest   │\n",
       "│ vr       ┆ medallion_gold   ┆ method_b_kaj_train   │\n",
       "│ vr       ┆ medallion_silver ┆ method_b_silvertrain │\n",
       "└──────────┴──────────────────┴──────────────────────┘"
      ]
     },
     "execution_count": 87,
     "metadata": {},
     "output_type": "execute_result"
    }
   ],
   "source": [
    "sql(\"SHOW\").select(\"database\", \"schema\", \"name\")"
   ]
  },
  {
   "cell_type": "markdown",
   "metadata": {},
   "source": [
    "# Databasen selailu Silver-tasoa varten"
   ]
  },
  {
   "cell_type": "code",
   "execution_count": 72,
   "metadata": {},
   "outputs": [
    {
     "data": {
      "text/html": [
       "<div><style>\n",
       ".dataframe > thead > tr,\n",
       ".dataframe > tbody > tr {\n",
       "  text-align: right;\n",
       "  white-space: pre-wrap;\n",
       "}\n",
       "</style>\n",
       "<small>shape: (1_001_093, 11)</small><table border=\"1\" class=\"dataframe\"><thead><tr><th>stop_sk</th><th>first(stationShortCode)</th><th>station_id</th><th>station_name</th><th>arrival_lateness</th><th>departure_lateness</th><th>arrival_schedule</th><th>departure_schedule</th><th>arrival_actual</th><th>departure_actual</th><th>lateness_causes</th></tr><tr><td>str</td><td>str</td><td>i32</td><td>str</td><td>i32</td><td>i32</td><td>str</td><td>str</td><td>str</td><td>str</td><td>list[struct[14]]</td></tr></thead><tbody><tr><td>&quot;5153b6c1be3948…</td><td>&quot;PMK&quot;</td><td>551</td><td>&quot;PMK&quot;</td><td>1</td><td>1</td><td>&quot;2023-11-01T05:…</td><td>null</td><td>&quot;2023-11-01T05:…</td><td>&quot;2023-11-01T05:…</td><td>[]</td></tr><tr><td>&quot;5cd9985ff7680d…</td><td>&quot;TNA&quot;</td><td>552</td><td>&quot;TNA&quot;</td><td>0</td><td>0</td><td>&quot;2023-11-01T05:…</td><td>null</td><td>&quot;2023-11-01T05:…</td><td>&quot;2023-11-01T05:…</td><td>[]</td></tr><tr><td>&quot;ffde5b4becf41e…</td><td>&quot;KSU&quot;</td><td>1128</td><td>&quot;KSU&quot;</td><td>1</td><td>1</td><td>&quot;2023-11-01T05:…</td><td>null</td><td>&quot;2023-11-01T05:…</td><td>&quot;2023-11-01T05:…</td><td>[]</td></tr><tr><td>&quot;82a7303cc454d6…</td><td>&quot;HNN&quot;</td><td>1164</td><td>&quot;HNN&quot;</td><td>-2</td><td>-2</td><td>&quot;2023-11-01T05:…</td><td>null</td><td>&quot;2023-11-01T05:…</td><td>&quot;2023-11-01T05:…</td><td>[]</td></tr><tr><td>&quot;ee84b4e83ebd8a…</td><td>&quot;KA&quot;</td><td>477</td><td>&quot;KA&quot;</td><td>1</td><td>1</td><td>&quot;2023-11-01T06:…</td><td>null</td><td>&quot;2023-11-01T06:…</td><td>&quot;2023-11-01T06:…</td><td>[]</td></tr><tr><td>&quot;238eeb6c294023…</td><td>&quot;TRÄ&quot;</td><td>1290</td><td>&quot;TRÄ&quot;</td><td>-2</td><td>-2</td><td>&quot;2023-11-01T06:…</td><td>null</td><td>&quot;2023-11-01T06:…</td><td>&quot;2023-11-01T06:…</td><td>[]</td></tr><tr><td>&quot;2bf38673214f2f…</td><td>&quot;LRS&quot;</td><td>498</td><td>&quot;LRS&quot;</td><td>0</td><td>0</td><td>&quot;2023-11-01T07:…</td><td>null</td><td>&quot;2023-11-01T07:…</td><td>&quot;2023-11-01T07:…</td><td>[]</td></tr><tr><td>&quot;8a44e9b1272062…</td><td>&quot;IMT&quot;</td><td>502</td><td>&quot;IMT&quot;</td><td>0</td><td>0</td><td>&quot;2023-11-01T07:…</td><td>null</td><td>&quot;2023-11-01T07:…</td><td>&quot;2023-11-01T07:…</td><td>[]</td></tr><tr><td>&quot;f47598898d4187…</td><td>&quot;SPL&quot;</td><td>507</td><td>&quot;SPL&quot;</td><td>1</td><td>2</td><td>&quot;2023-11-01T08:…</td><td>null</td><td>&quot;2023-11-01T08:…</td><td>&quot;2023-11-01T08:…</td><td>[]</td></tr><tr><td>&quot;9a19a2fd700e02…</td><td>&quot;SR&quot;</td><td>964</td><td>&quot;SR&quot;</td><td>0</td><td>0</td><td>&quot;2023-11-01T08:…</td><td>null</td><td>&quot;2023-11-01T08:…</td><td>&quot;2023-11-01T08:…</td><td>[]</td></tr><tr><td>&quot;9c4fa657fbc643…</td><td>&quot;SÄ&quot;</td><td>918</td><td>&quot;SÄ&quot;</td><td>2</td><td>2</td><td>&quot;2023-11-01T09:…</td><td>null</td><td>&quot;2023-11-01T09:…</td><td>&quot;2023-11-01T09:…</td><td>[]</td></tr><tr><td>&quot;75ac2a7cda6d26…</td><td>&quot;JNS&quot;</td><td>460</td><td>&quot;JNS&quot;</td><td>null</td><td>0</td><td>null</td><td>&quot;2023-11-01T02:…</td><td>null</td><td>&quot;2023-11-01T02:…</td><td>[]</td></tr><tr><td>&hellip;</td><td>&hellip;</td><td>&hellip;</td><td>&hellip;</td><td>&hellip;</td><td>&hellip;</td><td>&hellip;</td><td>&hellip;</td><td>&hellip;</td><td>&hellip;</td><td>&hellip;</td></tr><tr><td>&quot;3ed447010d5a08…</td><td>&quot;AIN&quot;</td><td>628</td><td>&quot;AIN&quot;</td><td>2</td><td>2</td><td>&quot;2023-11-30T06:…</td><td>null</td><td>&quot;2023-11-30T06:…</td><td>&quot;2023-11-30T06:…</td><td>[]</td></tr><tr><td>&quot;15a8d44d476673…</td><td>&quot;VMS&quot;</td><td>1339</td><td>&quot;VMS&quot;</td><td>9</td><td>9</td><td>&quot;2023-11-30T22:…</td><td>null</td><td>&quot;2023-11-30T22:…</td><td>&quot;2023-11-30T22:…</td><td>[]</td></tr><tr><td>&quot;a161a685d9bc3e…</td><td>&quot;LAV&quot;</td><td>1341</td><td>&quot;LAV&quot;</td><td>8</td><td>8</td><td>&quot;2023-11-30T22:…</td><td>null</td><td>&quot;2023-11-30T22:…</td><td>&quot;2023-11-30T22:…</td><td>[]</td></tr><tr><td>&quot;703a0539f49182…</td><td>&quot;POH&quot;</td><td>657</td><td>&quot;POH&quot;</td><td>11</td><td>11</td><td>&quot;2023-11-30T22:…</td><td>null</td><td>&quot;2023-11-30T22:…</td><td>&quot;2023-11-30T22:…</td><td>[]</td></tr><tr><td>&quot;21d868c08891ce…</td><td>&quot;LPV&quot;</td><td>68</td><td>&quot;LPV&quot;</td><td>24</td><td>null</td><td>&quot;2023-11-30T22:…</td><td>null</td><td>&quot;2023-11-30T22:…</td><td>null</td><td>[]</td></tr><tr><td>&quot;bb20797b92b462…</td><td>&quot;RSM&quot;</td><td>1338</td><td>&quot;RSM&quot;</td><td>-26</td><td>-26</td><td>&quot;2023-11-30T01:…</td><td>null</td><td>&quot;2023-11-30T01:…</td><td>&quot;2023-11-30T01:…</td><td>[]</td></tr><tr><td>&quot;1494914dd7037c…</td><td>&quot;KHK&quot;</td><td>1028</td><td>&quot;KHK&quot;</td><td>8</td><td>8</td><td>&quot;2023-11-29T22:…</td><td>null</td><td>null</td><td>&quot;2023-11-29T22:…</td><td>[]</td></tr><tr><td>&quot;fa3ab560069c51…</td><td>&quot;KLH&quot;</td><td>65</td><td>&quot;KLH&quot;</td><td>null</td><td>18</td><td>null</td><td>&quot;2023-11-29T23:…</td><td>null</td><td>&quot;2023-11-29T23:…</td><td>[]</td></tr><tr><td>&quot;dd7a37fc0ba2ce…</td><td>&quot;LPV&quot;</td><td>68</td><td>&quot;LPV&quot;</td><td>47</td><td>47</td><td>&quot;2023-11-29T23:…</td><td>null</td><td>&quot;2023-11-30T00:…</td><td>&quot;2023-11-30T00:…</td><td>[]</td></tr><tr><td>&quot;d584da978460a7…</td><td>&quot;MÄK&quot;</td><td>693</td><td>&quot;MÄK&quot;</td><td>46</td><td>46</td><td>&quot;2023-11-29T23:…</td><td>null</td><td>&quot;2023-11-30T00:…</td><td>&quot;2023-11-30T00:…</td><td>[]</td></tr><tr><td>&quot;c934528fd48b36…</td><td>&quot;KHK&quot;</td><td>1028</td><td>&quot;KHK&quot;</td><td>46</td><td>46</td><td>&quot;2023-11-29T23:…</td><td>null</td><td>&quot;2023-11-30T00:…</td><td>&quot;2023-11-30T00:…</td><td>[]</td></tr><tr><td>&quot;3b3f1e64dd90a0…</td><td>&quot;RI&quot;</td><td>40</td><td>&quot;RI&quot;</td><td>null</td><td>-21</td><td>null</td><td>&quot;2023-11-30T06:…</td><td>null</td><td>&quot;2023-11-30T06:…</td><td>[]</td></tr></tbody></table></div>"
      ],
      "text/plain": [
       "shape: (1_001_093, 11)\n",
       "┌───────────┬───────────┬───────────┬───────────┬───┬───────────┬───────────┬───────────┬──────────┐\n",
       "│ stop_sk   ┆ first(sta ┆ station_i ┆ station_n ┆ … ┆ departure ┆ arrival_a ┆ departure ┆ lateness │\n",
       "│ ---       ┆ tionShort ┆ d         ┆ ame       ┆   ┆ _schedule ┆ ctual     ┆ _actual   ┆ _causes  │\n",
       "│ str       ┆ Code)     ┆ ---       ┆ ---       ┆   ┆ ---       ┆ ---       ┆ ---       ┆ ---      │\n",
       "│           ┆ ---       ┆ i32       ┆ str       ┆   ┆ str       ┆ str       ┆ str       ┆ list[str │\n",
       "│           ┆ str       ┆           ┆           ┆   ┆           ┆           ┆           ┆ uct[14]] │\n",
       "╞═══════════╪═══════════╪═══════════╪═══════════╪═══╪═══════════╪═══════════╪═══════════╪══════════╡\n",
       "│ 5153b6c1b ┆ PMK       ┆ 551       ┆ PMK       ┆ … ┆ null      ┆ 2023-11-0 ┆ 2023-11-0 ┆ []       │\n",
       "│ e3948bf33 ┆           ┆           ┆           ┆   ┆           ┆ 1T05:05:4 ┆ 1T05:05:4 ┆          │\n",
       "│ 8bb8ecfb0 ┆           ┆           ┆           ┆   ┆           ┆ 1.000Z    ┆ 1.000Z    ┆          │\n",
       "│ 1b12f     ┆           ┆           ┆           ┆   ┆           ┆           ┆           ┆          │\n",
       "│ 5cd9985ff ┆ TNA       ┆ 552       ┆ TNA       ┆ … ┆ null      ┆ 2023-11-0 ┆ 2023-11-0 ┆ []       │\n",
       "│ 7680df5be ┆           ┆           ┆           ┆   ┆           ┆ 1T05:07:0 ┆ 1T05:07:0 ┆          │\n",
       "│ b5a519701 ┆           ┆           ┆           ┆   ┆           ┆ 6.000Z    ┆ 6.000Z    ┆          │\n",
       "│ 9cac0     ┆           ┆           ┆           ┆   ┆           ┆           ┆           ┆          │\n",
       "│ ffde5b4be ┆ KSU       ┆ 1128      ┆ KSU       ┆ … ┆ null      ┆ 2023-11-0 ┆ 2023-11-0 ┆ []       │\n",
       "│ cf41edb6b ┆           ┆           ┆           ┆   ┆           ┆ 1T05:27:2 ┆ 1T05:27:2 ┆          │\n",
       "│ 10869fa02 ┆           ┆           ┆           ┆   ┆           ┆ 8.000Z    ┆ 8.000Z    ┆          │\n",
       "│ 8f779     ┆           ┆           ┆           ┆   ┆           ┆           ┆           ┆          │\n",
       "│ 82a7303cc ┆ HNN       ┆ 1164      ┆ HNN       ┆ … ┆ null      ┆ 2023-11-0 ┆ 2023-11-0 ┆ []       │\n",
       "│ 454d6378d ┆           ┆           ┆           ┆   ┆           ┆ 1T05:36:1 ┆ 1T05:36:1 ┆          │\n",
       "│ 0078e7dee ┆           ┆           ┆           ┆   ┆           ┆ 0.000Z    ┆ 0.000Z    ┆          │\n",
       "│ 5056d     ┆           ┆           ┆           ┆   ┆           ┆           ┆           ┆          │\n",
       "│ …         ┆ …         ┆ …         ┆ …         ┆ … ┆ …         ┆ …         ┆ …         ┆ …        │\n",
       "│ dd7a37fc0 ┆ LPV       ┆ 68        ┆ LPV       ┆ … ┆ null      ┆ 2023-11-3 ┆ 2023-11-3 ┆ []       │\n",
       "│ ba2ceda18 ┆           ┆           ┆           ┆   ┆           ┆ 0T00:18:5 ┆ 0T00:18:5 ┆          │\n",
       "│ 64a7ade3a ┆           ┆           ┆           ┆   ┆           ┆ 0.000Z    ┆ 0.000Z    ┆          │\n",
       "│ 53649     ┆           ┆           ┆           ┆   ┆           ┆           ┆           ┆          │\n",
       "│ d584da978 ┆ MÄK       ┆ 693       ┆ MÄK       ┆ … ┆ null      ┆ 2023-11-3 ┆ 2023-11-3 ┆ []       │\n",
       "│ 460a758d7 ┆           ┆           ┆           ┆   ┆           ┆ 0T00:20:1 ┆ 0T00:20:1 ┆          │\n",
       "│ e9a32be30 ┆           ┆           ┆           ┆   ┆           ┆ 5.000Z    ┆ 5.000Z    ┆          │\n",
       "│ f6f1a     ┆           ┆           ┆           ┆   ┆           ┆           ┆           ┆          │\n",
       "│ c934528fd ┆ KHK       ┆ 1028      ┆ KHK       ┆ … ┆ null      ┆ 2023-11-3 ┆ 2023-11-3 ┆ []       │\n",
       "│ 48b3608b9 ┆           ┆           ┆           ┆   ┆           ┆ 0T00:23:4 ┆ 0T00:23:4 ┆          │\n",
       "│ be70ae30c ┆           ┆           ┆           ┆   ┆           ┆ 8.000Z    ┆ 8.000Z    ┆          │\n",
       "│ 4daef     ┆           ┆           ┆           ┆   ┆           ┆           ┆           ┆          │\n",
       "│ 3b3f1e64d ┆ RI        ┆ 40        ┆ RI        ┆ … ┆ 2023-11-3 ┆ null      ┆ 2023-11-3 ┆ []       │\n",
       "│ d90a0ac1f ┆           ┆           ┆           ┆   ┆ 0T06:36:0 ┆           ┆ 0T06:15:1 ┆          │\n",
       "│ 580449fae ┆           ┆           ┆           ┆   ┆ 0.000Z    ┆           ┆ 6.000Z    ┆          │\n",
       "│ 56591     ┆           ┆           ┆           ┆   ┆           ┆           ┆           ┆          │\n",
       "└───────────┴───────────┴───────────┴───────────┴───┴───────────┴───────────┴───────────┴──────────┘"
      ]
     },
     "execution_count": 72,
     "metadata": {},
     "output_type": "execute_result"
    }
   ],
   "source": [
    "sql(\"\"\"\n",
    "WITH exploded AS (\n",
    "    SELECT \n",
    "        route_sk,\n",
    "        UNNEST(timeTableRows) as timetable_row\n",
    "    FROM medallion_bronze.method_b_traintest\n",
    "),\n",
    "\n",
    "defined AS (\n",
    "        SELECT \n",
    "        route_sk,\n",
    "        timetable_row::STRUCT(\n",
    "            stationShortCode STRING,\n",
    "            stationUICCode INT,\n",
    "            countryCode STRING,\n",
    "            type STRING,\n",
    "            trainStopping BOOL,\n",
    "            commercialStop BOOL,\n",
    "            commercialTrack STRING, \n",
    "            cancelled BOOLEAN,\n",
    "            scheduledTime STRING,\n",
    "            liveEstimateTime STRING,\n",
    "            estimateSource STRING,\n",
    "            unknownDelay BOOLEAN, \n",
    "            actualTime STRING,\n",
    "            differenceInMinutes INT,\n",
    "            causes STRUCT(\n",
    "                passengerTerm STRING, \n",
    "                categoryCode STRING, \n",
    "                categoryName STRING, \n",
    "                validFrom STRING,\n",
    "                validTo STRING, \n",
    "                id INT, \n",
    "                detailedCategoryCode STRING, \n",
    "                detailedCategoryName STRING,\n",
    "                thirdCategoryCode STRING, \n",
    "                thirdCategoryName STRING, \n",
    "                description STRING,\n",
    "                categoryCodeId INT, \n",
    "                detailedCategoryCodeId INT, \n",
    "                thirdCategoryCodeId INT)[],\n",
    "            trainReady STRUCT(\n",
    "                source STRING,\n",
    "                accepted BOOL,\n",
    "                timestamp STRING)[]\n",
    "        ) as timetable_struct\n",
    "    FROM exploded\n",
    "),\n",
    "    \n",
    "flattened AS(\n",
    "    SELECT \n",
    "        md5(route_sk || timetable_struct.stationShortCode || timetable_struct.stationUICCode) as stop_sk,\n",
    "        route_sk, \n",
    "        timetable_struct.*\n",
    "    FROM defined\n",
    ")\n",
    "\n",
    "SELECT    \n",
    "    stop_sk,    \n",
    "    FIRST(stationShortCode),    \n",
    "    FIRST(stationUICCode) as station_id,      \n",
    "    FIRST(stationShortCode) as station_name,\n",
    "    MAX(CASE WHEN type = 'ARRIVAL' THEN differenceInMinutes END) AS arrival_lateness, \n",
    "    MAX(CASE WHEN type = 'DEPARTURE' THEN differenceInMinutes END) AS departure_lateness,\n",
    "    FIRST(CASE WHEN type = 'ARRIVAL' THEN scheduledTime END) AS arrival_schedule,    \n",
    "    FIRST(CASE WHEN type = 'DEPARTURE' THEN scheduledTime END) AS departure_schedule,    \n",
    "    MAX(CASE WHEN type = 'ARRIVAL' THEN actualTime END) AS arrival_actual,    \n",
    "    MAX(CASE WHEN type = 'DEPARTURE' THEN actualTime END) AS departure_actual,\n",
    "    FLATTEN(LIST(causes)) as lateness_causes,\n",
    "\n",
    "FROM flattened\n",
    "GROUP BY stop_sk\n",
    "\"\"\")\n",
    "\n"
   ]
  },
  {
   "cell_type": "markdown",
   "metadata": {},
   "source": [
    "# Databasen selailu Gold-tasoa varten\n",
    "stop_sk\t\n",
    "first(stationShortCode)\t\n",
    "station_id\t\n",
    "station_name\t\n",
    "arrival_lateness\t\n",
    "departure_lateness\t\n",
    "arrival_schedule\t\n",
    "departure_schedule\t\n",
    "arrival_actual\t\n",
    "departure_actual\t\n",
    "lateness_causes"
   ]
  },
  {
   "cell_type": "code",
   "execution_count": 84,
   "metadata": {},
   "outputs": [
    {
     "data": {
      "text/html": [
       "<div><style>\n",
       ".dataframe > thead > tr,\n",
       ".dataframe > tbody > tr {\n",
       "  text-align: right;\n",
       "  white-space: pre-wrap;\n",
       "}\n",
       "</style>\n",
       "<small>shape: (140, 11)</small><table border=\"1\" class=\"dataframe\"><thead><tr><th>stop_sk</th><th>first(stationShortCode)</th><th>station_id</th><th>station_name</th><th>arrival_lateness</th><th>departure_lateness</th><th>arrival_schedule</th><th>departure_schedule</th><th>arrival_actual</th><th>departure_actual</th><th>lateness_causes_new</th></tr><tr><td>str</td><td>str</td><td>i32</td><td>str</td><td>i32</td><td>i32</td><td>str</td><td>str</td><td>str</td><td>str</td><td>struct[14]</td></tr></thead><tbody><tr><td>&quot;68fa3d4531963a…</td><td>&quot;KAJ&quot;</td><td>387</td><td>&quot;KAJ&quot;</td><td>-96</td><td>-96</td><td>&quot;2023-11-07T22:…</td><td>null</td><td>&quot;2023-11-07T21:…</td><td>&quot;2023-11-07T21:…</td><td>{null,&quot;E&quot;,null,null,null,null,&quot;E2&quot;,null,null,null,null,335611978,34865416,null}</td></tr><tr><td>&quot;48dcbc0a6d855b…</td><td>&quot;KAJ&quot;</td><td>387</td><td>&quot;KAJ&quot;</td><td>4</td><td>2</td><td>&quot;2023-11-11T07:…</td><td>null</td><td>&quot;2023-11-11T07:…</td><td>&quot;2023-11-11T07:…</td><td>{null,&quot;T&quot;,null,null,null,null,&quot;T1&quot;,null,&quot;T102&quot;,null,null,402720842,18350344,33626113}</td></tr><tr><td>&quot;b9d0517f02a969…</td><td>&quot;KAJ&quot;</td><td>387</td><td>&quot;KAJ&quot;</td><td>-39</td><td>-39</td><td>&quot;2023-11-13T22:…</td><td>null</td><td>&quot;2023-11-13T22:…</td><td>&quot;2023-11-13T22:…</td><td>{null,&quot;E&quot;,null,null,null,null,&quot;E1&quot;,null,null,null,null,335611978,18088200,null}</td></tr><tr><td>&quot;282822f9117d5b…</td><td>&quot;KAJ&quot;</td><td>387</td><td>&quot;KAJ&quot;</td><td>4</td><td>1</td><td>&quot;2023-11-14T12:…</td><td>null</td><td>&quot;2023-11-14T12:…</td><td>&quot;2023-11-14T12:…</td><td>{null,&quot;L&quot;,null,null,null,null,&quot;L2&quot;,null,&quot;L204&quot;,null,null,352389194,34930952,67245313}</td></tr><tr><td>&quot;ed3f2c2dc5c6ec…</td><td>&quot;KAJ&quot;</td><td>387</td><td>&quot;KAJ&quot;</td><td>-36</td><td>-36</td><td>&quot;2023-11-14T22:…</td><td>null</td><td>&quot;2023-11-14T22:…</td><td>&quot;2023-11-14T22:…</td><td>{null,&quot;E&quot;,null,null,null,null,&quot;E2&quot;,null,null,null,null,335611978,34865416,null}</td></tr><tr><td>&quot;e91492b589ad0d…</td><td>&quot;KAJ&quot;</td><td>387</td><td>&quot;KAJ&quot;</td><td>-29</td><td>-29</td><td>&quot;2023-11-15T17:…</td><td>null</td><td>&quot;2023-11-15T16:…</td><td>&quot;2023-11-15T16:…</td><td>{null,&quot;E&quot;,null,null,null,null,&quot;E2&quot;,null,null,null,null,335611978,34865416,null}</td></tr><tr><td>&quot;9837f1122190ba…</td><td>&quot;KAJ&quot;</td><td>387</td><td>&quot;KAJ&quot;</td><td>8</td><td>6</td><td>&quot;2023-11-17T15:…</td><td>null</td><td>&quot;2023-11-17T15:…</td><td>&quot;2023-11-17T15:…</td><td>{null,&quot;M&quot;,null,null,null,null,&quot;M1&quot;,null,null,null,null,453052490,18546952,null}</td></tr><tr><td>&quot;a6782aabcc40cf…</td><td>&quot;KAJ&quot;</td><td>387</td><td>&quot;KAJ&quot;</td><td>5</td><td>null</td><td>&quot;2023-11-17T23:…</td><td>null</td><td>&quot;2023-11-17T23:…</td><td>null</td><td>{null,&quot;L&quot;,null,null,null,null,&quot;L2&quot;,null,&quot;L201&quot;,null,null,352389194,34930952,16913665}</td></tr><tr><td>&quot;22d11be81f7d52…</td><td>&quot;KAJ&quot;</td><td>387</td><td>&quot;KAJ&quot;</td><td>5</td><td>3</td><td>&quot;2023-11-17T12:…</td><td>null</td><td>&quot;2023-11-17T12:…</td><td>&quot;2023-11-17T12:…</td><td>{null,&quot;M&quot;,null,null,null,null,&quot;M1&quot;,null,null,null,null,453052490,18546952,null}</td></tr><tr><td>&quot;45c96db2febb59…</td><td>&quot;KAJ&quot;</td><td>387</td><td>&quot;KAJ&quot;</td><td>-26</td><td>-18</td><td>&quot;2023-11-17T22:…</td><td>null</td><td>&quot;2023-11-17T22:…</td><td>&quot;2023-11-17T22:…</td><td>{null,&quot;E&quot;,null,null,null,null,&quot;E2&quot;,null,null,null,null,335611978,34865416,null}</td></tr><tr><td>&quot;6a0864adcaaf12…</td><td>&quot;KAJ&quot;</td><td>387</td><td>&quot;KAJ&quot;</td><td>6</td><td>4</td><td>&quot;2023-11-20T07:…</td><td>null</td><td>&quot;2023-11-20T07:…</td><td>&quot;2023-11-20T07:…</td><td>{null,&quot;L&quot;,null,null,null,null,&quot;L2&quot;,null,&quot;L201&quot;,null,null,352389194,34930952,16913665}</td></tr><tr><td>&quot;28e45d6ae4c4bd…</td><td>&quot;KAJ&quot;</td><td>387</td><td>&quot;KAJ&quot;</td><td>17</td><td>17</td><td>&quot;2023-11-23T22:…</td><td>null</td><td>&quot;2023-11-23T22:…</td><td>&quot;2023-11-23T22:…</td><td>{null,&quot;J&quot;,null,null,null,null,&quot;J1&quot;,null,null,null,null,268503114,34603272,null}</td></tr><tr><td>&hellip;</td><td>&hellip;</td><td>&hellip;</td><td>&hellip;</td><td>&hellip;</td><td>&hellip;</td><td>&hellip;</td><td>&hellip;</td><td>&hellip;</td><td>&hellip;</td><td>&hellip;</td></tr><tr><td>&quot;caf8f6a7fff671…</td><td>&quot;KAJ&quot;</td><td>387</td><td>&quot;KAJ&quot;</td><td>5</td><td>null</td><td>&quot;2023-11-21T20:…</td><td>null</td><td>&quot;2023-11-21T20:…</td><td>null</td><td>{null,&quot;M&quot;,null,null,null,null,&quot;M1&quot;,null,null,null,null,453052490,18546952,null}</td></tr><tr><td>&quot;dd262acef95aad…</td><td>&quot;KAJ&quot;</td><td>387</td><td>&quot;KAJ&quot;</td><td>-5</td><td>-53</td><td>&quot;2023-11-21T14:…</td><td>null</td><td>&quot;2023-11-21T14:…</td><td>&quot;2023-11-21T14:…</td><td>{null,&quot;E&quot;,null,null,null,null,&quot;E2&quot;,null,null,null,null,335611978,34865416,null}</td></tr><tr><td>&quot;43bc7eaa28e8df…</td><td>&quot;KAJ&quot;</td><td>387</td><td>&quot;KAJ&quot;</td><td>18</td><td>null</td><td>&quot;2023-11-22T23:…</td><td>null</td><td>&quot;2023-11-22T23:…</td><td>null</td><td>{null,&quot;P&quot;,null,null,null,null,&quot;P1&quot;,null,&quot;P109&quot;,null,null,369166410,34996488,151131649}</td></tr><tr><td>&quot;9148202d40ffdc…</td><td>&quot;KAJ&quot;</td><td>387</td><td>&quot;KAJ&quot;</td><td>-1</td><td>11</td><td>&quot;2023-11-23T12:…</td><td>null</td><td>&quot;2023-11-23T12:…</td><td>&quot;2023-11-23T12:…</td><td>{null,&quot;L&quot;,null,null,null,null,&quot;L2&quot;,null,&quot;L201&quot;,null,null,352389194,34930952,16913665}</td></tr><tr><td>&quot;45eca2406182c2…</td><td>&quot;KAJ&quot;</td><td>387</td><td>&quot;KAJ&quot;</td><td>4</td><td>null</td><td>&quot;2023-11-23T23:…</td><td>null</td><td>&quot;2023-11-23T23:…</td><td>null</td><td>{null,&quot;M&quot;,null,null,null,null,&quot;M1&quot;,null,null,null,null,453052490,18546952,null}</td></tr><tr><td>&quot;9b1e1e47b10d37…</td><td>&quot;KAJ&quot;</td><td>387</td><td>&quot;KAJ&quot;</td><td>14</td><td>10</td><td>&quot;2023-11-23T07:…</td><td>null</td><td>&quot;2023-11-23T07:…</td><td>&quot;2023-11-23T07:…</td><td>{null,&quot;L&quot;,null,null,null,null,&quot;L2&quot;,null,&quot;L204&quot;,null,null,352389194,34930952,67245313}</td></tr><tr><td>&quot;81256a49fb533a…</td><td>&quot;KAJ&quot;</td><td>387</td><td>&quot;KAJ&quot;</td><td>-57</td><td>-57</td><td>&quot;2023-11-26T22:…</td><td>null</td><td>&quot;2023-11-26T21:…</td><td>&quot;2023-11-26T21:…</td><td>{null,&quot;E&quot;,null,null,null,null,&quot;E2&quot;,null,null,null,null,335611978,34865416,null}</td></tr><tr><td>&quot;fd68e1f163e9e3…</td><td>&quot;KAJ&quot;</td><td>387</td><td>&quot;KAJ&quot;</td><td>9</td><td>null</td><td>&quot;2023-11-27T23:…</td><td>null</td><td>&quot;2023-11-27T23:…</td><td>null</td><td>{null,&quot;T&quot;,null,null,null,null,&quot;T1&quot;,null,&quot;T102&quot;,null,null,402720842,18350344,33626113}</td></tr><tr><td>&quot;5c58b93ec50f21…</td><td>&quot;KAJ&quot;</td><td>387</td><td>&quot;KAJ&quot;</td><td>31</td><td>31</td><td>&quot;2023-11-28T15:…</td><td>null</td><td>&quot;2023-11-28T16:…</td><td>&quot;2023-11-28T16:…</td><td>{null,&quot;M&quot;,null,null,null,null,&quot;M1&quot;,null,null,null,null,453052490,18546952,null}</td></tr><tr><td>&quot;a177c577f01e1f…</td><td>&quot;KAJ&quot;</td><td>387</td><td>&quot;KAJ&quot;</td><td>8</td><td>5</td><td>&quot;2023-11-28T07:…</td><td>null</td><td>&quot;2023-11-28T07:…</td><td>&quot;2023-11-28T07:…</td><td>{null,&quot;P&quot;,null,null,null,null,&quot;P1&quot;,null,&quot;P109&quot;,null,null,369166410,34996488,151131649}</td></tr><tr><td>&quot;6ddf9757e57b45…</td><td>&quot;KAJ&quot;</td><td>387</td><td>&quot;KAJ&quot;</td><td>-1</td><td>4</td><td>&quot;2023-11-28T18:…</td><td>null</td><td>&quot;2023-11-28T18:…</td><td>&quot;2023-11-28T18:…</td><td>{null,&quot;L&quot;,null,null,null,null,&quot;L2&quot;,null,&quot;L201&quot;,null,null,352389194,34930952,16913665}</td></tr><tr><td>&quot;2fb4c0e47693bf…</td><td>&quot;KAJ&quot;</td><td>387</td><td>&quot;KAJ&quot;</td><td>3</td><td>5</td><td>&quot;2023-11-30T07:…</td><td>null</td><td>&quot;2023-11-30T07:…</td><td>&quot;2023-11-30T07:…</td><td>{null,&quot;L&quot;,null,null,null,null,&quot;L2&quot;,null,&quot;L201&quot;,null,null,352389194,34930952,16913665}</td></tr></tbody></table></div>"
      ],
      "text/plain": [
       "shape: (140, 11)\n",
       "┌───────────┬───────────┬───────────┬───────────┬───┬───────────┬───────────┬───────────┬──────────┐\n",
       "│ stop_sk   ┆ first(sta ┆ station_i ┆ station_n ┆ … ┆ departure ┆ arrival_a ┆ departure ┆ lateness │\n",
       "│ ---       ┆ tionShort ┆ d         ┆ ame       ┆   ┆ _schedule ┆ ctual     ┆ _actual   ┆ _causes_ │\n",
       "│ str       ┆ Code)     ┆ ---       ┆ ---       ┆   ┆ ---       ┆ ---       ┆ ---       ┆ new      │\n",
       "│           ┆ ---       ┆ i32       ┆ str       ┆   ┆ str       ┆ str       ┆ str       ┆ ---      │\n",
       "│           ┆ str       ┆           ┆           ┆   ┆           ┆           ┆           ┆ struct[1 │\n",
       "│           ┆           ┆           ┆           ┆   ┆           ┆           ┆           ┆ 4]       │\n",
       "╞═══════════╪═══════════╪═══════════╪═══════════╪═══╪═══════════╪═══════════╪═══════════╪══════════╡\n",
       "│ 68fa3d453 ┆ KAJ       ┆ 387       ┆ KAJ       ┆ … ┆ null      ┆ 2023-11-0 ┆ 2023-11-0 ┆ {null,\"E │\n",
       "│ 1963aaf74 ┆           ┆           ┆           ┆   ┆           ┆ 7T21:08:5 ┆ 7T21:08:5 ┆ \",null,n │\n",
       "│ 39b11964e ┆           ┆           ┆           ┆   ┆           ┆ 2.000Z    ┆ 2.000Z    ┆ ull,null │\n",
       "│ 1d13f     ┆           ┆           ┆           ┆   ┆           ┆           ┆           ┆ ,null,\"E │\n",
       "│           ┆           ┆           ┆           ┆   ┆           ┆           ┆           ┆ …        │\n",
       "│ 48dcbc0a6 ┆ KAJ       ┆ 387       ┆ KAJ       ┆ … ┆ null      ┆ 2023-11-1 ┆ 2023-11-1 ┆ {null,\"T │\n",
       "│ d855b05c2 ┆           ┆           ┆           ┆   ┆           ┆ 1T07:14:4 ┆ 1T07:19:1 ┆ \",null,n │\n",
       "│ da9a61265 ┆           ┆           ┆           ┆   ┆           ┆ 6.000Z    ┆ 5.000Z    ┆ ull,null │\n",
       "│ 7f386     ┆           ┆           ┆           ┆   ┆           ┆           ┆           ┆ ,null,\"T │\n",
       "│           ┆           ┆           ┆           ┆   ┆           ┆           ┆           ┆ …        │\n",
       "│ b9d0517f0 ┆ KAJ       ┆ 387       ┆ KAJ       ┆ … ┆ null      ┆ 2023-11-1 ┆ 2023-11-1 ┆ {null,\"E │\n",
       "│ 2a969ab93 ┆           ┆           ┆           ┆   ┆           ┆ 3T22:06:1 ┆ 3T22:06:1 ┆ \",null,n │\n",
       "│ e346a4659 ┆           ┆           ┆           ┆   ┆           ┆ 6.000Z    ┆ 6.000Z    ┆ ull,null │\n",
       "│ 5f4ef     ┆           ┆           ┆           ┆   ┆           ┆           ┆           ┆ ,null,\"E │\n",
       "│           ┆           ┆           ┆           ┆   ┆           ┆           ┆           ┆ …        │\n",
       "│ 282822f91 ┆ KAJ       ┆ 387       ┆ KAJ       ┆ … ┆ null      ┆ 2023-11-1 ┆ 2023-11-1 ┆ {null,\"L │\n",
       "│ 17d5bd259 ┆           ┆           ┆           ┆   ┆           ┆ 4T12:31:4 ┆ 4T12:33:1 ┆ \",null,n │\n",
       "│ 76e021c4b ┆           ┆           ┆           ┆   ┆           ┆ 5.000Z    ┆ 0.000Z    ┆ ull,null │\n",
       "│ ca4d0     ┆           ┆           ┆           ┆   ┆           ┆           ┆           ┆ ,null,\"L │\n",
       "│           ┆           ┆           ┆           ┆   ┆           ┆           ┆           ┆ …        │\n",
       "│ …         ┆ …         ┆ …         ┆ …         ┆ … ┆ …         ┆ …         ┆ …         ┆ …        │\n",
       "│ 5c58b93ec ┆ KAJ       ┆ 387       ┆ KAJ       ┆ … ┆ null      ┆ 2023-11-2 ┆ 2023-11-2 ┆ {null,\"M │\n",
       "│ 50f21c0d0 ┆           ┆           ┆           ┆   ┆           ┆ 8T16:03:0 ┆ 8T16:06:3 ┆ \",null,n │\n",
       "│ ae1e12b5f ┆           ┆           ┆           ┆   ┆           ┆ 0.000Z    ┆ 5.000Z    ┆ ull,null │\n",
       "│ 85013     ┆           ┆           ┆           ┆   ┆           ┆           ┆           ┆ ,null,\"M │\n",
       "│           ┆           ┆           ┆           ┆   ┆           ┆           ┆           ┆ …        │\n",
       "│ a177c577f ┆ KAJ       ┆ 387       ┆ KAJ       ┆ … ┆ null      ┆ 2023-11-2 ┆ 2023-11-2 ┆ {null,\"P │\n",
       "│ 01e1fec69 ┆           ┆           ┆           ┆   ┆           ┆ 8T07:25:2 ┆ 8T07:28:2 ┆ \",null,n │\n",
       "│ 6987b105c ┆           ┆           ┆           ┆   ┆           ┆ 6.000Z    ┆ 4.000Z    ┆ ull,null │\n",
       "│ dccbd     ┆           ┆           ┆           ┆   ┆           ┆           ┆           ┆ ,null,\"P │\n",
       "│           ┆           ┆           ┆           ┆   ┆           ┆           ┆           ┆ …        │\n",
       "│ 6ddf9757e ┆ KAJ       ┆ 387       ┆ KAJ       ┆ … ┆ null      ┆ 2023-11-2 ┆ 2023-11-2 ┆ {null,\"L │\n",
       "│ 57b45ba25 ┆           ┆           ┆           ┆   ┆           ┆ 8T18:29:4 ┆ 8T18:40:4 ┆ \",null,n │\n",
       "│ 167feb408 ┆           ┆           ┆           ┆   ┆           ┆ 9.000Z    ┆ 3.000Z    ┆ ull,null │\n",
       "│ e4c22     ┆           ┆           ┆           ┆   ┆           ┆           ┆           ┆ ,null,\"L │\n",
       "│           ┆           ┆           ┆           ┆   ┆           ┆           ┆           ┆ …        │\n",
       "│ 2fb4c0e47 ┆ KAJ       ┆ 387       ┆ KAJ       ┆ … ┆ null      ┆ 2023-11-3 ┆ 2023-11-3 ┆ {null,\"L │\n",
       "│ 693bfc718 ┆           ┆           ┆           ┆   ┆           ┆ 0T07:14:0 ┆ 0T07:21:3 ┆ \",null,n │\n",
       "│ f7dae79ef ┆           ┆           ┆           ┆   ┆           ┆ 0.000Z    ┆ 1.000Z    ┆ ull,null │\n",
       "│ 06e86     ┆           ┆           ┆           ┆   ┆           ┆           ┆           ┆ ,null,\"L │\n",
       "│           ┆           ┆           ┆           ┆   ┆           ┆           ┆           ┆ …        │\n",
       "└───────────┴───────────┴───────────┴───────────┴───┴───────────┴───────────┴───────────┴──────────┘"
      ]
     },
     "execution_count": 84,
     "metadata": {},
     "output_type": "execute_result"
    }
   ],
   "source": [
    "sql(\"\"\"\n",
    "    WITH gold_exploded AS (\n",
    "    SELECT * EXCLUDE (lateness_causes),\n",
    "        UNNEST(lateness_causes) as lateness_causes_new\n",
    "    FROM medallion_silver.method_b_silvertrain\n",
    "    WHERE station_name LIKE 'KAJ'\n",
    ")\n",
    "    \n",
    "SELECT * FROM gold_exploded;\n",
    "\"\"\")"
   ]
  },
  {
   "cell_type": "code",
   "execution_count": 81,
   "metadata": {},
   "outputs": [
    {
     "data": {
      "text/html": [
       "<div><style>\n",
       ".dataframe > thead > tr,\n",
       ".dataframe > tbody > tr {\n",
       "  text-align: right;\n",
       "  white-space: pre-wrap;\n",
       "}\n",
       "</style>\n",
       "<small>shape: (140, 26)</small><table border=\"1\" class=\"dataframe\"><thead><tr><th>stop_sk</th><th>first(stationShortCode)</th><th>station_id</th><th>station_name</th><th>arrival_lateness</th><th>departure_lateness</th><th>arrival_schedule</th><th>departure_schedule</th><th>arrival_actual</th><th>departure_actual</th><th>lateness_causes_new</th><th>lateness_rows</th><th>passengerTerm</th><th>categoryCode</th><th>categoryName</th><th>validFrom</th><th>validTo</th><th>id</th><th>detailedCategoryCode</th><th>detailedCategoryName</th><th>thirdCategoryCode</th><th>thirdCategoryName</th><th>description</th><th>categoryCodeId</th><th>detailedCategoryCodeId</th><th>thirdCategoryCodeId</th></tr><tr><td>str</td><td>str</td><td>i32</td><td>str</td><td>i32</td><td>i32</td><td>str</td><td>str</td><td>str</td><td>str</td><td>struct[14]</td><td>struct[14]</td><td>str</td><td>str</td><td>str</td><td>str</td><td>str</td><td>i32</td><td>str</td><td>str</td><td>str</td><td>str</td><td>str</td><td>i32</td><td>i32</td><td>i32</td></tr></thead><tbody><tr><td>&quot;68fa3d4531963a…</td><td>&quot;KAJ&quot;</td><td>387</td><td>&quot;KAJ&quot;</td><td>-96</td><td>-96</td><td>&quot;2023-11-07T22:…</td><td>null</td><td>&quot;2023-11-07T21:…</td><td>&quot;2023-11-07T21:…</td><td>{null,&quot;E&quot;,null,null,null,null,&quot;E2&quot;,null,null,null,null,335611978,34865416,null}</td><td>{null,&quot;E&quot;,null,null,null,null,&quot;E2&quot;,null,null,null,null,335611978,34865416,null}</td><td>null</td><td>&quot;E&quot;</td><td>null</td><td>null</td><td>null</td><td>null</td><td>&quot;E2&quot;</td><td>null</td><td>null</td><td>null</td><td>null</td><td>335611978</td><td>34865416</td><td>null</td></tr><tr><td>&quot;48dcbc0a6d855b…</td><td>&quot;KAJ&quot;</td><td>387</td><td>&quot;KAJ&quot;</td><td>4</td><td>2</td><td>&quot;2023-11-11T07:…</td><td>null</td><td>&quot;2023-11-11T07:…</td><td>&quot;2023-11-11T07:…</td><td>{null,&quot;T&quot;,null,null,null,null,&quot;T1&quot;,null,&quot;T102&quot;,null,null,402720842,18350344,33626113}</td><td>{null,&quot;T&quot;,null,null,null,null,&quot;T1&quot;,null,&quot;T102&quot;,null,null,402720842,18350344,33626113}</td><td>null</td><td>&quot;T&quot;</td><td>null</td><td>null</td><td>null</td><td>null</td><td>&quot;T1&quot;</td><td>null</td><td>&quot;T102&quot;</td><td>null</td><td>null</td><td>402720842</td><td>18350344</td><td>33626113</td></tr><tr><td>&quot;b9d0517f02a969…</td><td>&quot;KAJ&quot;</td><td>387</td><td>&quot;KAJ&quot;</td><td>-39</td><td>-39</td><td>&quot;2023-11-13T22:…</td><td>null</td><td>&quot;2023-11-13T22:…</td><td>&quot;2023-11-13T22:…</td><td>{null,&quot;E&quot;,null,null,null,null,&quot;E1&quot;,null,null,null,null,335611978,18088200,null}</td><td>{null,&quot;E&quot;,null,null,null,null,&quot;E1&quot;,null,null,null,null,335611978,18088200,null}</td><td>null</td><td>&quot;E&quot;</td><td>null</td><td>null</td><td>null</td><td>null</td><td>&quot;E1&quot;</td><td>null</td><td>null</td><td>null</td><td>null</td><td>335611978</td><td>18088200</td><td>null</td></tr><tr><td>&quot;282822f9117d5b…</td><td>&quot;KAJ&quot;</td><td>387</td><td>&quot;KAJ&quot;</td><td>4</td><td>1</td><td>&quot;2023-11-14T12:…</td><td>null</td><td>&quot;2023-11-14T12:…</td><td>&quot;2023-11-14T12:…</td><td>{null,&quot;L&quot;,null,null,null,null,&quot;L2&quot;,null,&quot;L204&quot;,null,null,352389194,34930952,67245313}</td><td>{null,&quot;L&quot;,null,null,null,null,&quot;L2&quot;,null,&quot;L204&quot;,null,null,352389194,34930952,67245313}</td><td>null</td><td>&quot;L&quot;</td><td>null</td><td>null</td><td>null</td><td>null</td><td>&quot;L2&quot;</td><td>null</td><td>&quot;L204&quot;</td><td>null</td><td>null</td><td>352389194</td><td>34930952</td><td>67245313</td></tr><tr><td>&quot;ed3f2c2dc5c6ec…</td><td>&quot;KAJ&quot;</td><td>387</td><td>&quot;KAJ&quot;</td><td>-36</td><td>-36</td><td>&quot;2023-11-14T22:…</td><td>null</td><td>&quot;2023-11-14T22:…</td><td>&quot;2023-11-14T22:…</td><td>{null,&quot;E&quot;,null,null,null,null,&quot;E2&quot;,null,null,null,null,335611978,34865416,null}</td><td>{null,&quot;E&quot;,null,null,null,null,&quot;E2&quot;,null,null,null,null,335611978,34865416,null}</td><td>null</td><td>&quot;E&quot;</td><td>null</td><td>null</td><td>null</td><td>null</td><td>&quot;E2&quot;</td><td>null</td><td>null</td><td>null</td><td>null</td><td>335611978</td><td>34865416</td><td>null</td></tr><tr><td>&quot;e91492b589ad0d…</td><td>&quot;KAJ&quot;</td><td>387</td><td>&quot;KAJ&quot;</td><td>-29</td><td>-29</td><td>&quot;2023-11-15T17:…</td><td>null</td><td>&quot;2023-11-15T16:…</td><td>&quot;2023-11-15T16:…</td><td>{null,&quot;E&quot;,null,null,null,null,&quot;E2&quot;,null,null,null,null,335611978,34865416,null}</td><td>{null,&quot;E&quot;,null,null,null,null,&quot;E2&quot;,null,null,null,null,335611978,34865416,null}</td><td>null</td><td>&quot;E&quot;</td><td>null</td><td>null</td><td>null</td><td>null</td><td>&quot;E2&quot;</td><td>null</td><td>null</td><td>null</td><td>null</td><td>335611978</td><td>34865416</td><td>null</td></tr><tr><td>&quot;9837f1122190ba…</td><td>&quot;KAJ&quot;</td><td>387</td><td>&quot;KAJ&quot;</td><td>8</td><td>6</td><td>&quot;2023-11-17T15:…</td><td>null</td><td>&quot;2023-11-17T15:…</td><td>&quot;2023-11-17T15:…</td><td>{null,&quot;M&quot;,null,null,null,null,&quot;M1&quot;,null,null,null,null,453052490,18546952,null}</td><td>{null,&quot;M&quot;,null,null,null,null,&quot;M1&quot;,null,null,null,null,453052490,18546952,null}</td><td>null</td><td>&quot;M&quot;</td><td>null</td><td>null</td><td>null</td><td>null</td><td>&quot;M1&quot;</td><td>null</td><td>null</td><td>null</td><td>null</td><td>453052490</td><td>18546952</td><td>null</td></tr><tr><td>&quot;a6782aabcc40cf…</td><td>&quot;KAJ&quot;</td><td>387</td><td>&quot;KAJ&quot;</td><td>5</td><td>null</td><td>&quot;2023-11-17T23:…</td><td>null</td><td>&quot;2023-11-17T23:…</td><td>null</td><td>{null,&quot;L&quot;,null,null,null,null,&quot;L2&quot;,null,&quot;L201&quot;,null,null,352389194,34930952,16913665}</td><td>{null,&quot;L&quot;,null,null,null,null,&quot;L2&quot;,null,&quot;L201&quot;,null,null,352389194,34930952,16913665}</td><td>null</td><td>&quot;L&quot;</td><td>null</td><td>null</td><td>null</td><td>null</td><td>&quot;L2&quot;</td><td>null</td><td>&quot;L201&quot;</td><td>null</td><td>null</td><td>352389194</td><td>34930952</td><td>16913665</td></tr><tr><td>&quot;22d11be81f7d52…</td><td>&quot;KAJ&quot;</td><td>387</td><td>&quot;KAJ&quot;</td><td>5</td><td>3</td><td>&quot;2023-11-17T12:…</td><td>null</td><td>&quot;2023-11-17T12:…</td><td>&quot;2023-11-17T12:…</td><td>{null,&quot;M&quot;,null,null,null,null,&quot;M1&quot;,null,null,null,null,453052490,18546952,null}</td><td>{null,&quot;M&quot;,null,null,null,null,&quot;M1&quot;,null,null,null,null,453052490,18546952,null}</td><td>null</td><td>&quot;M&quot;</td><td>null</td><td>null</td><td>null</td><td>null</td><td>&quot;M1&quot;</td><td>null</td><td>null</td><td>null</td><td>null</td><td>453052490</td><td>18546952</td><td>null</td></tr><tr><td>&quot;45c96db2febb59…</td><td>&quot;KAJ&quot;</td><td>387</td><td>&quot;KAJ&quot;</td><td>-26</td><td>-18</td><td>&quot;2023-11-17T22:…</td><td>null</td><td>&quot;2023-11-17T22:…</td><td>&quot;2023-11-17T22:…</td><td>{null,&quot;E&quot;,null,null,null,null,&quot;E2&quot;,null,null,null,null,335611978,34865416,null}</td><td>{null,&quot;E&quot;,null,null,null,null,&quot;E2&quot;,null,null,null,null,335611978,34865416,null}</td><td>null</td><td>&quot;E&quot;</td><td>null</td><td>null</td><td>null</td><td>null</td><td>&quot;E2&quot;</td><td>null</td><td>null</td><td>null</td><td>null</td><td>335611978</td><td>34865416</td><td>null</td></tr><tr><td>&quot;6a0864adcaaf12…</td><td>&quot;KAJ&quot;</td><td>387</td><td>&quot;KAJ&quot;</td><td>6</td><td>4</td><td>&quot;2023-11-20T07:…</td><td>null</td><td>&quot;2023-11-20T07:…</td><td>&quot;2023-11-20T07:…</td><td>{null,&quot;L&quot;,null,null,null,null,&quot;L2&quot;,null,&quot;L201&quot;,null,null,352389194,34930952,16913665}</td><td>{null,&quot;L&quot;,null,null,null,null,&quot;L2&quot;,null,&quot;L201&quot;,null,null,352389194,34930952,16913665}</td><td>null</td><td>&quot;L&quot;</td><td>null</td><td>null</td><td>null</td><td>null</td><td>&quot;L2&quot;</td><td>null</td><td>&quot;L201&quot;</td><td>null</td><td>null</td><td>352389194</td><td>34930952</td><td>16913665</td></tr><tr><td>&quot;28e45d6ae4c4bd…</td><td>&quot;KAJ&quot;</td><td>387</td><td>&quot;KAJ&quot;</td><td>17</td><td>17</td><td>&quot;2023-11-23T22:…</td><td>null</td><td>&quot;2023-11-23T22:…</td><td>&quot;2023-11-23T22:…</td><td>{null,&quot;J&quot;,null,null,null,null,&quot;J1&quot;,null,null,null,null,268503114,34603272,null}</td><td>{null,&quot;J&quot;,null,null,null,null,&quot;J1&quot;,null,null,null,null,268503114,34603272,null}</td><td>null</td><td>&quot;J&quot;</td><td>null</td><td>null</td><td>null</td><td>null</td><td>&quot;J1&quot;</td><td>null</td><td>null</td><td>null</td><td>null</td><td>268503114</td><td>34603272</td><td>null</td></tr><tr><td>&hellip;</td><td>&hellip;</td><td>&hellip;</td><td>&hellip;</td><td>&hellip;</td><td>&hellip;</td><td>&hellip;</td><td>&hellip;</td><td>&hellip;</td><td>&hellip;</td><td>&hellip;</td><td>&hellip;</td><td>&hellip;</td><td>&hellip;</td><td>&hellip;</td><td>&hellip;</td><td>&hellip;</td><td>&hellip;</td><td>&hellip;</td><td>&hellip;</td><td>&hellip;</td><td>&hellip;</td><td>&hellip;</td><td>&hellip;</td><td>&hellip;</td><td>&hellip;</td></tr><tr><td>&quot;caf8f6a7fff671…</td><td>&quot;KAJ&quot;</td><td>387</td><td>&quot;KAJ&quot;</td><td>5</td><td>null</td><td>&quot;2023-11-21T20:…</td><td>null</td><td>&quot;2023-11-21T20:…</td><td>null</td><td>{null,&quot;M&quot;,null,null,null,null,&quot;M1&quot;,null,null,null,null,453052490,18546952,null}</td><td>{null,&quot;M&quot;,null,null,null,null,&quot;M1&quot;,null,null,null,null,453052490,18546952,null}</td><td>null</td><td>&quot;M&quot;</td><td>null</td><td>null</td><td>null</td><td>null</td><td>&quot;M1&quot;</td><td>null</td><td>null</td><td>null</td><td>null</td><td>453052490</td><td>18546952</td><td>null</td></tr><tr><td>&quot;dd262acef95aad…</td><td>&quot;KAJ&quot;</td><td>387</td><td>&quot;KAJ&quot;</td><td>-5</td><td>-53</td><td>&quot;2023-11-21T14:…</td><td>null</td><td>&quot;2023-11-21T14:…</td><td>&quot;2023-11-21T14:…</td><td>{null,&quot;E&quot;,null,null,null,null,&quot;E2&quot;,null,null,null,null,335611978,34865416,null}</td><td>{null,&quot;E&quot;,null,null,null,null,&quot;E2&quot;,null,null,null,null,335611978,34865416,null}</td><td>null</td><td>&quot;E&quot;</td><td>null</td><td>null</td><td>null</td><td>null</td><td>&quot;E2&quot;</td><td>null</td><td>null</td><td>null</td><td>null</td><td>335611978</td><td>34865416</td><td>null</td></tr><tr><td>&quot;43bc7eaa28e8df…</td><td>&quot;KAJ&quot;</td><td>387</td><td>&quot;KAJ&quot;</td><td>18</td><td>null</td><td>&quot;2023-11-22T23:…</td><td>null</td><td>&quot;2023-11-22T23:…</td><td>null</td><td>{null,&quot;P&quot;,null,null,null,null,&quot;P1&quot;,null,&quot;P109&quot;,null,null,369166410,34996488,151131649}</td><td>{null,&quot;P&quot;,null,null,null,null,&quot;P1&quot;,null,&quot;P109&quot;,null,null,369166410,34996488,151131649}</td><td>null</td><td>&quot;P&quot;</td><td>null</td><td>null</td><td>null</td><td>null</td><td>&quot;P1&quot;</td><td>null</td><td>&quot;P109&quot;</td><td>null</td><td>null</td><td>369166410</td><td>34996488</td><td>151131649</td></tr><tr><td>&quot;9148202d40ffdc…</td><td>&quot;KAJ&quot;</td><td>387</td><td>&quot;KAJ&quot;</td><td>-1</td><td>11</td><td>&quot;2023-11-23T12:…</td><td>null</td><td>&quot;2023-11-23T12:…</td><td>&quot;2023-11-23T12:…</td><td>{null,&quot;L&quot;,null,null,null,null,&quot;L2&quot;,null,&quot;L201&quot;,null,null,352389194,34930952,16913665}</td><td>{null,&quot;L&quot;,null,null,null,null,&quot;L2&quot;,null,&quot;L201&quot;,null,null,352389194,34930952,16913665}</td><td>null</td><td>&quot;L&quot;</td><td>null</td><td>null</td><td>null</td><td>null</td><td>&quot;L2&quot;</td><td>null</td><td>&quot;L201&quot;</td><td>null</td><td>null</td><td>352389194</td><td>34930952</td><td>16913665</td></tr><tr><td>&quot;45eca2406182c2…</td><td>&quot;KAJ&quot;</td><td>387</td><td>&quot;KAJ&quot;</td><td>4</td><td>null</td><td>&quot;2023-11-23T23:…</td><td>null</td><td>&quot;2023-11-23T23:…</td><td>null</td><td>{null,&quot;M&quot;,null,null,null,null,&quot;M1&quot;,null,null,null,null,453052490,18546952,null}</td><td>{null,&quot;M&quot;,null,null,null,null,&quot;M1&quot;,null,null,null,null,453052490,18546952,null}</td><td>null</td><td>&quot;M&quot;</td><td>null</td><td>null</td><td>null</td><td>null</td><td>&quot;M1&quot;</td><td>null</td><td>null</td><td>null</td><td>null</td><td>453052490</td><td>18546952</td><td>null</td></tr><tr><td>&quot;9b1e1e47b10d37…</td><td>&quot;KAJ&quot;</td><td>387</td><td>&quot;KAJ&quot;</td><td>14</td><td>10</td><td>&quot;2023-11-23T07:…</td><td>null</td><td>&quot;2023-11-23T07:…</td><td>&quot;2023-11-23T07:…</td><td>{null,&quot;L&quot;,null,null,null,null,&quot;L2&quot;,null,&quot;L204&quot;,null,null,352389194,34930952,67245313}</td><td>{null,&quot;L&quot;,null,null,null,null,&quot;L2&quot;,null,&quot;L204&quot;,null,null,352389194,34930952,67245313}</td><td>null</td><td>&quot;L&quot;</td><td>null</td><td>null</td><td>null</td><td>null</td><td>&quot;L2&quot;</td><td>null</td><td>&quot;L204&quot;</td><td>null</td><td>null</td><td>352389194</td><td>34930952</td><td>67245313</td></tr><tr><td>&quot;81256a49fb533a…</td><td>&quot;KAJ&quot;</td><td>387</td><td>&quot;KAJ&quot;</td><td>-57</td><td>-57</td><td>&quot;2023-11-26T22:…</td><td>null</td><td>&quot;2023-11-26T21:…</td><td>&quot;2023-11-26T21:…</td><td>{null,&quot;E&quot;,null,null,null,null,&quot;E2&quot;,null,null,null,null,335611978,34865416,null}</td><td>{null,&quot;E&quot;,null,null,null,null,&quot;E2&quot;,null,null,null,null,335611978,34865416,null}</td><td>null</td><td>&quot;E&quot;</td><td>null</td><td>null</td><td>null</td><td>null</td><td>&quot;E2&quot;</td><td>null</td><td>null</td><td>null</td><td>null</td><td>335611978</td><td>34865416</td><td>null</td></tr><tr><td>&quot;fd68e1f163e9e3…</td><td>&quot;KAJ&quot;</td><td>387</td><td>&quot;KAJ&quot;</td><td>9</td><td>null</td><td>&quot;2023-11-27T23:…</td><td>null</td><td>&quot;2023-11-27T23:…</td><td>null</td><td>{null,&quot;T&quot;,null,null,null,null,&quot;T1&quot;,null,&quot;T102&quot;,null,null,402720842,18350344,33626113}</td><td>{null,&quot;T&quot;,null,null,null,null,&quot;T1&quot;,null,&quot;T102&quot;,null,null,402720842,18350344,33626113}</td><td>null</td><td>&quot;T&quot;</td><td>null</td><td>null</td><td>null</td><td>null</td><td>&quot;T1&quot;</td><td>null</td><td>&quot;T102&quot;</td><td>null</td><td>null</td><td>402720842</td><td>18350344</td><td>33626113</td></tr><tr><td>&quot;5c58b93ec50f21…</td><td>&quot;KAJ&quot;</td><td>387</td><td>&quot;KAJ&quot;</td><td>31</td><td>31</td><td>&quot;2023-11-28T15:…</td><td>null</td><td>&quot;2023-11-28T16:…</td><td>&quot;2023-11-28T16:…</td><td>{null,&quot;M&quot;,null,null,null,null,&quot;M1&quot;,null,null,null,null,453052490,18546952,null}</td><td>{null,&quot;M&quot;,null,null,null,null,&quot;M1&quot;,null,null,null,null,453052490,18546952,null}</td><td>null</td><td>&quot;M&quot;</td><td>null</td><td>null</td><td>null</td><td>null</td><td>&quot;M1&quot;</td><td>null</td><td>null</td><td>null</td><td>null</td><td>453052490</td><td>18546952</td><td>null</td></tr><tr><td>&quot;a177c577f01e1f…</td><td>&quot;KAJ&quot;</td><td>387</td><td>&quot;KAJ&quot;</td><td>8</td><td>5</td><td>&quot;2023-11-28T07:…</td><td>null</td><td>&quot;2023-11-28T07:…</td><td>&quot;2023-11-28T07:…</td><td>{null,&quot;P&quot;,null,null,null,null,&quot;P1&quot;,null,&quot;P109&quot;,null,null,369166410,34996488,151131649}</td><td>{null,&quot;P&quot;,null,null,null,null,&quot;P1&quot;,null,&quot;P109&quot;,null,null,369166410,34996488,151131649}</td><td>null</td><td>&quot;P&quot;</td><td>null</td><td>null</td><td>null</td><td>null</td><td>&quot;P1&quot;</td><td>null</td><td>&quot;P109&quot;</td><td>null</td><td>null</td><td>369166410</td><td>34996488</td><td>151131649</td></tr><tr><td>&quot;6ddf9757e57b45…</td><td>&quot;KAJ&quot;</td><td>387</td><td>&quot;KAJ&quot;</td><td>-1</td><td>4</td><td>&quot;2023-11-28T18:…</td><td>null</td><td>&quot;2023-11-28T18:…</td><td>&quot;2023-11-28T18:…</td><td>{null,&quot;L&quot;,null,null,null,null,&quot;L2&quot;,null,&quot;L201&quot;,null,null,352389194,34930952,16913665}</td><td>{null,&quot;L&quot;,null,null,null,null,&quot;L2&quot;,null,&quot;L201&quot;,null,null,352389194,34930952,16913665}</td><td>null</td><td>&quot;L&quot;</td><td>null</td><td>null</td><td>null</td><td>null</td><td>&quot;L2&quot;</td><td>null</td><td>&quot;L201&quot;</td><td>null</td><td>null</td><td>352389194</td><td>34930952</td><td>16913665</td></tr><tr><td>&quot;2fb4c0e47693bf…</td><td>&quot;KAJ&quot;</td><td>387</td><td>&quot;KAJ&quot;</td><td>3</td><td>5</td><td>&quot;2023-11-30T07:…</td><td>null</td><td>&quot;2023-11-30T07:…</td><td>&quot;2023-11-30T07:…</td><td>{null,&quot;L&quot;,null,null,null,null,&quot;L2&quot;,null,&quot;L201&quot;,null,null,352389194,34930952,16913665}</td><td>{null,&quot;L&quot;,null,null,null,null,&quot;L2&quot;,null,&quot;L201&quot;,null,null,352389194,34930952,16913665}</td><td>null</td><td>&quot;L&quot;</td><td>null</td><td>null</td><td>null</td><td>null</td><td>&quot;L2&quot;</td><td>null</td><td>&quot;L201&quot;</td><td>null</td><td>null</td><td>352389194</td><td>34930952</td><td>16913665</td></tr></tbody></table></div>"
      ],
      "text/plain": [
       "shape: (140, 26)\n",
       "┌───────────┬───────────┬───────────┬───────────┬───┬───────────┬───────────┬───────────┬──────────┐\n",
       "│ stop_sk   ┆ first(sta ┆ station_i ┆ station_n ┆ … ┆ descripti ┆ categoryC ┆ detailedC ┆ thirdCat │\n",
       "│ ---       ┆ tionShort ┆ d         ┆ ame       ┆   ┆ on        ┆ odeId     ┆ ategoryCo ┆ egoryCod │\n",
       "│ str       ┆ Code)     ┆ ---       ┆ ---       ┆   ┆ ---       ┆ ---       ┆ deId      ┆ eId      │\n",
       "│           ┆ ---       ┆ i32       ┆ str       ┆   ┆ str       ┆ i32       ┆ ---       ┆ ---      │\n",
       "│           ┆ str       ┆           ┆           ┆   ┆           ┆           ┆ i32       ┆ i32      │\n",
       "╞═══════════╪═══════════╪═══════════╪═══════════╪═══╪═══════════╪═══════════╪═══════════╪══════════╡\n",
       "│ 68fa3d453 ┆ KAJ       ┆ 387       ┆ KAJ       ┆ … ┆ null      ┆ 335611978 ┆ 34865416  ┆ null     │\n",
       "│ 1963aaf74 ┆           ┆           ┆           ┆   ┆           ┆           ┆           ┆          │\n",
       "│ 39b11964e ┆           ┆           ┆           ┆   ┆           ┆           ┆           ┆          │\n",
       "│ 1d13f     ┆           ┆           ┆           ┆   ┆           ┆           ┆           ┆          │\n",
       "│ 48dcbc0a6 ┆ KAJ       ┆ 387       ┆ KAJ       ┆ … ┆ null      ┆ 402720842 ┆ 18350344  ┆ 33626113 │\n",
       "│ d855b05c2 ┆           ┆           ┆           ┆   ┆           ┆           ┆           ┆          │\n",
       "│ da9a61265 ┆           ┆           ┆           ┆   ┆           ┆           ┆           ┆          │\n",
       "│ 7f386     ┆           ┆           ┆           ┆   ┆           ┆           ┆           ┆          │\n",
       "│ b9d0517f0 ┆ KAJ       ┆ 387       ┆ KAJ       ┆ … ┆ null      ┆ 335611978 ┆ 18088200  ┆ null     │\n",
       "│ 2a969ab93 ┆           ┆           ┆           ┆   ┆           ┆           ┆           ┆          │\n",
       "│ e346a4659 ┆           ┆           ┆           ┆   ┆           ┆           ┆           ┆          │\n",
       "│ 5f4ef     ┆           ┆           ┆           ┆   ┆           ┆           ┆           ┆          │\n",
       "│ 282822f91 ┆ KAJ       ┆ 387       ┆ KAJ       ┆ … ┆ null      ┆ 352389194 ┆ 34930952  ┆ 67245313 │\n",
       "│ 17d5bd259 ┆           ┆           ┆           ┆   ┆           ┆           ┆           ┆          │\n",
       "│ 76e021c4b ┆           ┆           ┆           ┆   ┆           ┆           ┆           ┆          │\n",
       "│ ca4d0     ┆           ┆           ┆           ┆   ┆           ┆           ┆           ┆          │\n",
       "│ …         ┆ …         ┆ …         ┆ …         ┆ … ┆ …         ┆ …         ┆ …         ┆ …        │\n",
       "│ 5c58b93ec ┆ KAJ       ┆ 387       ┆ KAJ       ┆ … ┆ null      ┆ 453052490 ┆ 18546952  ┆ null     │\n",
       "│ 50f21c0d0 ┆           ┆           ┆           ┆   ┆           ┆           ┆           ┆          │\n",
       "│ ae1e12b5f ┆           ┆           ┆           ┆   ┆           ┆           ┆           ┆          │\n",
       "│ 85013     ┆           ┆           ┆           ┆   ┆           ┆           ┆           ┆          │\n",
       "│ a177c577f ┆ KAJ       ┆ 387       ┆ KAJ       ┆ … ┆ null      ┆ 369166410 ┆ 34996488  ┆ 15113164 │\n",
       "│ 01e1fec69 ┆           ┆           ┆           ┆   ┆           ┆           ┆           ┆ 9        │\n",
       "│ 6987b105c ┆           ┆           ┆           ┆   ┆           ┆           ┆           ┆          │\n",
       "│ dccbd     ┆           ┆           ┆           ┆   ┆           ┆           ┆           ┆          │\n",
       "│ 6ddf9757e ┆ KAJ       ┆ 387       ┆ KAJ       ┆ … ┆ null      ┆ 352389194 ┆ 34930952  ┆ 16913665 │\n",
       "│ 57b45ba25 ┆           ┆           ┆           ┆   ┆           ┆           ┆           ┆          │\n",
       "│ 167feb408 ┆           ┆           ┆           ┆   ┆           ┆           ┆           ┆          │\n",
       "│ e4c22     ┆           ┆           ┆           ┆   ┆           ┆           ┆           ┆          │\n",
       "│ 2fb4c0e47 ┆ KAJ       ┆ 387       ┆ KAJ       ┆ … ┆ null      ┆ 352389194 ┆ 34930952  ┆ 16913665 │\n",
       "│ 693bfc718 ┆           ┆           ┆           ┆   ┆           ┆           ┆           ┆          │\n",
       "│ f7dae79ef ┆           ┆           ┆           ┆   ┆           ┆           ┆           ┆          │\n",
       "│ 06e86     ┆           ┆           ┆           ┆   ┆           ┆           ┆           ┆          │\n",
       "└───────────┴───────────┴───────────┴───────────┴───┴───────────┴───────────┴───────────┴──────────┘"
      ]
     },
     "execution_count": 81,
     "metadata": {},
     "output_type": "execute_result"
    }
   ],
   "source": [
    "sql(\"\"\"\n",
    "    WITH gold_exploded AS (\n",
    "    SELECT * EXCLUDE (lateness_causes),\n",
    "        UNNEST(lateness_causes) as lateness_causes_new\n",
    "    FROM medallion_silver.method_b_silvertrain\n",
    "    WHERE station_name LIKE 'KAJ'\n",
    "),\n",
    "defined_causes AS (\n",
    "    SELECT *,\n",
    "        lateness_causes_new::STRUCT(\n",
    "            passengerTerm STRING, \n",
    "            categoryCode STRING, \n",
    "            categoryName STRING, \n",
    "            validFrom STRING,\n",
    "            validTo STRING, \n",
    "            id INT, \n",
    "            detailedCategoryCode STRING, \n",
    "            detailedCategoryName STRING,\n",
    "            thirdCategoryCode STRING, \n",
    "            thirdCategoryName STRING, \n",
    "            description STRING,\n",
    "            categoryCodeId INT, \n",
    "            detailedCategoryCodeId INT, \n",
    "            thirdCategoryCodeId INT\n",
    "        ) as lateness_rows\n",
    "    FROM gold_exploded\n",
    "),\n",
    "gold_lateness AS (\n",
    "    SELECT *,\n",
    "        lateness_rows.*\n",
    "    FROM defined_causes\n",
    ")\n",
    "SELECT * FROM gold_lateness;\n",
    "\"\"\")\n"
   ]
  },
  {
   "cell_type": "code",
   "execution_count": 79,
   "metadata": {},
   "outputs": [
    {
     "ename": "ParserException",
     "evalue": "Parser Error: syntax error at or near \"gold_lateness\"\nLINE 29: gold_lateness AS (\n         ^",
     "output_type": "error",
     "traceback": [
      "\u001b[0;31m---------------------------------------------------------------------------\u001b[0m",
      "\u001b[0;31mParserException\u001b[0m                           Traceback (most recent call last)",
      "Cell \u001b[0;32mIn[79], line 1\u001b[0m\n\u001b[0;32m----> 1\u001b[0m \u001b[43msql\u001b[49m\u001b[43m(\u001b[49m\u001b[38;5;124;43m\"\"\"\u001b[39;49m\n\u001b[1;32m      2\u001b[0m \u001b[38;5;124;43mWITH gold_exploded AS (\u001b[39;49m\n\u001b[1;32m      3\u001b[0m \u001b[38;5;124;43m    SELECT * EXCLUDE (lateness_causes),\u001b[39;49m\n\u001b[1;32m      4\u001b[0m \u001b[38;5;124;43m        UNNEST(lateness_causes) as lateness_causes_new\u001b[39;49m\n\u001b[1;32m      5\u001b[0m \n\u001b[1;32m      6\u001b[0m \u001b[38;5;124;43m    FROM medallion_silver.method_b_silvertrain\u001b[39;49m\n\u001b[1;32m      7\u001b[0m \u001b[38;5;124;43m    WHERE station_name LIKE \u001b[39;49m\u001b[38;5;124;43m'\u001b[39;49m\u001b[38;5;124;43mKAJ\u001b[39;49m\u001b[38;5;124;43m'\u001b[39;49m\u001b[38;5;124;43m),\u001b[39;49m\n\u001b[1;32m      8\u001b[0m \n\u001b[1;32m      9\u001b[0m \u001b[38;5;124;43m    \u001b[39;49m\n\u001b[1;32m     10\u001b[0m \u001b[38;5;124;43mdefined_causes AS (\u001b[39;49m\n\u001b[1;32m     11\u001b[0m \u001b[38;5;124;43m    SELECT *,\u001b[39;49m\n\u001b[1;32m     12\u001b[0m \u001b[38;5;124;43m    lateness_causes_new::STRUCT(\u001b[39;49m\n\u001b[1;32m     13\u001b[0m \u001b[38;5;124;43m            passengerTerm STRING, \u001b[39;49m\n\u001b[1;32m     14\u001b[0m \u001b[38;5;124;43m            categoryCode STRING, \u001b[39;49m\n\u001b[1;32m     15\u001b[0m \u001b[38;5;124;43m            categoryName STRING, \u001b[39;49m\n\u001b[1;32m     16\u001b[0m \u001b[38;5;124;43m            validFrom STRING,\u001b[39;49m\n\u001b[1;32m     17\u001b[0m \u001b[38;5;124;43m            validTo STRING, \u001b[39;49m\n\u001b[1;32m     18\u001b[0m \u001b[38;5;124;43m            id INT, \u001b[39;49m\n\u001b[1;32m     19\u001b[0m \u001b[38;5;124;43m            detailedCategoryCode STRING, \u001b[39;49m\n\u001b[1;32m     20\u001b[0m \u001b[38;5;124;43m            detailedCategoryName STRING,\u001b[39;49m\n\u001b[1;32m     21\u001b[0m \u001b[38;5;124;43m            thirdCategoryCode STRING, \u001b[39;49m\n\u001b[1;32m     22\u001b[0m \u001b[38;5;124;43m            thirdCategoryName STRING, \u001b[39;49m\n\u001b[1;32m     23\u001b[0m \u001b[38;5;124;43m            description STRING,\u001b[39;49m\n\u001b[1;32m     24\u001b[0m \u001b[38;5;124;43m            categoryCodeId INT, \u001b[39;49m\n\u001b[1;32m     25\u001b[0m \u001b[38;5;124;43m            detailedCategoryCodeId INT, \u001b[39;49m\n\u001b[1;32m     26\u001b[0m \u001b[38;5;124;43m            thirdCategoryCodeId INT\u001b[39;49m\n\u001b[1;32m     27\u001b[0m \u001b[38;5;124;43m    ) as lateness_rows\u001b[39;49m\n\u001b[1;32m     28\u001b[0m \n\u001b[1;32m     29\u001b[0m \u001b[38;5;124;43mgold_lateness AS (\u001b[39;49m\n\u001b[1;32m     30\u001b[0m \u001b[38;5;124;43m    SELECT *,\u001b[39;49m\n\u001b[1;32m     31\u001b[0m \u001b[38;5;124;43m    lateness_rows.*\u001b[39;49m\n\u001b[1;32m     32\u001b[0m \u001b[38;5;124;43m    FROM defined_causes\u001b[39;49m\n\u001b[1;32m     33\u001b[0m \u001b[38;5;124;43m)\u001b[39;49m\n\u001b[1;32m     34\u001b[0m \n\u001b[1;32m     35\u001b[0m \u001b[38;5;124;43mSELECT * FROM gold_lateness\u001b[39;49m\n\u001b[1;32m     36\u001b[0m \u001b[38;5;124;43m\"\"\"\u001b[39;49m\u001b[43m)\u001b[49m\n",
      "Cell \u001b[0;32mIn[69], line 3\u001b[0m, in \u001b[0;36msql\u001b[0;34m(query)\u001b[0m\n\u001b[1;32m      2\u001b[0m \u001b[38;5;28;01mdef\u001b[39;00m \u001b[38;5;21msql\u001b[39m(query: \u001b[38;5;28mstr\u001b[39m) \u001b[38;5;241m-\u001b[39m\u001b[38;5;241m>\u001b[39m DataFrame:\n\u001b[0;32m----> 3\u001b[0m \u001b[43m    \u001b[49m\u001b[38;5;28;43;01mwith\u001b[39;49;00m\u001b[43m \u001b[49m\u001b[43mduckdb\u001b[49m\u001b[38;5;241;43m.\u001b[39;49m\u001b[43mconnect\u001b[49m\u001b[43m(\u001b[49m\u001b[38;5;28;43mstr\u001b[39;49m\u001b[43m(\u001b[49m\u001b[43mdb_path\u001b[49m\u001b[43m)\u001b[49m\u001b[43m,\u001b[49m\u001b[43m \u001b[49m\u001b[43mread_only\u001b[49m\u001b[38;5;241;43m=\u001b[39;49m\u001b[38;5;28;43;01mTrue\u001b[39;49;00m\u001b[43m)\u001b[49m\u001b[43m \u001b[49m\u001b[38;5;28;43;01mas\u001b[39;49;00m\u001b[43m \u001b[49m\u001b[43mconn\u001b[49m\u001b[43m:\u001b[49m\n\u001b[1;32m      4\u001b[0m \u001b[43m        \u001b[49m\u001b[43mdf\u001b[49m\u001b[43m \u001b[49m\u001b[38;5;241;43m=\u001b[39;49m\u001b[43m \u001b[49m\u001b[43mconn\u001b[49m\u001b[38;5;241;43m.\u001b[39;49m\u001b[43mexecute\u001b[49m\u001b[43m(\u001b[49m\u001b[43mquery\u001b[49m\u001b[43m)\u001b[49m\u001b[38;5;241;43m.\u001b[39;49m\u001b[43mpl\u001b[49m\u001b[43m(\u001b[49m\u001b[43m)\u001b[49m\n\u001b[1;32m      5\u001b[0m     \u001b[38;5;28;01mreturn\u001b[39;00m df\n",
      "Cell \u001b[0;32mIn[69], line 4\u001b[0m, in \u001b[0;36msql\u001b[0;34m(query)\u001b[0m\n\u001b[1;32m      2\u001b[0m \u001b[38;5;28;01mdef\u001b[39;00m \u001b[38;5;21msql\u001b[39m(query: \u001b[38;5;28mstr\u001b[39m) \u001b[38;5;241m-\u001b[39m\u001b[38;5;241m>\u001b[39m DataFrame:\n\u001b[1;32m      3\u001b[0m     \u001b[38;5;28;01mwith\u001b[39;00m duckdb\u001b[38;5;241m.\u001b[39mconnect(\u001b[38;5;28mstr\u001b[39m(db_path), read_only\u001b[38;5;241m=\u001b[39m\u001b[38;5;28;01mTrue\u001b[39;00m) \u001b[38;5;28;01mas\u001b[39;00m conn:\n\u001b[0;32m----> 4\u001b[0m         df \u001b[38;5;241m=\u001b[39m \u001b[43mconn\u001b[49m\u001b[38;5;241;43m.\u001b[39;49m\u001b[43mexecute\u001b[49m\u001b[43m(\u001b[49m\u001b[43mquery\u001b[49m\u001b[43m)\u001b[49m\u001b[38;5;241m.\u001b[39mpl()\n\u001b[1;32m      5\u001b[0m     \u001b[38;5;28;01mreturn\u001b[39;00m df\n",
      "\u001b[0;31mParserException\u001b[0m: Parser Error: syntax error at or near \"gold_lateness\"\nLINE 29: gold_lateness AS (\n         ^"
     ]
    }
   ],
   "source": [
    "sql(\"\"\"\n",
    "WITH gold_exploded AS (\n",
    "    SELECT * EXCLUDE (lateness_causes),\n",
    "        UNNEST(lateness_causes) as lateness_causes_new\n",
    "\n",
    "    FROM medallion_silver.method_b_silvertrain\n",
    "    WHERE station_name LIKE 'KAJ'),\n",
    "\n",
    "    \n",
    "defined_causes AS (\n",
    "    SELECT *,\n",
    "    lateness_causes_new::STRUCT(\n",
    "            passengerTerm STRING, \n",
    "            categoryCode STRING, \n",
    "            categoryName STRING, \n",
    "            validFrom STRING,\n",
    "            validTo STRING, \n",
    "            id INT, \n",
    "            detailedCategoryCode STRING, \n",
    "            detailedCategoryName STRING,\n",
    "            thirdCategoryCode STRING, \n",
    "            thirdCategoryName STRING, \n",
    "            description STRING,\n",
    "            categoryCodeId INT, \n",
    "            detailedCategoryCodeId INT, \n",
    "            thirdCategoryCodeId INT\n",
    "    ) as lateness_rows\n",
    "\n",
    "gold_lateness AS (\n",
    "    SELECT *,\n",
    "    lateness_rows.*\n",
    "    FROM defined_causes\n",
    ")\n",
    "\n",
    "SELECT * FROM gold_lateness\n",
    "\"\"\")"
   ]
  },
  {
   "cell_type": "code",
   "execution_count": 64,
   "metadata": {},
   "outputs": [
    {
     "ename": "ParserException",
     "evalue": "Parser Error: syntax error at or near \"gold_lateness\"\nLINE 28: gold_lateness AS (\n         ^",
     "output_type": "error",
     "traceback": [
      "\u001b[0;31m---------------------------------------------------------------------------\u001b[0m",
      "\u001b[0;31mParserException\u001b[0m                           Traceback (most recent call last)",
      "Cell \u001b[0;32mIn[64], line 1\u001b[0m\n\u001b[0;32m----> 1\u001b[0m \u001b[43msql\u001b[49m\u001b[43m(\u001b[49m\u001b[38;5;124;43m\"\"\"\u001b[39;49m\n\u001b[1;32m      2\u001b[0m \u001b[38;5;124;43mWITH gold_exploded AS (\u001b[39;49m\n\u001b[1;32m      3\u001b[0m \u001b[38;5;124;43m    SELECT *,\u001b[39;49m\n\u001b[1;32m      4\u001b[0m \u001b[38;5;124;43m        UNNEST(lateness_causes) as lateness_causes\u001b[39;49m\n\u001b[1;32m      5\u001b[0m \n\u001b[1;32m      6\u001b[0m \u001b[38;5;124;43m    FROM medallion_silver.method_b_silvertrain\u001b[39;49m\n\u001b[1;32m      7\u001b[0m \u001b[38;5;124;43m    WHERE station_name LIKE \u001b[39;49m\u001b[38;5;124;43m'\u001b[39;49m\u001b[38;5;124;43mKAJ\u001b[39;49m\u001b[38;5;124;43m'\u001b[39;49m\u001b[38;5;124;43m),\u001b[39;49m\n\u001b[1;32m      8\u001b[0m \n\u001b[1;32m      9\u001b[0m \u001b[38;5;124;43mdefined_causes AS (\u001b[39;49m\n\u001b[1;32m     10\u001b[0m \u001b[38;5;124;43m    SELECT *,\u001b[39;49m\n\u001b[1;32m     11\u001b[0m \u001b[38;5;124;43m    lateness_causes::Struct(\u001b[39;49m\n\u001b[1;32m     12\u001b[0m \u001b[38;5;124;43m            passengerTerm STRING, \u001b[39;49m\n\u001b[1;32m     13\u001b[0m \u001b[38;5;124;43m            categoryCode STRING, \u001b[39;49m\n\u001b[1;32m     14\u001b[0m \u001b[38;5;124;43m            categoryName STRING, \u001b[39;49m\n\u001b[1;32m     15\u001b[0m \u001b[38;5;124;43m            validFrom STRING,\u001b[39;49m\n\u001b[1;32m     16\u001b[0m \u001b[38;5;124;43m            validTo STRING, \u001b[39;49m\n\u001b[1;32m     17\u001b[0m \u001b[38;5;124;43m            id INT, \u001b[39;49m\n\u001b[1;32m     18\u001b[0m \u001b[38;5;124;43m            detailedCategoryCode STRING, \u001b[39;49m\n\u001b[1;32m     19\u001b[0m \u001b[38;5;124;43m            detailedCategoryName STRING,\u001b[39;49m\n\u001b[1;32m     20\u001b[0m \u001b[38;5;124;43m            thirdCategoryCode STRING, \u001b[39;49m\n\u001b[1;32m     21\u001b[0m \u001b[38;5;124;43m            thirdCategoryName STRING, \u001b[39;49m\n\u001b[1;32m     22\u001b[0m \u001b[38;5;124;43m            description STRING,\u001b[39;49m\n\u001b[1;32m     23\u001b[0m \u001b[38;5;124;43m            categoryCodeId INT, \u001b[39;49m\n\u001b[1;32m     24\u001b[0m \u001b[38;5;124;43m            detailedCategoryCodeId INT, \u001b[39;49m\n\u001b[1;32m     25\u001b[0m \u001b[38;5;124;43m            thirdCategoryCodeId INT\u001b[39;49m\n\u001b[1;32m     26\u001b[0m \u001b[38;5;124;43m    ) as lateness_rows\u001b[39;49m\n\u001b[1;32m     27\u001b[0m \n\u001b[1;32m     28\u001b[0m \u001b[38;5;124;43mgold_lateness AS (\u001b[39;49m\n\u001b[1;32m     29\u001b[0m \u001b[38;5;124;43m    SELECT *,\u001b[39;49m\n\u001b[1;32m     30\u001b[0m \u001b[38;5;124;43m    lateness_rows.*\u001b[39;49m\n\u001b[1;32m     31\u001b[0m \u001b[38;5;124;43m    FROM defined_causes\u001b[39;49m\n\u001b[1;32m     32\u001b[0m \u001b[38;5;124;43m)\u001b[39;49m\n\u001b[1;32m     33\u001b[0m \n\u001b[1;32m     34\u001b[0m \u001b[38;5;124;43mSELECT * FROM gold_lateness\u001b[39;49m\n\u001b[1;32m     35\u001b[0m \u001b[38;5;124;43m\"\"\"\u001b[39;49m\u001b[43m)\u001b[49m\n",
      "Cell \u001b[0;32mIn[40], line 3\u001b[0m, in \u001b[0;36msql\u001b[0;34m(query)\u001b[0m\n\u001b[1;32m      2\u001b[0m \u001b[38;5;28;01mdef\u001b[39;00m \u001b[38;5;21msql\u001b[39m(query: \u001b[38;5;28mstr\u001b[39m) \u001b[38;5;241m-\u001b[39m\u001b[38;5;241m>\u001b[39m DataFrame:\n\u001b[0;32m----> 3\u001b[0m \u001b[43m    \u001b[49m\u001b[38;5;28;43;01mwith\u001b[39;49;00m\u001b[43m \u001b[49m\u001b[43mduckdb\u001b[49m\u001b[38;5;241;43m.\u001b[39;49m\u001b[43mconnect\u001b[49m\u001b[43m(\u001b[49m\u001b[38;5;28;43mstr\u001b[39;49m\u001b[43m(\u001b[49m\u001b[43mdb_path\u001b[49m\u001b[43m)\u001b[49m\u001b[43m,\u001b[49m\u001b[43m \u001b[49m\u001b[43mread_only\u001b[49m\u001b[38;5;241;43m=\u001b[39;49m\u001b[38;5;28;43;01mTrue\u001b[39;49;00m\u001b[43m)\u001b[49m\u001b[43m \u001b[49m\u001b[38;5;28;43;01mas\u001b[39;49;00m\u001b[43m \u001b[49m\u001b[43mconn\u001b[49m\u001b[43m:\u001b[49m\n\u001b[1;32m      4\u001b[0m \u001b[43m        \u001b[49m\u001b[43mdf\u001b[49m\u001b[43m \u001b[49m\u001b[38;5;241;43m=\u001b[39;49m\u001b[43m \u001b[49m\u001b[43mconn\u001b[49m\u001b[38;5;241;43m.\u001b[39;49m\u001b[43mexecute\u001b[49m\u001b[43m(\u001b[49m\u001b[43mquery\u001b[49m\u001b[43m)\u001b[49m\u001b[38;5;241;43m.\u001b[39;49m\u001b[43mpl\u001b[49m\u001b[43m(\u001b[49m\u001b[43m)\u001b[49m\n\u001b[1;32m      5\u001b[0m     \u001b[38;5;28;01mreturn\u001b[39;00m df\n",
      "Cell \u001b[0;32mIn[40], line 4\u001b[0m, in \u001b[0;36msql\u001b[0;34m(query)\u001b[0m\n\u001b[1;32m      2\u001b[0m \u001b[38;5;28;01mdef\u001b[39;00m \u001b[38;5;21msql\u001b[39m(query: \u001b[38;5;28mstr\u001b[39m) \u001b[38;5;241m-\u001b[39m\u001b[38;5;241m>\u001b[39m DataFrame:\n\u001b[1;32m      3\u001b[0m     \u001b[38;5;28;01mwith\u001b[39;00m duckdb\u001b[38;5;241m.\u001b[39mconnect(\u001b[38;5;28mstr\u001b[39m(db_path), read_only\u001b[38;5;241m=\u001b[39m\u001b[38;5;28;01mTrue\u001b[39;00m) \u001b[38;5;28;01mas\u001b[39;00m conn:\n\u001b[0;32m----> 4\u001b[0m         df \u001b[38;5;241m=\u001b[39m \u001b[43mconn\u001b[49m\u001b[38;5;241;43m.\u001b[39;49m\u001b[43mexecute\u001b[49m\u001b[43m(\u001b[49m\u001b[43mquery\u001b[49m\u001b[43m)\u001b[49m\u001b[38;5;241m.\u001b[39mpl()\n\u001b[1;32m      5\u001b[0m     \u001b[38;5;28;01mreturn\u001b[39;00m df\n",
      "\u001b[0;31mParserException\u001b[0m: Parser Error: syntax error at or near \"gold_lateness\"\nLINE 28: gold_lateness AS (\n         ^"
     ]
    }
   ],
   "source": [
    "sql(\"\"\"\n",
    "WITH gold_exploded AS (\n",
    "    SELECT *,\n",
    "        UNNEST(lateness_causes) as lateness_causes\n",
    "\n",
    "    FROM medallion_silver.method_b_silvertrain\n",
    "    WHERE station_name LIKE 'KAJ'),\n",
    "\n",
    "defined_causes AS (\n",
    "    SELECT *,\n",
    "    lateness_causes::Struct(\n",
    "            passengerTerm STRING, \n",
    "            categoryCode STRING, \n",
    "            categoryName STRING, \n",
    "            validFrom STRING,\n",
    "            validTo STRING, \n",
    "            id INT, \n",
    "            detailedCategoryCode STRING, \n",
    "            detailedCategoryName STRING,\n",
    "            thirdCategoryCode STRING, \n",
    "            thirdCategoryName STRING, \n",
    "            description STRING,\n",
    "            categoryCodeId INT, \n",
    "            detailedCategoryCodeId INT, \n",
    "            thirdCategoryCodeId INT\n",
    "    ) as lateness_rows\n",
    "\n",
    "gold_lateness AS (\n",
    "    SELECT *,\n",
    "    lateness_rows.*\n",
    "    FROM defined_causes\n",
    ")\n",
    "\n",
    "SELECT * FROM gold_lateness\n",
    "\"\"\")\n",
    "\n"
   ]
  },
  {
   "cell_type": "code",
   "execution_count": 65,
   "metadata": {},
   "outputs": [
    {
     "ename": "BinderException",
     "evalue": "Binder Error: column \"lateness_causesss\" must appear in the GROUP BY clause or must be part of an aggregate function.\nEither add it to the GROUP BY list, or use \"ANY_VALUE(lateness_causesss)\" if the exact value of \"lateness_causesss\" is not important.",
     "output_type": "error",
     "traceback": [
      "\u001b[0;31m---------------------------------------------------------------------------\u001b[0m",
      "\u001b[0;31mBinderException\u001b[0m                           Traceback (most recent call last)",
      "Cell \u001b[0;32mIn[65], line 1\u001b[0m\n\u001b[0;32m----> 1\u001b[0m \u001b[43msql\u001b[49m\u001b[43m(\u001b[49m\u001b[38;5;124;43m\"\"\"\u001b[39;49m\n\u001b[1;32m      2\u001b[0m \u001b[38;5;124;43mWITH exploded2 AS (\u001b[39;49m\n\u001b[1;32m      3\u001b[0m \u001b[38;5;124;43m    SELECT \u001b[39;49m\n\u001b[1;32m      4\u001b[0m \u001b[38;5;124;43m        stop_sk,\u001b[39;49m\n\u001b[1;32m      5\u001b[0m \u001b[38;5;124;43m        UNNEST(lateness_causes) as lateness_causes_unnest\u001b[39;49m\n\u001b[1;32m      6\u001b[0m \u001b[38;5;124;43m    FROM medallion_silver.method_b_silvertrain\u001b[39;49m\n\u001b[1;32m      7\u001b[0m \u001b[38;5;124;43m),\u001b[39;49m\n\u001b[1;32m      8\u001b[0m \n\u001b[1;32m      9\u001b[0m \u001b[38;5;124;43mdefined2 AS (\u001b[39;49m\n\u001b[1;32m     10\u001b[0m \u001b[38;5;124;43m    SELECT \u001b[39;49m\n\u001b[1;32m     11\u001b[0m \u001b[38;5;124;43m        stop_sk,\u001b[39;49m\n\u001b[1;32m     12\u001b[0m \u001b[38;5;124;43m        lateness_causes_unnest::STRUCT(\u001b[39;49m\n\u001b[1;32m     13\u001b[0m \u001b[38;5;124;43m            passengerTerm STRING, \u001b[39;49m\n\u001b[1;32m     14\u001b[0m \u001b[38;5;124;43m            categoryCode STRING, \u001b[39;49m\n\u001b[1;32m     15\u001b[0m \u001b[38;5;124;43m            categoryName STRING, \u001b[39;49m\n\u001b[1;32m     16\u001b[0m \u001b[38;5;124;43m            validFrom STRING,\u001b[39;49m\n\u001b[1;32m     17\u001b[0m \u001b[38;5;124;43m            validTo STRING, \u001b[39;49m\n\u001b[1;32m     18\u001b[0m \u001b[38;5;124;43m            id INT, \u001b[39;49m\n\u001b[1;32m     19\u001b[0m \u001b[38;5;124;43m            detailedCategoryCode STRING, \u001b[39;49m\n\u001b[1;32m     20\u001b[0m \u001b[38;5;124;43m            detailedCategoryName STRING,\u001b[39;49m\n\u001b[1;32m     21\u001b[0m \u001b[38;5;124;43m            thirdCategoryCode STRING, \u001b[39;49m\n\u001b[1;32m     22\u001b[0m \u001b[38;5;124;43m            thirdCategoryName STRING, \u001b[39;49m\n\u001b[1;32m     23\u001b[0m \u001b[38;5;124;43m            description STRING,\u001b[39;49m\n\u001b[1;32m     24\u001b[0m \u001b[38;5;124;43m            categoryCodeId INT, \u001b[39;49m\n\u001b[1;32m     25\u001b[0m \u001b[38;5;124;43m            detailedCategoryCodeId INT, \u001b[39;49m\n\u001b[1;32m     26\u001b[0m \u001b[38;5;124;43m            thirdCategoryCodeId INT\u001b[39;49m\n\u001b[1;32m     27\u001b[0m \u001b[38;5;124;43m        ) as lateness_causesss\u001b[39;49m\n\u001b[1;32m     28\u001b[0m \u001b[38;5;124;43m    FROM exploded2\u001b[39;49m\n\u001b[1;32m     29\u001b[0m \u001b[38;5;124;43m)\u001b[39;49m\n\u001b[1;32m     30\u001b[0m \n\u001b[1;32m     31\u001b[0m \u001b[38;5;124;43mFROM defined2\u001b[39;49m\n\u001b[1;32m     32\u001b[0m \u001b[38;5;124;43mGROUP BY stop_sk\u001b[39;49m\n\u001b[1;32m     33\u001b[0m \u001b[38;5;124;43m\"\"\"\u001b[39;49m\u001b[43m)\u001b[49m\n",
      "Cell \u001b[0;32mIn[40], line 3\u001b[0m, in \u001b[0;36msql\u001b[0;34m(query)\u001b[0m\n\u001b[1;32m      2\u001b[0m \u001b[38;5;28;01mdef\u001b[39;00m \u001b[38;5;21msql\u001b[39m(query: \u001b[38;5;28mstr\u001b[39m) \u001b[38;5;241m-\u001b[39m\u001b[38;5;241m>\u001b[39m DataFrame:\n\u001b[0;32m----> 3\u001b[0m \u001b[43m    \u001b[49m\u001b[38;5;28;43;01mwith\u001b[39;49;00m\u001b[43m \u001b[49m\u001b[43mduckdb\u001b[49m\u001b[38;5;241;43m.\u001b[39;49m\u001b[43mconnect\u001b[49m\u001b[43m(\u001b[49m\u001b[38;5;28;43mstr\u001b[39;49m\u001b[43m(\u001b[49m\u001b[43mdb_path\u001b[49m\u001b[43m)\u001b[49m\u001b[43m,\u001b[49m\u001b[43m \u001b[49m\u001b[43mread_only\u001b[49m\u001b[38;5;241;43m=\u001b[39;49m\u001b[38;5;28;43;01mTrue\u001b[39;49;00m\u001b[43m)\u001b[49m\u001b[43m \u001b[49m\u001b[38;5;28;43;01mas\u001b[39;49;00m\u001b[43m \u001b[49m\u001b[43mconn\u001b[49m\u001b[43m:\u001b[49m\n\u001b[1;32m      4\u001b[0m \u001b[43m        \u001b[49m\u001b[43mdf\u001b[49m\u001b[43m \u001b[49m\u001b[38;5;241;43m=\u001b[39;49m\u001b[43m \u001b[49m\u001b[43mconn\u001b[49m\u001b[38;5;241;43m.\u001b[39;49m\u001b[43mexecute\u001b[49m\u001b[43m(\u001b[49m\u001b[43mquery\u001b[49m\u001b[43m)\u001b[49m\u001b[38;5;241;43m.\u001b[39;49m\u001b[43mpl\u001b[49m\u001b[43m(\u001b[49m\u001b[43m)\u001b[49m\n\u001b[1;32m      5\u001b[0m     \u001b[38;5;28;01mreturn\u001b[39;00m df\n",
      "Cell \u001b[0;32mIn[40], line 4\u001b[0m, in \u001b[0;36msql\u001b[0;34m(query)\u001b[0m\n\u001b[1;32m      2\u001b[0m \u001b[38;5;28;01mdef\u001b[39;00m \u001b[38;5;21msql\u001b[39m(query: \u001b[38;5;28mstr\u001b[39m) \u001b[38;5;241m-\u001b[39m\u001b[38;5;241m>\u001b[39m DataFrame:\n\u001b[1;32m      3\u001b[0m     \u001b[38;5;28;01mwith\u001b[39;00m duckdb\u001b[38;5;241m.\u001b[39mconnect(\u001b[38;5;28mstr\u001b[39m(db_path), read_only\u001b[38;5;241m=\u001b[39m\u001b[38;5;28;01mTrue\u001b[39;00m) \u001b[38;5;28;01mas\u001b[39;00m conn:\n\u001b[0;32m----> 4\u001b[0m         df \u001b[38;5;241m=\u001b[39m \u001b[43mconn\u001b[49m\u001b[38;5;241;43m.\u001b[39;49m\u001b[43mexecute\u001b[49m\u001b[43m(\u001b[49m\u001b[43mquery\u001b[49m\u001b[43m)\u001b[49m\u001b[38;5;241m.\u001b[39mpl()\n\u001b[1;32m      5\u001b[0m     \u001b[38;5;28;01mreturn\u001b[39;00m df\n",
      "\u001b[0;31mBinderException\u001b[0m: Binder Error: column \"lateness_causesss\" must appear in the GROUP BY clause or must be part of an aggregate function.\nEither add it to the GROUP BY list, or use \"ANY_VALUE(lateness_causesss)\" if the exact value of \"lateness_causesss\" is not important."
     ]
    }
   ],
   "source": [
    "sql(\"\"\"\n",
    "WITH exploded2 AS (\n",
    "    SELECT \n",
    "        stop_sk,\n",
    "        UNNEST(lateness_causes) as lateness_causes_unnest\n",
    "    FROM medallion_silver.method_b_silvertrain\n",
    "),\n",
    "\n",
    "defined2 AS (\n",
    "    SELECT \n",
    "        stop_sk,\n",
    "        lateness_causes_unnest::STRUCT(\n",
    "            passengerTerm STRING, \n",
    "            categoryCode STRING, \n",
    "            categoryName STRING, \n",
    "            validFrom STRING,\n",
    "            validTo STRING, \n",
    "            id INT, \n",
    "            detailedCategoryCode STRING, \n",
    "            detailedCategoryName STRING,\n",
    "            thirdCategoryCode STRING, \n",
    "            thirdCategoryName STRING, \n",
    "            description STRING,\n",
    "            categoryCodeId INT, \n",
    "            detailedCategoryCodeId INT, \n",
    "            thirdCategoryCodeId INT\n",
    "        ) as lateness_causesss\n",
    "    FROM exploded2\n",
    ")\n",
    "\n",
    "FROM defined2\n",
    "GROUP BY stop_sk\n",
    "\"\"\")"
   ]
  },
  {
   "cell_type": "code",
   "execution_count": null,
   "metadata": {},
   "outputs": [],
   "source": []
  }
 ],
 "metadata": {
  "kernelspec": {
   "display_name": "Python 3",
   "language": "python",
   "name": "python3"
  },
  "language_info": {
   "codemirror_mode": {
    "name": "ipython",
    "version": 3
   },
   "file_extension": ".py",
   "mimetype": "text/x-python",
   "name": "python",
   "nbconvert_exporter": "python",
   "pygments_lexer": "ipython3",
   "version": "3.11.7"
  }
 },
 "nbformat": 4,
 "nbformat_minor": 2
}
