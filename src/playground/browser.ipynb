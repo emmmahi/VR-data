{
 "cells": [
  {
   "cell_type": "code",
   "execution_count": 11,
   "metadata": {},
   "outputs": [],
   "source": [
    "import duckdb\n",
    "from polars import DataFrame\n",
    "from pathlib import Path"
   ]
  },
  {
   "cell_type": "code",
   "execution_count": 12,
   "metadata": {},
   "outputs": [
    {
     "data": {
      "text/plain": [
       "PosixPath('/workspaces/VR-data')"
      ]
     },
     "execution_count": 12,
     "metadata": {},
     "output_type": "execute_result"
    }
   ],
   "source": [
    "Path().absolute().parent.parent"
   ]
  },
  {
   "cell_type": "markdown",
   "metadata": {},
   "source": [
    "# Alustetaan yhteyttö tietokantaan"
   ]
  },
  {
   "cell_type": "code",
   "execution_count": 13,
   "metadata": {},
   "outputs": [
    {
     "name": "stdout",
     "output_type": "stream",
     "text": [
      "/workspaces/VR-data/data/warehouse/vr.duckdb   file exists:   True\n"
     ]
    }
   ],
   "source": [
    "project_dir = Path().absolute().parent.parent\n",
    "db_path = project_dir / \"data\" / \"warehouse\" / \"vr.duckdb\"\n",
    "print(str(db_path), \"  file exists:  \", db_path.is_file())"
   ]
  },
  {
   "cell_type": "code",
   "execution_count": 14,
   "metadata": {},
   "outputs": [],
   "source": [
    "# funktio kyselyn tekemistä varten ei vaadi yhteyden sulkua koska käytetään WITH\n",
    "def sql(query: str) -> DataFrame:\n",
    "    with duckdb.connect(str(db_path), read_only=True) as conn:\n",
    "        df = conn.execute(query).pl()\n",
    "    return df\n"
   ]
  },
  {
   "cell_type": "code",
   "execution_count": 15,
   "metadata": {},
   "outputs": [
    {
     "data": {
      "text/html": [
       "<div><style>\n",
       ".dataframe > thead > tr,\n",
       ".dataframe > tbody > tr {\n",
       "  text-align: right;\n",
       "  white-space: pre-wrap;\n",
       "}\n",
       "</style>\n",
       "<small>shape: (3, 6)</small><table border=\"1\" class=\"dataframe\"><thead><tr><th>database</th><th>schema</th><th>name</th><th>column_names</th><th>column_types</th><th>temporary</th></tr><tr><td>str</td><td>str</td><td>str</td><td>list[str]</td><td>list[str]</td><td>bool</td></tr></thead><tbody><tr><td>&quot;vr&quot;</td><td>&quot;medallion&quot;</td><td>&quot;my_first_dbt_m…</td><td>[&quot;id&quot;]</td><td>[&quot;INTEGER&quot;]</td><td>false</td></tr><tr><td>&quot;vr&quot;</td><td>&quot;medallion&quot;</td><td>&quot;my_second_dbt_…</td><td>[&quot;id&quot;]</td><td>[&quot;INTEGER&quot;]</td><td>false</td></tr><tr><td>&quot;vr&quot;</td><td>&quot;medallion_bron…</td><td>&quot;method_b_train…</td><td>[&quot;route_sk&quot;, &quot;trainNumber&quot;, … &quot;timeTableRows&quot;]</td><td>[&quot;VARCHAR&quot;, &quot;BIGINT&quot;, … &quot;INTEGER[]&quot;]</td><td>false</td></tr></tbody></table></div>"
      ],
      "text/plain": [
       "shape: (3, 6)\n",
       "┌──────────┬──────────────────┬────────────────────┬────────────────────┬──────────────┬───────────┐\n",
       "│ database ┆ schema           ┆ name               ┆ column_names       ┆ column_types ┆ temporary │\n",
       "│ ---      ┆ ---              ┆ ---                ┆ ---                ┆ ---          ┆ ---       │\n",
       "│ str      ┆ str              ┆ str                ┆ list[str]          ┆ list[str]    ┆ bool      │\n",
       "╞══════════╪══════════════════╪════════════════════╪════════════════════╪══════════════╪═══════════╡\n",
       "│ vr       ┆ medallion        ┆ my_first_dbt_model ┆ [\"id\"]             ┆ [\"INTEGER\"]  ┆ false     │\n",
       "│ vr       ┆ medallion        ┆ my_second_dbt_mode ┆ [\"id\"]             ┆ [\"INTEGER\"]  ┆ false     │\n",
       "│          ┆                  ┆ l                  ┆                    ┆              ┆           │\n",
       "│ vr       ┆ medallion_bronze ┆ method_b_traintest ┆ [\"route_sk\",       ┆ [\"VARCHAR\",  ┆ false     │\n",
       "│          ┆                  ┆                    ┆ \"trainNumber\", …   ┆ \"BIGINT\", …  ┆           │\n",
       "│          ┆                  ┆                    ┆ \"t…                ┆ \"INTEGER…    ┆           │\n",
       "└──────────┴──────────────────┴────────────────────┴────────────────────┴──────────────┴───────────┘"
      ]
     },
     "execution_count": 15,
     "metadata": {},
     "output_type": "execute_result"
    }
   ],
   "source": [
    "sql(\"SHOW ALL TABLES\")"
   ]
  },
  {
   "cell_type": "code",
   "execution_count": 17,
   "metadata": {},
   "outputs": [
    {
     "data": {
      "text/html": [
       "<div><style>\n",
       ".dataframe > thead > tr,\n",
       ".dataframe > tbody > tr {\n",
       "  text-align: right;\n",
       "  white-space: pre-wrap;\n",
       "}\n",
       "</style>\n",
       "<small>shape: (3, 3)</small><table border=\"1\" class=\"dataframe\"><thead><tr><th>database</th><th>schema</th><th>name</th></tr><tr><td>str</td><td>str</td><td>str</td></tr></thead><tbody><tr><td>&quot;vr&quot;</td><td>&quot;medallion&quot;</td><td>&quot;my_first_dbt_m…</td></tr><tr><td>&quot;vr&quot;</td><td>&quot;medallion&quot;</td><td>&quot;my_second_dbt_…</td></tr><tr><td>&quot;vr&quot;</td><td>&quot;medallion_bron…</td><td>&quot;method_b_train…</td></tr></tbody></table></div>"
      ],
      "text/plain": [
       "shape: (3, 3)\n",
       "┌──────────┬──────────────────┬─────────────────────┐\n",
       "│ database ┆ schema           ┆ name                │\n",
       "│ ---      ┆ ---              ┆ ---                 │\n",
       "│ str      ┆ str              ┆ str                 │\n",
       "╞══════════╪══════════════════╪═════════════════════╡\n",
       "│ vr       ┆ medallion        ┆ my_first_dbt_model  │\n",
       "│ vr       ┆ medallion        ┆ my_second_dbt_model │\n",
       "│ vr       ┆ medallion_bronze ┆ method_b_traintest  │\n",
       "└──────────┴──────────────────┴─────────────────────┘"
      ]
     },
     "execution_count": 17,
     "metadata": {},
     "output_type": "execute_result"
    }
   ],
   "source": [
    "sql(\"SHOW\").select(\"database\", \"schema\", \"name\")"
   ]
  },
  {
   "cell_type": "markdown",
   "metadata": {},
   "source": [
    "# Databasen selailu Silver-tasoa varten"
   ]
  },
  {
   "cell_type": "code",
   "execution_count": 20,
   "metadata": {},
   "outputs": [
    {
     "data": {
      "text/html": [
       "<div><style>\n",
       ".dataframe > thead > tr,\n",
       ".dataframe > tbody > tr {\n",
       "  text-align: right;\n",
       "  white-space: pre-wrap;\n",
       "}\n",
       "</style>\n",
       "<small>shape: (0, 4)</small><table border=\"1\" class=\"dataframe\"><thead><tr><th>stop_sk</th><th>first(stationShortCode)</th><th>station_id</th><th>lateness_causes</th></tr><tr><td>str</td><td>str</td><td>i32</td><td>list[struct[14]]</td></tr></thead><tbody></tbody></table></div>"
      ],
      "text/plain": [
       "shape: (0, 4)\n",
       "┌─────────┬─────────────────────────┬────────────┬──────────────────┐\n",
       "│ stop_sk ┆ first(stationShortCode) ┆ station_id ┆ lateness_causes  │\n",
       "│ ---     ┆ ---                     ┆ ---        ┆ ---              │\n",
       "│ str     ┆ str                     ┆ i32        ┆ list[struct[14]] │\n",
       "╞═════════╪═════════════════════════╪════════════╪══════════════════╡\n",
       "└─────────┴─────────────────────────┴────────────┴──────────────────┘"
      ]
     },
     "execution_count": 20,
     "metadata": {},
     "output_type": "execute_result"
    }
   ],
   "source": [
    "sql(\"\"\"\n",
    "WITH exploded AS (\n",
    "    SELECT \n",
    "        route_sk,\n",
    "        UNNEST(timeTableRows) as timetable_row\n",
    "    FROM medallion_bronze.method_b_traintest\n",
    "),\n",
    "\n",
    "defined AS (\n",
    "        SELECT \n",
    "        route_sk,\n",
    "        timetable_row::STRUCT(\n",
    "            stationShortCode STRING,\n",
    "            stationUICCode INT,\n",
    "            countryCode STRING,\n",
    "            type STRING,\n",
    "            trainStopping BOOLEAN,\n",
    "            commercialStop BOOLEAN,\n",
    "            commercialTrack STRING, \n",
    "            cancelled BOOLEAN,\n",
    "            scheduledTime STRING,\n",
    "            liveEstimateTime STRING,\n",
    "            estimateSource STRING,\n",
    "            unknownDelay BOOLEAN, \n",
    "            actualTime STRING,\n",
    "            differenceInMinutes INT,\n",
    "            causes STRUCT(\n",
    "                passengerTerm STRING, \n",
    "                categoryCode STRING, \n",
    "                categoryName STRING, \n",
    "                validFrom STRING,\n",
    "                validTo STRING, \n",
    "                id INT, \n",
    "                detailedCategoryCode STRING, \n",
    "                detailedCategoryName STRING,\n",
    "                thirdCategoryCode STRING, \n",
    "                thirdCategoryName STRING, \n",
    "                description STRING,\n",
    "                categoryCodeId INT, \n",
    "                detailedCategoryCodeId INT, \n",
    "                thirdCategoryCodeId INT)[],\n",
    "            trainReady STRUCT(\n",
    "                source STRING,\n",
    "                accepted BOOLEAN,\n",
    "                timestamp STRING)[]\n",
    "        ) as timetable_struct\n",
    "    FROM exploded\n",
    "),\n",
    "    \n",
    "flattened AS(\n",
    "    SELECT \n",
    "        md5(route_sk || timetable_struct.stationShortCode || timetable_struct.stationUICCode) as stop_sk,\n",
    "        route_sk,\n",
    "        timetable_struct.*\n",
    "    FROM defined\n",
    ")\n",
    "\n",
    "SELECT    \n",
    "    stop_sk,    \n",
    "    FIRST(stationShortCode),    \n",
    "    FIRST(stationUICCode) as station_id,      \n",
    "    FLATTEN(LIST(causes)) as lateness_causes\n",
    "FROM flattened\n",
    "GROUP BY stop_sk\n",
    "\"\"\")"
   ]
  }
 ],
 "metadata": {
  "kernelspec": {
   "display_name": "Python 3",
   "language": "python",
   "name": "python3"
  },
  "language_info": {
   "codemirror_mode": {
    "name": "ipython",
    "version": 3
   },
   "file_extension": ".py",
   "mimetype": "text/x-python",
   "name": "python",
   "nbconvert_exporter": "python",
   "pygments_lexer": "ipython3",
   "version": "3.11.7"
  }
 },
 "nbformat": 4,
 "nbformat_minor": 2
}
