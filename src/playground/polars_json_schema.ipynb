{
 "cells": [
  {
   "cell_type": "code",
   "execution_count": 6,
   "metadata": {},
   "outputs": [],
   "source": [
    "import polars as pl\n",
    "import duckdb\n",
    "from pathlib import Path"
   ]
  },
  {
   "cell_type": "markdown",
   "metadata": {},
   "source": [
    "# Handle paths"
   ]
  },
  {
   "cell_type": "code",
   "execution_count": 27,
   "metadata": {},
   "outputs": [
    {
     "name": "stdout",
     "output_type": "stream",
     "text": [
      "1\n"
     ]
    }
   ],
   "source": [
    "staging_tool_path = Path().absolute().parent.parent / \"data\" / \"datalake\" / \"staging\" / \"vr_data\"\n",
    "\n",
    "vr_full_load_jsons = list(staging_tool_path.glob(\"**/*.json\"))\n",
    "print(len(list(vr_full_load_jsons)))"
   ]
  },
  {
   "cell_type": "markdown",
   "metadata": {},
   "source": [
    "# Visualization on one loaded json file"
   ]
  },
  {
   "cell_type": "code",
   "execution_count": 28,
   "metadata": {},
   "outputs": [
    {
     "data": {
      "text/html": [
       "<div><style>\n",
       ".dataframe > thead > tr,\n",
       ".dataframe > tbody > tr {\n",
       "  text-align: right;\n",
       "  white-space: pre-wrap;\n",
       "}\n",
       "</style>\n",
       "<small>shape: (2, 13)</small><table border=\"1\" class=\"dataframe\"><thead><tr><th>trainNumber</th><th>departureDate</th><th>operatorUICCode</th><th>operatorShortCode</th><th>trainType</th><th>trainCategory</th><th>commuterLineID</th><th>runningCurrently</th><th>cancelled</th><th>version</th><th>timetableType</th><th>timetableAcceptanceDate</th><th>timeTableRows</th></tr><tr><td>i64</td><td>str</td><td>i64</td><td>str</td><td>str</td><td>str</td><td>str</td><td>bool</td><td>bool</td><td>i64</td><td>str</td><td>str</td><td>list[struct[16]]</td></tr></thead><tbody><tr><td>1</td><td>&quot;2023-11-01&quot;</td><td>10</td><td>&quot;vr&quot;</td><td>&quot;IC&quot;</td><td>&quot;Long-distance&quot;</td><td>&quot;&quot;</td><td>false</td><td>false</td><td>286822491217</td><td>&quot;REGULAR&quot;</td><td>&quot;2023-07-05T11:…</td><td>[{&quot;HKI&quot;,1,&quot;FI&quot;,&quot;DEPARTURE&quot;,true,true,&quot;10&quot;,false,&quot;2023-11-01T04:55:00.000Z&quot;,&quot;2023-11-01T04:55:21.000Z&quot;,0,[],1,null,null,{&quot;KUPLA&quot;,true,&quot;2023-11-01T04:53:40.000Z&quot;}}, {&quot;PSL&quot;,10,&quot;FI&quot;,&quot;ARRIVAL&quot;,true,true,&quot;4&quot;,false,&quot;2023-11-01T05:00:00.000Z&quot;,&quot;2023-11-01T05:00:14.000Z&quot;,0,[],1,null,null,{null,null,null}}, … {&quot;JNS&quot;,460,&quot;FI&quot;,&quot;ARRIVAL&quot;,true,true,&quot;1&quot;,false,&quot;2023-11-01T09:41:00.000Z&quot;,&quot;2023-11-01T09:39:41.000Z&quot;,-1,[],1,&quot;2023-11-01T09:39:41.000Z&quot;,&quot;LIIKE_AUTOMATIC&quot;,{null,null,null}}]</td></tr><tr><td>2</td><td>&quot;2023-11-01&quot;</td><td>10</td><td>&quot;vr&quot;</td><td>&quot;S&quot;</td><td>&quot;Long-distance&quot;</td><td>&quot;&quot;</td><td>false</td><td>false</td><td>286821604082</td><td>&quot;REGULAR&quot;</td><td>&quot;2023-07-05T11:…</td><td>[{&quot;JNS&quot;,460,&quot;FI&quot;,&quot;DEPARTURE&quot;,true,true,&quot;1&quot;,false,&quot;2023-11-01T02:58:00.000Z&quot;,&quot;2023-11-01T02:58:00.000Z&quot;,0,[],2,null,null,{&quot;KUPLA&quot;,true,&quot;2023-11-01T02:53:10.000Z&quot;}}, {&quot;PLT&quot;,1070,&quot;FI&quot;,&quot;ARRIVAL&quot;,false,null,&quot;&quot;,false,&quot;2023-11-01T02:58:42.000Z&quot;,null,0,[],2,&quot;2023-11-01T02:58:42.000Z&quot;,&quot;LIIKE_AUTOMATIC&quot;,{null,null,null}}, … {&quot;HKI&quot;,1,&quot;FI&quot;,&quot;ARRIVAL&quot;,true,true,&quot;9&quot;,false,&quot;2023-11-01T07:30:00.000Z&quot;,&quot;2023-11-01T07:31:07.000Z&quot;,1,[],2,null,null,{null,null,null}}]</td></tr></tbody></table></div>"
      ],
      "text/plain": [
       "shape: (2, 13)\n",
       "┌───────────┬───────────┬───────────┬───────────┬───┬───────────┬───────────┬───────────┬──────────┐\n",
       "│ trainNumb ┆ departure ┆ operatorU ┆ operatorS ┆ … ┆ version   ┆ timetable ┆ timetable ┆ timeTabl │\n",
       "│ er        ┆ Date      ┆ ICCode    ┆ hortCode  ┆   ┆ ---       ┆ Type      ┆ Acceptanc ┆ eRows    │\n",
       "│ ---       ┆ ---       ┆ ---       ┆ ---       ┆   ┆ i64       ┆ ---       ┆ eDate     ┆ ---      │\n",
       "│ i64       ┆ str       ┆ i64       ┆ str       ┆   ┆           ┆ str       ┆ ---       ┆ list[str │\n",
       "│           ┆           ┆           ┆           ┆   ┆           ┆           ┆ str       ┆ uct[16]] │\n",
       "╞═══════════╪═══════════╪═══════════╪═══════════╪═══╪═══════════╪═══════════╪═══════════╪══════════╡\n",
       "│ 1         ┆ 2023-11-0 ┆ 10        ┆ vr        ┆ … ┆ 286822491 ┆ REGULAR   ┆ 2023-07-0 ┆ [{\"HKI\", │\n",
       "│           ┆ 1         ┆           ┆           ┆   ┆ 217       ┆           ┆ 5T11:22:0 ┆ 1,\"FI\",\" │\n",
       "│           ┆           ┆           ┆           ┆   ┆           ┆           ┆ 1.000Z    ┆ DEPARTUR │\n",
       "│           ┆           ┆           ┆           ┆   ┆           ┆           ┆           ┆ E\",true, │\n",
       "│           ┆           ┆           ┆           ┆   ┆           ┆           ┆           ┆ …        │\n",
       "│ 2         ┆ 2023-11-0 ┆ 10        ┆ vr        ┆ … ┆ 286821604 ┆ REGULAR   ┆ 2023-07-0 ┆ [{\"JNS\", │\n",
       "│           ┆ 1         ┆           ┆           ┆   ┆ 082       ┆           ┆ 5T11:22:0 ┆ 460,\"FI\" │\n",
       "│           ┆           ┆           ┆           ┆   ┆           ┆           ┆ 1.000Z    ┆ ,\"DEPART │\n",
       "│           ┆           ┆           ┆           ┆   ┆           ┆           ┆           ┆ URE\",tru │\n",
       "│           ┆           ┆           ┆           ┆   ┆           ┆           ┆           ┆ …        │\n",
       "└───────────┴───────────┴───────────┴───────────┴───┴───────────┴───────────┴───────────┴──────────┘"
      ]
     },
     "execution_count": 28,
     "metadata": {},
     "output_type": "execute_result"
    }
   ],
   "source": [
    "polars_df = pl.read_json(vr_full_load_jsons[0])\n",
    "polars_df.head(2)\n"
   ]
  },
  {
   "cell_type": "code",
   "execution_count": 30,
   "metadata": {},
   "outputs": [
    {
     "data": {
      "text/html": [
       "<div><style>\n",
       ".dataframe > thead > tr,\n",
       ".dataframe > tbody > tr {\n",
       "  text-align: right;\n",
       "  white-space: pre-wrap;\n",
       "}\n",
       "</style>\n",
       "<small>shape: (1_782, 14)</small><table border=\"1\" class=\"dataframe\"><thead><tr><th>trainNumber</th><th>departureDate</th><th>operatorUICCode</th><th>operatorShortCode</th><th>trainType</th><th>trainCategory</th><th>commuterLineID</th><th>runningCurrently</th><th>cancelled</th><th>deleted</th><th>version</th><th>timetableType</th><th>timetableAcceptanceDate</th><th>timetableRows</th></tr><tr><td>i64</td><td>str</td><td>i64</td><td>str</td><td>str</td><td>str</td><td>str</td><td>bool</td><td>bool</td><td>bool</td><td>i64</td><td>str</td><td>str</td><td>list[struct[16]]</td></tr></thead><tbody><tr><td>1</td><td>&quot;2023-11-01&quot;</td><td>10</td><td>&quot;vr&quot;</td><td>&quot;IC&quot;</td><td>&quot;Long-distance&quot;</td><td>&quot;&quot;</td><td>false</td><td>false</td><td>null</td><td>286822491217</td><td>&quot;REGULAR&quot;</td><td>&quot;2023-07-05T11:…</td><td>null</td></tr><tr><td>2</td><td>&quot;2023-11-01&quot;</td><td>10</td><td>&quot;vr&quot;</td><td>&quot;S&quot;</td><td>&quot;Long-distance&quot;</td><td>&quot;&quot;</td><td>false</td><td>false</td><td>null</td><td>286821604082</td><td>&quot;REGULAR&quot;</td><td>&quot;2023-07-05T11:…</td><td>null</td></tr><tr><td>3</td><td>&quot;2023-11-01&quot;</td><td>10</td><td>&quot;vr&quot;</td><td>&quot;IC&quot;</td><td>&quot;Long-distance&quot;</td><td>&quot;&quot;</td><td>false</td><td>false</td><td>null</td><td>286823761991</td><td>&quot;REGULAR&quot;</td><td>&quot;2023-07-05T11:…</td><td>null</td></tr><tr><td>4</td><td>&quot;2023-11-01&quot;</td><td>10</td><td>&quot;vr&quot;</td><td>&quot;IC&quot;</td><td>&quot;Long-distance&quot;</td><td>&quot;&quot;</td><td>false</td><td>false</td><td>null</td><td>286822663552</td><td>&quot;REGULAR&quot;</td><td>&quot;2023-07-05T11:…</td><td>null</td></tr><tr><td>5</td><td>&quot;2023-11-01&quot;</td><td>10</td><td>&quot;vr&quot;</td><td>&quot;IC&quot;</td><td>&quot;Long-distance&quot;</td><td>&quot;&quot;</td><td>false</td><td>false</td><td>null</td><td>286824982323</td><td>&quot;REGULAR&quot;</td><td>&quot;2023-07-05T11:…</td><td>null</td></tr><tr><td>6</td><td>&quot;2023-11-01&quot;</td><td>10</td><td>&quot;vr&quot;</td><td>&quot;IC&quot;</td><td>&quot;Long-distance&quot;</td><td>&quot;&quot;</td><td>false</td><td>false</td><td>null</td><td>286823288189</td><td>&quot;REGULAR&quot;</td><td>&quot;2023-07-05T11:…</td><td>null</td></tr><tr><td>7</td><td>&quot;2023-11-01&quot;</td><td>10</td><td>&quot;vr&quot;</td><td>&quot;S&quot;</td><td>&quot;Long-distance&quot;</td><td>&quot;&quot;</td><td>false</td><td>false</td><td>null</td><td>286825745031</td><td>&quot;REGULAR&quot;</td><td>&quot;2023-07-05T11:…</td><td>null</td></tr><tr><td>8</td><td>&quot;2023-11-01&quot;</td><td>10</td><td>&quot;vr&quot;</td><td>&quot;IC&quot;</td><td>&quot;Long-distance&quot;</td><td>&quot;&quot;</td><td>false</td><td>false</td><td>null</td><td>286824613102</td><td>&quot;REGULAR&quot;</td><td>&quot;2023-07-05T11:…</td><td>null</td></tr><tr><td>9</td><td>&quot;2023-11-01&quot;</td><td>10</td><td>&quot;vr&quot;</td><td>&quot;IC&quot;</td><td>&quot;Long-distance&quot;</td><td>&quot;&quot;</td><td>false</td><td>false</td><td>null</td><td>286826214328</td><td>&quot;REGULAR&quot;</td><td>&quot;2023-07-05T11:…</td><td>null</td></tr><tr><td>10</td><td>&quot;2023-11-01&quot;</td><td>10</td><td>&quot;vr&quot;</td><td>&quot;IC&quot;</td><td>&quot;Long-distance&quot;</td><td>&quot;&quot;</td><td>false</td><td>false</td><td>null</td><td>286825742543</td><td>&quot;REGULAR&quot;</td><td>&quot;2023-07-05T11:…</td><td>null</td></tr><tr><td>11</td><td>&quot;2023-11-01&quot;</td><td>10</td><td>&quot;vr&quot;</td><td>&quot;IC&quot;</td><td>&quot;Long-distance&quot;</td><td>&quot;&quot;</td><td>false</td><td>false</td><td>null</td><td>286826993172</td><td>&quot;REGULAR&quot;</td><td>&quot;2023-07-05T11:…</td><td>null</td></tr><tr><td>12</td><td>&quot;2023-11-01&quot;</td><td>10</td><td>&quot;vr&quot;</td><td>&quot;IC&quot;</td><td>&quot;Long-distance&quot;</td><td>&quot;&quot;</td><td>false</td><td>false</td><td>null</td><td>286944397711</td><td>&quot;REGULAR&quot;</td><td>&quot;2022-11-03T06:…</td><td>null</td></tr><tr><td>&hellip;</td><td>&hellip;</td><td>&hellip;</td><td>&hellip;</td><td>&hellip;</td><td>&hellip;</td><td>&hellip;</td><td>&hellip;</td><td>&hellip;</td><td>&hellip;</td><td>&hellip;</td><td>&hellip;</td><td>&hellip;</td><td>&hellip;</td></tr><tr><td>75198</td><td>&quot;2023-11-01&quot;</td><td>9900</td><td>&quot;sweco-ir&quot;</td><td>&quot;LIV&quot;</td><td>&quot;Test drive&quot;</td><td>&quot;&quot;</td><td>false</td><td>false</td><td>null</td><td>286822264438</td><td>&quot;ADHOC&quot;</td><td>&quot;2023-10-30T09:…</td><td>null</td></tr><tr><td>75199</td><td>&quot;2023-11-01&quot;</td><td>9900</td><td>&quot;sweco-ir&quot;</td><td>&quot;LIV&quot;</td><td>&quot;Test drive&quot;</td><td>&quot;&quot;</td><td>false</td><td>false</td><td>null</td><td>286822000636</td><td>&quot;ADHOC&quot;</td><td>&quot;2023-10-30T09:…</td><td>null</td></tr><tr><td>76010</td><td>&quot;2023-11-01&quot;</td><td>9999</td><td>&quot;winco&quot;</td><td>&quot;TYO&quot;</td><td>&quot;On-track machi…</td><td>&quot;&quot;</td><td>false</td><td>false</td><td>null</td><td>286820142458</td><td>&quot;ADHOC&quot;</td><td>&quot;2023-11-01T01:…</td><td>null</td></tr><tr><td>76011</td><td>&quot;2023-11-01&quot;</td><td>9999</td><td>&quot;winco&quot;</td><td>&quot;TYO&quot;</td><td>&quot;On-track machi…</td><td>&quot;&quot;</td><td>true</td><td>false</td><td>null</td><td>286826901597</td><td>&quot;ADHOC&quot;</td><td>&quot;2023-11-01T16:…</td><td>null</td></tr><tr><td>76012</td><td>&quot;2023-11-01&quot;</td><td>9999</td><td>&quot;winco&quot;</td><td>&quot;TYO&quot;</td><td>&quot;On-track machi…</td><td>&quot;&quot;</td><td>true</td><td>false</td><td>null</td><td>286827761443</td><td>&quot;ADHOC&quot;</td><td>&quot;2023-11-01T20:…</td><td>null</td></tr><tr><td>76040</td><td>&quot;2023-11-01&quot;</td><td>9999</td><td>&quot;winco&quot;</td><td>&quot;TYO&quot;</td><td>&quot;On-track machi…</td><td>&quot;&quot;</td><td>false</td><td>false</td><td>null</td><td>286827359353</td><td>&quot;ADHOC&quot;</td><td>&quot;2023-11-01T12:…</td><td>null</td></tr><tr><td>76041</td><td>&quot;2023-11-01&quot;</td><td>9999</td><td>&quot;winco&quot;</td><td>&quot;TYO&quot;</td><td>&quot;On-track machi…</td><td>&quot;&quot;</td><td>true</td><td>false</td><td>null</td><td>286819670359</td><td>&quot;ADHOC&quot;</td><td>&quot;2023-11-01T00:…</td><td>null</td></tr><tr><td>76044</td><td>&quot;2023-11-01&quot;</td><td>9999</td><td>&quot;winco&quot;</td><td>&quot;TYO&quot;</td><td>&quot;On-track machi…</td><td>&quot;&quot;</td><td>false</td><td>false</td><td>null</td><td>286819544019</td><td>&quot;ADHOC&quot;</td><td>&quot;2023-11-01T00:…</td><td>null</td></tr><tr><td>76110</td><td>&quot;2023-11-01&quot;</td><td>3177</td><td>&quot;destia&quot;</td><td>&quot;TYO&quot;</td><td>&quot;On-track machi…</td><td>&quot;&quot;</td><td>false</td><td>false</td><td>null</td><td>286823808806</td><td>&quot;ADHOC&quot;</td><td>&quot;2023-10-31T15:…</td><td>null</td></tr><tr><td>79920</td><td>&quot;2023-11-01&quot;</td><td>9999</td><td>&quot;winco&quot;</td><td>&quot;TYO&quot;</td><td>&quot;On-track machi…</td><td>&quot;&quot;</td><td>false</td><td>false</td><td>null</td><td>286821861843</td><td>&quot;ADHOC&quot;</td><td>&quot;2023-11-01T06:…</td><td>null</td></tr><tr><td>79925</td><td>&quot;2023-11-01&quot;</td><td>9999</td><td>&quot;winco&quot;</td><td>&quot;TYO&quot;</td><td>&quot;On-track machi…</td><td>&quot;&quot;</td><td>false</td><td>false</td><td>null</td><td>286825785786</td><td>&quot;ADHOC&quot;</td><td>&quot;2023-10-31T16:…</td><td>null</td></tr><tr><td>79950</td><td>&quot;2023-11-01&quot;</td><td>9996</td><td>&quot;sundstroms&quot;</td><td>&quot;TYO&quot;</td><td>&quot;On-track machi…</td><td>&quot;&quot;</td><td>false</td><td>false</td><td>null</td><td>286824343179</td><td>&quot;ADHOC&quot;</td><td>&quot;2023-11-01T13:…</td><td>null</td></tr></tbody></table></div>"
      ],
      "text/plain": [
       "shape: (1_782, 14)\n",
       "┌───────────┬───────────┬───────────┬───────────┬───┬───────────┬───────────┬───────────┬──────────┐\n",
       "│ trainNumb ┆ departure ┆ operatorU ┆ operatorS ┆ … ┆ version   ┆ timetable ┆ timetable ┆ timetabl │\n",
       "│ er        ┆ Date      ┆ ICCode    ┆ hortCode  ┆   ┆ ---       ┆ Type      ┆ Acceptanc ┆ eRows    │\n",
       "│ ---       ┆ ---       ┆ ---       ┆ ---       ┆   ┆ i64       ┆ ---       ┆ eDate     ┆ ---      │\n",
       "│ i64       ┆ str       ┆ i64       ┆ str       ┆   ┆           ┆ str       ┆ ---       ┆ list[str │\n",
       "│           ┆           ┆           ┆           ┆   ┆           ┆           ┆ str       ┆ uct[16]] │\n",
       "╞═══════════╪═══════════╪═══════════╪═══════════╪═══╪═══════════╪═══════════╪═══════════╪══════════╡\n",
       "│ 1         ┆ 2023-11-0 ┆ 10        ┆ vr        ┆ … ┆ 286822491 ┆ REGULAR   ┆ 2023-07-0 ┆ null     │\n",
       "│           ┆ 1         ┆           ┆           ┆   ┆ 217       ┆           ┆ 5T11:22:0 ┆          │\n",
       "│           ┆           ┆           ┆           ┆   ┆           ┆           ┆ 1.000Z    ┆          │\n",
       "│ 2         ┆ 2023-11-0 ┆ 10        ┆ vr        ┆ … ┆ 286821604 ┆ REGULAR   ┆ 2023-07-0 ┆ null     │\n",
       "│           ┆ 1         ┆           ┆           ┆   ┆ 082       ┆           ┆ 5T11:22:0 ┆          │\n",
       "│           ┆           ┆           ┆           ┆   ┆           ┆           ┆ 1.000Z    ┆          │\n",
       "│ 3         ┆ 2023-11-0 ┆ 10        ┆ vr        ┆ … ┆ 286823761 ┆ REGULAR   ┆ 2023-07-0 ┆ null     │\n",
       "│           ┆ 1         ┆           ┆           ┆   ┆ 991       ┆           ┆ 5T11:22:0 ┆          │\n",
       "│           ┆           ┆           ┆           ┆   ┆           ┆           ┆ 1.000Z    ┆          │\n",
       "│ 4         ┆ 2023-11-0 ┆ 10        ┆ vr        ┆ … ┆ 286822663 ┆ REGULAR   ┆ 2023-07-0 ┆ null     │\n",
       "│           ┆ 1         ┆           ┆           ┆   ┆ 552       ┆           ┆ 5T11:22:0 ┆          │\n",
       "│           ┆           ┆           ┆           ┆   ┆           ┆           ┆ 1.000Z    ┆          │\n",
       "│ …         ┆ …         ┆ …         ┆ …         ┆ … ┆ …         ┆ …         ┆ …         ┆ …        │\n",
       "│ 76110     ┆ 2023-11-0 ┆ 3177      ┆ destia    ┆ … ┆ 286823808 ┆ ADHOC     ┆ 2023-10-3 ┆ null     │\n",
       "│           ┆ 1         ┆           ┆           ┆   ┆ 806       ┆           ┆ 1T15:48:4 ┆          │\n",
       "│           ┆           ┆           ┆           ┆   ┆           ┆           ┆ 3.000Z    ┆          │\n",
       "│ 79920     ┆ 2023-11-0 ┆ 9999      ┆ winco     ┆ … ┆ 286821861 ┆ ADHOC     ┆ 2023-11-0 ┆ null     │\n",
       "│           ┆ 1         ┆           ┆           ┆   ┆ 843       ┆           ┆ 1T06:26:1 ┆          │\n",
       "│           ┆           ┆           ┆           ┆   ┆           ┆           ┆ 0.000Z    ┆          │\n",
       "│ 79925     ┆ 2023-11-0 ┆ 9999      ┆ winco     ┆ … ┆ 286825785 ┆ ADHOC     ┆ 2023-10-3 ┆ null     │\n",
       "│           ┆ 1         ┆           ┆           ┆   ┆ 786       ┆           ┆ 1T16:02:0 ┆          │\n",
       "│           ┆           ┆           ┆           ┆   ┆           ┆           ┆ 3.000Z    ┆          │\n",
       "│ 79950     ┆ 2023-11-0 ┆ 9996      ┆ sundstrom ┆ … ┆ 286824343 ┆ ADHOC     ┆ 2023-11-0 ┆ null     │\n",
       "│           ┆ 1         ┆           ┆ s         ┆   ┆ 179       ┆           ┆ 1T13:10:0 ┆          │\n",
       "│           ┆           ┆           ┆           ┆   ┆           ┆           ┆ 8.000Z    ┆          │\n",
       "└───────────┴───────────┴───────────┴───────────┴───┴───────────┴───────────┴───────────┴──────────┘"
      ]
     },
     "execution_count": 30,
     "metadata": {},
     "output_type": "execute_result"
    }
   ],
   "source": [
    "SCHEMA = {\n",
    "    \"trainNumber\": pl.Int64,\n",
    "    \"departureDate\": pl.Utf8,\n",
    "    \"operatorUICCode\": pl.Int64,\n",
    "    \"operatorShortCode\": pl.Utf8,\n",
    "    \"trainType\": pl.Utf8,\n",
    "\t\"trainCategory\": pl.Utf8,\n",
    "\t\"commuterLineID\": pl.Utf8,\n",
    "    \"runningCurrently\": pl.Boolean,\n",
    "\t\"cancelled\": pl.Boolean,\n",
    "    \"deleted\": pl.Boolean,\n",
    "    \"version\": pl.Int64,\n",
    "    \"timetableType\": pl.Utf8,\n",
    "\t\"timetableAcceptanceDate\": pl.Utf8,\n",
    "    \"timetableRows\": pl.List(\n",
    "        pl.Struct({\n",
    "            \"stationShortCode\": pl.Utf8,\n",
    "            \"stationUICCode\": pl.Int64,\n",
    "            \"countryCode\": pl.Utf8,\n",
    "            \"type\": pl.Utf8,\n",
    "            \"trainStopping\": pl.Boolean,\n",
    "            \"commercialStop\": pl.Boolean,\n",
    "            \"commercialTrack\": pl.Utf8,\n",
    "            \"cancelled\": pl.Boolean,\n",
    "            \"scheduledTime\": pl.Utf8,\n",
    "            \"liveEstimateTime\": pl.Utf8,\n",
    "            \"estimateSource\": pl.Utf8,\n",
    "            \"unknownDelay\": pl.Boolean,\n",
    "            \"actualTime\": pl.Utf8,\n",
    "            \"differenceInMinutes\": pl.Int64,\n",
    "            \"causes\": pl.List(),\n",
    "            \"trainReady\": pl.List(\n",
    "                pl.Struct(\n",
    "                    {\n",
    "                        \"source\": pl.Utf8,\n",
    "                        \"accepted\": pl.Boolean,\n",
    "                        \"timestamp\": pl.Utf8,   \n",
    "                    }\n",
    "                ),\n",
    "            ),\n",
    "        }),\n",
    "    )\n",
    "}\n",
    "\n",
    "polars_df = pl.read_json(vr_full_load_jsons[0], schema=SCHEMA)\n",
    "polars_df"
   ]
  },
  {
   "cell_type": "code",
   "execution_count": 31,
   "metadata": {},
   "outputs": [
    {
     "data": {
      "text/html": [
       "<div><style>\n",
       ".dataframe > thead > tr,\n",
       ".dataframe > tbody > tr {\n",
       "  text-align: right;\n",
       "  white-space: pre-wrap;\n",
       "}\n",
       "</style>\n",
       "<small>shape: (5, 14)</small><table border=\"1\" class=\"dataframe\"><thead><tr><th>trainNumber</th><th>departureDate</th><th>operatorUICCode</th><th>operatorShortCode</th><th>trainType</th><th>trainCategory</th><th>commuterLineID</th><th>runningCurrently</th><th>cancelled</th><th>deleted</th><th>version</th><th>timetableType</th><th>timetableAcceptanceDate</th><th>timetableRows</th></tr><tr><td>i64</td><td>str</td><td>i64</td><td>str</td><td>str</td><td>str</td><td>str</td><td>bool</td><td>bool</td><td>bool</td><td>i64</td><td>str</td><td>str</td><td>list[struct[16]]</td></tr></thead><tbody><tr><td>1</td><td>&quot;2023-11-01&quot;</td><td>10</td><td>&quot;vr&quot;</td><td>&quot;IC&quot;</td><td>&quot;Long-distance&quot;</td><td>&quot;&quot;</td><td>false</td><td>false</td><td>null</td><td>286822491217</td><td>&quot;REGULAR&quot;</td><td>&quot;2023-07-05T11:…</td><td>null</td></tr><tr><td>2</td><td>&quot;2023-11-01&quot;</td><td>10</td><td>&quot;vr&quot;</td><td>&quot;S&quot;</td><td>&quot;Long-distance&quot;</td><td>&quot;&quot;</td><td>false</td><td>false</td><td>null</td><td>286821604082</td><td>&quot;REGULAR&quot;</td><td>&quot;2023-07-05T11:…</td><td>null</td></tr><tr><td>3</td><td>&quot;2023-11-01&quot;</td><td>10</td><td>&quot;vr&quot;</td><td>&quot;IC&quot;</td><td>&quot;Long-distance&quot;</td><td>&quot;&quot;</td><td>false</td><td>false</td><td>null</td><td>286823761991</td><td>&quot;REGULAR&quot;</td><td>&quot;2023-07-05T11:…</td><td>null</td></tr><tr><td>4</td><td>&quot;2023-11-01&quot;</td><td>10</td><td>&quot;vr&quot;</td><td>&quot;IC&quot;</td><td>&quot;Long-distance&quot;</td><td>&quot;&quot;</td><td>false</td><td>false</td><td>null</td><td>286822663552</td><td>&quot;REGULAR&quot;</td><td>&quot;2023-07-05T11:…</td><td>null</td></tr><tr><td>5</td><td>&quot;2023-11-01&quot;</td><td>10</td><td>&quot;vr&quot;</td><td>&quot;IC&quot;</td><td>&quot;Long-distance&quot;</td><td>&quot;&quot;</td><td>false</td><td>false</td><td>null</td><td>286824982323</td><td>&quot;REGULAR&quot;</td><td>&quot;2023-07-05T11:…</td><td>null</td></tr></tbody></table></div>"
      ],
      "text/plain": [
       "shape: (5, 14)\n",
       "┌───────────┬───────────┬───────────┬───────────┬───┬───────────┬───────────┬───────────┬──────────┐\n",
       "│ trainNumb ┆ departure ┆ operatorU ┆ operatorS ┆ … ┆ version   ┆ timetable ┆ timetable ┆ timetabl │\n",
       "│ er        ┆ Date      ┆ ICCode    ┆ hortCode  ┆   ┆ ---       ┆ Type      ┆ Acceptanc ┆ eRows    │\n",
       "│ ---       ┆ ---       ┆ ---       ┆ ---       ┆   ┆ i64       ┆ ---       ┆ eDate     ┆ ---      │\n",
       "│ i64       ┆ str       ┆ i64       ┆ str       ┆   ┆           ┆ str       ┆ ---       ┆ list[str │\n",
       "│           ┆           ┆           ┆           ┆   ┆           ┆           ┆ str       ┆ uct[16]] │\n",
       "╞═══════════╪═══════════╪═══════════╪═══════════╪═══╪═══════════╪═══════════╪═══════════╪══════════╡\n",
       "│ 1         ┆ 2023-11-0 ┆ 10        ┆ vr        ┆ … ┆ 286822491 ┆ REGULAR   ┆ 2023-07-0 ┆ null     │\n",
       "│           ┆ 1         ┆           ┆           ┆   ┆ 217       ┆           ┆ 5T11:22:0 ┆          │\n",
       "│           ┆           ┆           ┆           ┆   ┆           ┆           ┆ 1.000Z    ┆          │\n",
       "│ 2         ┆ 2023-11-0 ┆ 10        ┆ vr        ┆ … ┆ 286821604 ┆ REGULAR   ┆ 2023-07-0 ┆ null     │\n",
       "│           ┆ 1         ┆           ┆           ┆   ┆ 082       ┆           ┆ 5T11:22:0 ┆          │\n",
       "│           ┆           ┆           ┆           ┆   ┆           ┆           ┆ 1.000Z    ┆          │\n",
       "│ 3         ┆ 2023-11-0 ┆ 10        ┆ vr        ┆ … ┆ 286823761 ┆ REGULAR   ┆ 2023-07-0 ┆ null     │\n",
       "│           ┆ 1         ┆           ┆           ┆   ┆ 991       ┆           ┆ 5T11:22:0 ┆          │\n",
       "│           ┆           ┆           ┆           ┆   ┆           ┆           ┆ 1.000Z    ┆          │\n",
       "│ 4         ┆ 2023-11-0 ┆ 10        ┆ vr        ┆ … ┆ 286822663 ┆ REGULAR   ┆ 2023-07-0 ┆ null     │\n",
       "│           ┆ 1         ┆           ┆           ┆   ┆ 552       ┆           ┆ 5T11:22:0 ┆          │\n",
       "│           ┆           ┆           ┆           ┆   ┆           ┆           ┆ 1.000Z    ┆          │\n",
       "│ 5         ┆ 2023-11-0 ┆ 10        ┆ vr        ┆ … ┆ 286824982 ┆ REGULAR   ┆ 2023-07-0 ┆ null     │\n",
       "│           ┆ 1         ┆           ┆           ┆   ┆ 323       ┆           ┆ 5T11:22:0 ┆          │\n",
       "│           ┆           ┆           ┆           ┆   ┆           ┆           ┆ 1.000Z    ┆          │\n",
       "└───────────┴───────────┴───────────┴───────────┴───┴───────────┴───────────┴───────────┴──────────┘"
      ]
     },
     "execution_count": 31,
     "metadata": {},
     "output_type": "execute_result"
    }
   ],
   "source": [
    "polars_df.head()"
   ]
  }
 ],
 "metadata": {
  "kernelspec": {
   "display_name": "Python 3",
   "language": "python",
   "name": "python3"
  },
  "language_info": {
   "codemirror_mode": {
    "name": "ipython",
    "version": 3
   },
   "file_extension": ".py",
   "mimetype": "text/x-python",
   "name": "python",
   "nbconvert_exporter": "python",
   "pygments_lexer": "ipython3",
   "version": "3.11.7"
  }
 },
 "nbformat": 4,
 "nbformat_minor": 2
}
