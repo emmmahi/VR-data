{
 "cells": [
  {
   "cell_type": "code",
   "execution_count": 53,
   "metadata": {},
   "outputs": [],
   "source": [
    "import polars as pl\n",
    "import duckdb\n",
    "from pathlib import Path"
   ]
  },
  {
   "cell_type": "markdown",
   "metadata": {},
   "source": [
    "# Handle paths"
   ]
  },
  {
   "cell_type": "code",
   "execution_count": 54,
   "metadata": {},
   "outputs": [
    {
     "name": "stdout",
     "output_type": "stream",
     "text": [
      "1\n"
     ]
    }
   ],
   "source": [
    "staging_tool_path = Path().absolute().parent.parent / \"data\" / \"datalake\" / \"staging\" / \"vr_data\"\n",
    "\n",
    "vr_full_load_jsons = list(staging_tool_path.glob(\"**/*.json\"))\n",
    "print(len(list(vr_full_load_jsons)))"
   ]
  },
  {
   "cell_type": "markdown",
   "metadata": {},
   "source": [
    "# Visualization on one loaded json file"
   ]
  },
  {
   "cell_type": "code",
   "execution_count": 55,
   "metadata": {},
   "outputs": [
    {
     "data": {
      "text/html": [
       "<div><style>\n",
       ".dataframe > thead > tr,\n",
       ".dataframe > tbody > tr {\n",
       "  text-align: right;\n",
       "  white-space: pre-wrap;\n",
       "}\n",
       "</style>\n",
       "<small>shape: (2, 13)</small><table border=\"1\" class=\"dataframe\"><thead><tr><th>trainNumber</th><th>departureDate</th><th>operatorUICCode</th><th>operatorShortCode</th><th>trainType</th><th>trainCategory</th><th>commuterLineID</th><th>runningCurrently</th><th>cancelled</th><th>version</th><th>timetableType</th><th>timetableAcceptanceDate</th><th>timeTableRows</th></tr><tr><td>i64</td><td>str</td><td>i64</td><td>str</td><td>str</td><td>str</td><td>str</td><td>bool</td><td>bool</td><td>i64</td><td>str</td><td>str</td><td>list[struct[16]]</td></tr></thead><tbody><tr><td>1</td><td>&quot;2023-11-01&quot;</td><td>10</td><td>&quot;vr&quot;</td><td>&quot;IC&quot;</td><td>&quot;Long-distance&quot;</td><td>&quot;&quot;</td><td>false</td><td>false</td><td>286822491217</td><td>&quot;REGULAR&quot;</td><td>&quot;2023-07-05T11:…</td><td>[{&quot;HKI&quot;,1,&quot;FI&quot;,&quot;DEPARTURE&quot;,true,&quot;10&quot;,false,&quot;2023-11-01T04:55:00.000Z&quot;,null,null,0,[],1,true,&quot;2023-11-01T04:55:21.000Z&quot;,{&quot;KUPLA&quot;,true,&quot;2023-11-01T04:53:40.000Z&quot;}}, {&quot;PSL&quot;,10,&quot;FI&quot;,&quot;ARRIVAL&quot;,true,&quot;4&quot;,false,&quot;2023-11-01T05:00:00.000Z&quot;,null,null,0,[],1,true,&quot;2023-11-01T05:00:14.000Z&quot;,{null,null,null}}, … {&quot;JNS&quot;,460,&quot;FI&quot;,&quot;ARRIVAL&quot;,true,&quot;1&quot;,false,&quot;2023-11-01T09:41:00.000Z&quot;,&quot;2023-11-01T09:39:41.000Z&quot;,&quot;LIIKE_AUTOMATIC&quot;,-1,[],1,true,&quot;2023-11-01T09:39:41.000Z&quot;,{null,null,null}}]</td></tr><tr><td>2</td><td>&quot;2023-11-01&quot;</td><td>10</td><td>&quot;vr&quot;</td><td>&quot;S&quot;</td><td>&quot;Long-distance&quot;</td><td>&quot;&quot;</td><td>false</td><td>false</td><td>286821604082</td><td>&quot;REGULAR&quot;</td><td>&quot;2023-07-05T11:…</td><td>[{&quot;JNS&quot;,460,&quot;FI&quot;,&quot;DEPARTURE&quot;,true,&quot;1&quot;,false,&quot;2023-11-01T02:58:00.000Z&quot;,null,null,0,[],2,true,&quot;2023-11-01T02:58:00.000Z&quot;,{&quot;KUPLA&quot;,true,&quot;2023-11-01T02:53:10.000Z&quot;}}, {&quot;PLT&quot;,1070,&quot;FI&quot;,&quot;ARRIVAL&quot;,false,&quot;&quot;,false,&quot;2023-11-01T02:58:42.000Z&quot;,&quot;2023-11-01T02:58:42.000Z&quot;,&quot;LIIKE_AUTOMATIC&quot;,0,[],2,null,null,{null,null,null}}, … {&quot;HKI&quot;,1,&quot;FI&quot;,&quot;ARRIVAL&quot;,true,&quot;9&quot;,false,&quot;2023-11-01T07:30:00.000Z&quot;,null,null,1,[],2,true,&quot;2023-11-01T07:31:07.000Z&quot;,{null,null,null}}]</td></tr></tbody></table></div>"
      ],
      "text/plain": [
       "shape: (2, 13)\n",
       "┌───────────┬───────────┬───────────┬───────────┬───┬───────────┬───────────┬───────────┬──────────┐\n",
       "│ trainNumb ┆ departure ┆ operatorU ┆ operatorS ┆ … ┆ version   ┆ timetable ┆ timetable ┆ timeTabl │\n",
       "│ er        ┆ Date      ┆ ICCode    ┆ hortCode  ┆   ┆ ---       ┆ Type      ┆ Acceptanc ┆ eRows    │\n",
       "│ ---       ┆ ---       ┆ ---       ┆ ---       ┆   ┆ i64       ┆ ---       ┆ eDate     ┆ ---      │\n",
       "│ i64       ┆ str       ┆ i64       ┆ str       ┆   ┆           ┆ str       ┆ ---       ┆ list[str │\n",
       "│           ┆           ┆           ┆           ┆   ┆           ┆           ┆ str       ┆ uct[16]] │\n",
       "╞═══════════╪═══════════╪═══════════╪═══════════╪═══╪═══════════╪═══════════╪═══════════╪══════════╡\n",
       "│ 1         ┆ 2023-11-0 ┆ 10        ┆ vr        ┆ … ┆ 286822491 ┆ REGULAR   ┆ 2023-07-0 ┆ [{\"HKI\", │\n",
       "│           ┆ 1         ┆           ┆           ┆   ┆ 217       ┆           ┆ 5T11:22:0 ┆ 1,\"FI\",\" │\n",
       "│           ┆           ┆           ┆           ┆   ┆           ┆           ┆ 1.000Z    ┆ DEPARTUR │\n",
       "│           ┆           ┆           ┆           ┆   ┆           ┆           ┆           ┆ E\",true, │\n",
       "│           ┆           ┆           ┆           ┆   ┆           ┆           ┆           ┆ …        │\n",
       "│ 2         ┆ 2023-11-0 ┆ 10        ┆ vr        ┆ … ┆ 286821604 ┆ REGULAR   ┆ 2023-07-0 ┆ [{\"JNS\", │\n",
       "│           ┆ 1         ┆           ┆           ┆   ┆ 082       ┆           ┆ 5T11:22:0 ┆ 460,\"FI\" │\n",
       "│           ┆           ┆           ┆           ┆   ┆           ┆           ┆ 1.000Z    ┆ ,\"DEPART │\n",
       "│           ┆           ┆           ┆           ┆   ┆           ┆           ┆           ┆ URE\",tru │\n",
       "│           ┆           ┆           ┆           ┆   ┆           ┆           ┆           ┆ …        │\n",
       "└───────────┴───────────┴───────────┴───────────┴───┴───────────┴───────────┴───────────┴──────────┘"
      ]
     },
     "execution_count": 55,
     "metadata": {},
     "output_type": "execute_result"
    }
   ],
   "source": [
    "polars_df = pl.read_json(vr_full_load_jsons[0])\n",
    "polars_df.head(2)\n"
   ]
  },
  {
   "cell_type": "code",
   "execution_count": 56,
   "metadata": {},
   "outputs": [],
   "source": [
    "SCHEMA = {\n",
    "    \"trainNumber\": pl.Int64,\n",
    "    \"departureDate\": pl.Utf8,\n",
    "    \"operatorUICCode\": pl.Int64,\n",
    "    \"operatorShortCode\": pl.Utf8,\n",
    "    \"trainType\": pl.Utf8,\n",
    "\t\"trainCategory\": pl.Utf8,\n",
    "\t\"commuterLineID\": pl.Utf8,\n",
    "    \"runningCurrently\": pl.Boolean,\n",
    "\t\"cancelled\": pl.Boolean,\n",
    "    \"deleted\": pl.Boolean,\n",
    "    \"version\": pl.Int64,\n",
    "    \"timetableType\": pl.Utf8,\n",
    "\t\"timetableAcceptanceDate\": pl.Utf8,\n",
    "    \"timeTableRows\": pl.List(\n",
    "        pl.Struct({\n",
    "            \"stationShortCode\": pl.Utf8,\n",
    "            \"stationUICCode\": pl.Int64,\n",
    "            \"countryCode\": pl.Utf8,\n",
    "            \"type\": pl.Utf8,\n",
    "            \"trainStopping\": pl.Boolean,\n",
    "            \"commercialStop\": pl.Boolean,\n",
    "            \"commercialTrack\": pl.Utf8,\n",
    "            \"cancelled\": pl.Boolean,\n",
    "            \"scheduledTime\": pl.Utf8,\n",
    "            \"liveEstimateTime\": pl.Utf8,\n",
    "            \"estimateSource\": pl.Utf8,\n",
    "            \"unknownDelay\": pl.Boolean,\n",
    "            \"actualTime\": pl.Utf8,\n",
    "            \"differenceInMinutes\": pl.Int64,\n",
    "            \"causes\": pl.List(\n",
    "                pl.Struct(\n",
    "                    {\n",
    "                        \"passengerTerm\": pl.Utf8,\n",
    "                        \"categoryCode\": pl.Utf8,\n",
    "                        \"categoryName\": pl.Utf8,\n",
    "                        \"validFrom\": pl.Utf8,\n",
    "                        \"validTo\": pl.Utf8,\n",
    "                        \"id\": pl.Int32,\n",
    "                        \"detailedCategoryCode\": pl.Utf8,\n",
    "                        \"detailedCategoryName\": pl.Utf8,\n",
    "                        \"thirdCategoryCode\": pl.Utf8,\n",
    "                        \"thirdCategoryName\": pl.Utf8,\n",
    "                        \"description\": pl.Utf8,\n",
    "                        \"categoryCodeId\": pl.Int32,\n",
    "                        \"detailedCategoryCodeId\": pl.Int32,\n",
    "                        \"thirdCategoryCodeId\": pl.Int32,\n",
    "                    }\n",
    "                )\n",
    "            ),\n",
    "            \"trainReady\": pl.List(\n",
    "                pl.Struct(\n",
    "                    {\n",
    "                        \"source\": pl.Utf8,\n",
    "                        \"accepted\": pl.Boolean,\n",
    "                        \"timestamp\": pl.Utf8,   \n",
    "                    }\n",
    "                ),\n",
    "            ),\n",
    "        }),\n",
    "    )\n",
    "}\n",
    "\n",
    "#polars_df = pl.read_json(vr_full_load_jsons[0], schema=SCHEMA)\n",
    "#polars_df"
   ]
  },
  {
   "cell_type": "code",
   "execution_count": 57,
   "metadata": {},
   "outputs": [
    {
     "data": {
      "text/html": [
       "<div><style>\n",
       ".dataframe > thead > tr,\n",
       ".dataframe > tbody > tr {\n",
       "  text-align: right;\n",
       "  white-space: pre-wrap;\n",
       "}\n",
       "</style>\n",
       "<small>shape: (1, 14)</small><table border=\"1\" class=\"dataframe\"><thead><tr><th>trainNumber</th><th>departureDate</th><th>operatorUICCode</th><th>operatorShortCode</th><th>trainType</th><th>trainCategory</th><th>commuterLineID</th><th>runningCurrently</th><th>cancelled</th><th>deleted</th><th>version</th><th>timetableType</th><th>timetableAcceptanceDate</th><th>timeTableRows</th></tr><tr><td>i64</td><td>str</td><td>i64</td><td>str</td><td>str</td><td>str</td><td>str</td><td>bool</td><td>bool</td><td>bool</td><td>i64</td><td>str</td><td>str</td><td>list[struct[16]]</td></tr></thead><tbody><tr><td>1</td><td>&quot;2023-11-01&quot;</td><td>10</td><td>&quot;vr&quot;</td><td>&quot;IC&quot;</td><td>&quot;Long-distance&quot;</td><td>&quot;&quot;</td><td>false</td><td>false</td><td>null</td><td>286822491217</td><td>&quot;REGULAR&quot;</td><td>&quot;2023-07-05T11:…</td><td>[{&quot;HKI&quot;,1,&quot;FI&quot;,&quot;DEPARTURE&quot;,true,true,&quot;10&quot;,false,&quot;2023-11-01T04:55:00.000Z&quot;,null,null,null,&quot;2023-11-01T04:55:21.000Z&quot;,0,[],null}, {&quot;PSL&quot;,10,&quot;FI&quot;,&quot;ARRIVAL&quot;,true,true,&quot;4&quot;,false,&quot;2023-11-01T05:00:00.000Z&quot;,null,null,null,&quot;2023-11-01T05:00:14.000Z&quot;,0,[],null}, … {&quot;JNS&quot;,460,&quot;FI&quot;,&quot;ARRIVAL&quot;,true,true,&quot;1&quot;,false,&quot;2023-11-01T09:41:00.000Z&quot;,&quot;2023-11-01T09:39:41.000Z&quot;,&quot;LIIKE_AUTOMATIC&quot;,null,&quot;2023-11-01T09:39:41.000Z&quot;,-1,[],null}]</td></tr></tbody></table></div>"
      ],
      "text/plain": [
       "shape: (1, 14)\n",
       "┌───────────┬───────────┬───────────┬───────────┬───┬───────────┬───────────┬───────────┬──────────┐\n",
       "│ trainNumb ┆ departure ┆ operatorU ┆ operatorS ┆ … ┆ version   ┆ timetable ┆ timetable ┆ timeTabl │\n",
       "│ er        ┆ Date      ┆ ICCode    ┆ hortCode  ┆   ┆ ---       ┆ Type      ┆ Acceptanc ┆ eRows    │\n",
       "│ ---       ┆ ---       ┆ ---       ┆ ---       ┆   ┆ i64       ┆ ---       ┆ eDate     ┆ ---      │\n",
       "│ i64       ┆ str       ┆ i64       ┆ str       ┆   ┆           ┆ str       ┆ ---       ┆ list[str │\n",
       "│           ┆           ┆           ┆           ┆   ┆           ┆           ┆ str       ┆ uct[16]] │\n",
       "╞═══════════╪═══════════╪═══════════╪═══════════╪═══╪═══════════╪═══════════╪═══════════╪══════════╡\n",
       "│ 1         ┆ 2023-11-0 ┆ 10        ┆ vr        ┆ … ┆ 286822491 ┆ REGULAR   ┆ 2023-07-0 ┆ [{\"HKI\", │\n",
       "│           ┆ 1         ┆           ┆           ┆   ┆ 217       ┆           ┆ 5T11:22:0 ┆ 1,\"FI\",\" │\n",
       "│           ┆           ┆           ┆           ┆   ┆           ┆           ┆ 1.000Z    ┆ DEPARTUR │\n",
       "│           ┆           ┆           ┆           ┆   ┆           ┆           ┆           ┆ E\",true, │\n",
       "│           ┆           ┆           ┆           ┆   ┆           ┆           ┆           ┆ …        │\n",
       "└───────────┴───────────┴───────────┴───────────┴───┴───────────┴───────────┴───────────┴──────────┘"
      ]
     },
     "execution_count": 57,
     "metadata": {},
     "output_type": "execute_result"
    }
   ],
   "source": [
    "polars_df = pl.read_json(vr_full_load_jsons[0], schema=SCHEMA)\n",
    "polars_df.head(1)"
   ]
  },
  {
   "cell_type": "markdown",
   "metadata": {},
   "source": [
    "# Lazy df"
   ]
  },
  {
   "cell_type": "code",
   "execution_count": 58,
   "metadata": {},
   "outputs": [],
   "source": [
    "lazy_df = pl.scan_ndjson(vr_full_load_jsons[0], schema=SCHEMA)\n",
    "#print(lazy_df.limit(1))\n",
    "# lazy_df.limit(3).collect()"
   ]
  },
  {
   "cell_type": "markdown",
   "metadata": {},
   "source": [
    "# Write to Warehouse (DuckDB)"
   ]
  },
  {
   "cell_type": "code",
   "execution_count": 59,
   "metadata": {},
   "outputs": [],
   "source": [
    "duckdb_path = Path().absolute().parent.parent / \"data\" / \"warehouse\" / \"vr.duckdb\"\n",
    "duckdb_path.is_file()\n",
    "conn = duckdb.connect(database=str(duckdb_path), read_only=False)"
   ]
  },
  {
   "cell_type": "code",
   "execution_count": 62,
   "metadata": {},
   "outputs": [
    {
     "data": {
      "text/html": [
       "<div><style>\n",
       ".dataframe > thead > tr,\n",
       ".dataframe > tbody > tr {\n",
       "  text-align: right;\n",
       "  white-space: pre-wrap;\n",
       "}\n",
       "</style>\n",
       "<small>shape: (1, 14)</small><table border=\"1\" class=\"dataframe\"><thead><tr><th>trainNumber</th><th>departureDate</th><th>operatorUICCode</th><th>operatorShortCode</th><th>trainType</th><th>trainCategory</th><th>commuterLineID</th><th>runningCurrently</th><th>cancelled</th><th>deleted</th><th>version</th><th>timetableType</th><th>timetableAcceptanceDate</th><th>timeTableRows</th></tr><tr><td>i64</td><td>str</td><td>i64</td><td>str</td><td>str</td><td>str</td><td>str</td><td>bool</td><td>bool</td><td>bool</td><td>i64</td><td>str</td><td>str</td><td>list[i32]</td></tr></thead><tbody><tr><td>null</td><td>null</td><td>null</td><td>null</td><td>null</td><td>null</td><td>null</td><td>null</td><td>null</td><td>null</td><td>null</td><td>null</td><td>null</td><td>null</td></tr></tbody></table></div>"
      ],
      "text/plain": [
       "shape: (1, 14)\n",
       "┌────────────┬───────────┬───────────┬───────────┬───┬─────────┬───────────┬───────────┬───────────┐\n",
       "│ trainNumbe ┆ departure ┆ operatorU ┆ operatorS ┆ … ┆ version ┆ timetable ┆ timetable ┆ timeTable │\n",
       "│ r          ┆ Date      ┆ ICCode    ┆ hortCode  ┆   ┆ ---     ┆ Type      ┆ Acceptanc ┆ Rows      │\n",
       "│ ---        ┆ ---       ┆ ---       ┆ ---       ┆   ┆ i64     ┆ ---       ┆ eDate     ┆ ---       │\n",
       "│ i64        ┆ str       ┆ i64       ┆ str       ┆   ┆         ┆ str       ┆ ---       ┆ list[i32] │\n",
       "│            ┆           ┆           ┆           ┆   ┆         ┆           ┆ str       ┆           │\n",
       "╞════════════╪═══════════╪═══════════╪═══════════╪═══╪═════════╪═══════════╪═══════════╪═══════════╡\n",
       "│ null       ┆ null      ┆ null      ┆ null      ┆ … ┆ null    ┆ null      ┆ null      ┆ null      │\n",
       "└────────────┴───────────┴───────────┴───────────┴───┴─────────┴───────────┴───────────┴───────────┘"
      ]
     },
     "execution_count": 62,
     "metadata": {},
     "output_type": "execute_result"
    }
   ],
   "source": [
    "#conn.sql(\"SHOW\")\n",
    "conn.sql(\"SELECT * FROM lazy_df\").pl()"
   ]
  },
  {
   "cell_type": "code",
   "execution_count": 64,
   "metadata": {},
   "outputs": [
    {
     "data": {
      "text/plain": [
       "┌──────────┬─────────────┬───────────────┬───┬─────────┬───────────────┬──────────────────────┬───────────────┐\n",
       "│ route_sk │ trainNumber │ departureDate │ … │ version │ timetableType │ timetableAcceptanc…  │ timeTableRows │\n",
       "│ varchar  │    int64    │    varchar    │   │  int64  │    varchar    │       varchar        │    int32[]    │\n",
       "├──────────┼─────────────┼───────────────┼───┼─────────┼───────────────┼──────────────────────┼───────────────┤\n",
       "│ NULL     │        NULL │ NULL          │ … │    NULL │ NULL          │ NULL                 │ NULL          │\n",
       "├──────────┴─────────────┴───────────────┴───┴─────────┴───────────────┴──────────────────────┴───────────────┤\n",
       "│ 1 rows                                                                                 15 columns (7 shown) │\n",
       "└─────────────────────────────────────────────────────────────────────────────────────────────────────────────┘"
      ]
     },
     "execution_count": 64,
     "metadata": {},
     "output_type": "execute_result"
    }
   ],
   "source": [
    "conn.sql(\"\"\"\n",
    "CREATE SCHEMA IF NOT EXISTS medallion_bronze;     \n",
    "CREATE OR REPLACE TABLE vr.medallion_bronze.method_b_traintest AS (  \n",
    "    WITH traintest_data AS (\n",
    "        SELECT \n",
    "            md5(\n",
    "                trainNumber || departureDate || operatorUICCode \n",
    "            ) as route_sk, --Surrogate Key\n",
    "            * \n",
    "        FROM lazy_df\n",
    "    )\n",
    "            \n",
    "    SELECT * FROM traintest_data\n",
    ");\n",
    "\"\"\")\n",
    "\n",
    "conn.sql(\"\"\"SELECT * FROM medallion_bronze.method_b_traintest LIMIT 1\"\"\")"
   ]
  },
  {
   "cell_type": "code",
   "execution_count": 46,
   "metadata": {},
   "outputs": [],
   "source": [
    "conn.close()"
   ]
  }
 ],
 "metadata": {
  "kernelspec": {
   "display_name": "Python 3",
   "language": "python",
   "name": "python3"
  },
  "language_info": {
   "codemirror_mode": {
    "name": "ipython",
    "version": 3
   },
   "file_extension": ".py",
   "mimetype": "text/x-python",
   "name": "python",
   "nbconvert_exporter": "python",
   "pygments_lexer": "ipython3",
   "version": "3.11.7"
  }
 },
 "nbformat": 4,
 "nbformat_minor": 2
}
