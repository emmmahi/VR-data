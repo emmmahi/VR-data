{
 "cells": [
  {
   "cell_type": "code",
   "execution_count": 18,
   "metadata": {},
   "outputs": [],
   "source": [
    "import polars as pl\n",
    "import duckdb\n",
    "from pathlib import Path"
   ]
  },
  {
   "cell_type": "markdown",
   "metadata": {},
   "source": [
    "# Handle paths"
   ]
  },
  {
   "cell_type": "code",
   "execution_count": 19,
   "metadata": {},
   "outputs": [
    {
     "name": "stdout",
     "output_type": "stream",
     "text": [
      "30\n"
     ]
    }
   ],
   "source": [
    "staging_tool_path = Path().absolute().parent.parent / \"data\" / \"datalake\" / \"staging\" / \"vr_data\"\n",
    "\n",
    "vr_full_load_jsons = list(staging_tool_path.glob(\"**/*.json\"))\n",
    "print(len(list(vr_full_load_jsons)))"
   ]
  },
  {
   "cell_type": "markdown",
   "metadata": {},
   "source": [
    "# Visualization on one loaded json file"
   ]
  },
  {
   "cell_type": "code",
   "execution_count": 20,
   "metadata": {},
   "outputs": [
    {
     "data": {
      "text/html": [
       "<div><style>\n",
       ".dataframe > thead > tr,\n",
       ".dataframe > tbody > tr {\n",
       "  text-align: right;\n",
       "  white-space: pre-wrap;\n",
       "}\n",
       "</style>\n",
       "<small>shape: (2, 13)</small><table border=\"1\" class=\"dataframe\"><thead><tr><th>trainNumber</th><th>departureDate</th><th>operatorUICCode</th><th>operatorShortCode</th><th>trainType</th><th>trainCategory</th><th>commuterLineID</th><th>runningCurrently</th><th>cancelled</th><th>version</th><th>timetableType</th><th>timetableAcceptanceDate</th><th>timeTableRows</th></tr><tr><td>i64</td><td>str</td><td>i64</td><td>str</td><td>str</td><td>str</td><td>str</td><td>bool</td><td>bool</td><td>i64</td><td>str</td><td>str</td><td>list[struct[16]]</td></tr></thead><tbody><tr><td>1</td><td>&quot;2023-11-11&quot;</td><td>10</td><td>&quot;vr&quot;</td><td>&quot;IC&quot;</td><td>&quot;Long-distance&quot;</td><td>&quot;&quot;</td><td>false</td><td>false</td><td>286900629277</td><td>&quot;REGULAR&quot;</td><td>&quot;2023-07-05T11:…</td><td>[{&quot;HKI&quot;,1,&quot;FI&quot;,&quot;DEPARTURE&quot;,true,true,&quot;6&quot;,false,&quot;2023-11-11T04:55:00.000Z&quot;,null,null,&quot;2023-11-11T04:55:46.000Z&quot;,1,[],1,{&quot;KUPLA&quot;,true,&quot;2023-11-11T04:51:42.000Z&quot;}}, {&quot;PSL&quot;,10,&quot;FI&quot;,&quot;ARRIVAL&quot;,true,true,&quot;4&quot;,false,&quot;2023-11-11T05:00:00.000Z&quot;,null,null,&quot;2023-11-11T05:00:11.000Z&quot;,0,[],1,{null,null,null}}, … {&quot;JNS&quot;,460,&quot;FI&quot;,&quot;ARRIVAL&quot;,true,true,&quot;1&quot;,false,&quot;2023-11-11T09:41:00.000Z&quot;,&quot;2023-11-11T09:38:17.000Z&quot;,&quot;LIIKE_AUTOMATIC&quot;,&quot;2023-11-11T09:36:09.000Z&quot;,-5,[],1,{null,null,null}}]</td></tr><tr><td>2</td><td>&quot;2023-11-11&quot;</td><td>10</td><td>&quot;vr&quot;</td><td>&quot;S&quot;</td><td>&quot;Long-distance&quot;</td><td>&quot;&quot;</td><td>false</td><td>false</td><td>286899850172</td><td>&quot;REGULAR&quot;</td><td>&quot;2023-07-05T11:…</td><td>[{&quot;JNS&quot;,460,&quot;FI&quot;,&quot;DEPARTURE&quot;,true,true,&quot;1&quot;,false,&quot;2023-11-11T02:58:00.000Z&quot;,null,null,&quot;2023-11-11T02:58:00.000Z&quot;,0,[],2,{&quot;KUPLA&quot;,true,&quot;2023-11-11T02:44:56.000Z&quot;}}, {&quot;PLT&quot;,1070,&quot;FI&quot;,&quot;ARRIVAL&quot;,false,null,&quot;&quot;,false,&quot;2023-11-11T02:58:42.000Z&quot;,&quot;2023-11-11T02:58:42.000Z&quot;,&quot;LIIKE_AUTOMATIC&quot;,null,0,[],2,{null,null,null}}, … {&quot;HKI&quot;,1,&quot;FI&quot;,&quot;ARRIVAL&quot;,true,true,&quot;10&quot;,false,&quot;2023-11-11T07:30:00.000Z&quot;,null,null,&quot;2023-11-11T07:30:44.000Z&quot;,1,[],2,{null,null,null}}]</td></tr></tbody></table></div>"
      ],
      "text/plain": [
       "shape: (2, 13)\n",
       "┌───────────┬───────────┬───────────┬───────────┬───┬───────────┬───────────┬───────────┬──────────┐\n",
       "│ trainNumb ┆ departure ┆ operatorU ┆ operatorS ┆ … ┆ version   ┆ timetable ┆ timetable ┆ timeTabl │\n",
       "│ er        ┆ Date      ┆ ICCode    ┆ hortCode  ┆   ┆ ---       ┆ Type      ┆ Acceptanc ┆ eRows    │\n",
       "│ ---       ┆ ---       ┆ ---       ┆ ---       ┆   ┆ i64       ┆ ---       ┆ eDate     ┆ ---      │\n",
       "│ i64       ┆ str       ┆ i64       ┆ str       ┆   ┆           ┆ str       ┆ ---       ┆ list[str │\n",
       "│           ┆           ┆           ┆           ┆   ┆           ┆           ┆ str       ┆ uct[16]] │\n",
       "╞═══════════╪═══════════╪═══════════╪═══════════╪═══╪═══════════╪═══════════╪═══════════╪══════════╡\n",
       "│ 1         ┆ 2023-11-1 ┆ 10        ┆ vr        ┆ … ┆ 286900629 ┆ REGULAR   ┆ 2023-07-0 ┆ [{\"HKI\", │\n",
       "│           ┆ 1         ┆           ┆           ┆   ┆ 277       ┆           ┆ 5T11:22:0 ┆ 1,\"FI\",\" │\n",
       "│           ┆           ┆           ┆           ┆   ┆           ┆           ┆ 1.000Z    ┆ DEPARTUR │\n",
       "│           ┆           ┆           ┆           ┆   ┆           ┆           ┆           ┆ E\",true, │\n",
       "│           ┆           ┆           ┆           ┆   ┆           ┆           ┆           ┆ …        │\n",
       "│ 2         ┆ 2023-11-1 ┆ 10        ┆ vr        ┆ … ┆ 286899850 ┆ REGULAR   ┆ 2023-07-0 ┆ [{\"JNS\", │\n",
       "│           ┆ 1         ┆           ┆           ┆   ┆ 172       ┆           ┆ 5T11:22:0 ┆ 460,\"FI\" │\n",
       "│           ┆           ┆           ┆           ┆   ┆           ┆           ┆ 1.000Z    ┆ ,\"DEPART │\n",
       "│           ┆           ┆           ┆           ┆   ┆           ┆           ┆           ┆ URE\",tru │\n",
       "│           ┆           ┆           ┆           ┆   ┆           ┆           ┆           ┆ …        │\n",
       "└───────────┴───────────┴───────────┴───────────┴───┴───────────┴───────────┴───────────┴──────────┘"
      ]
     },
     "execution_count": 20,
     "metadata": {},
     "output_type": "execute_result"
    }
   ],
   "source": [
    "polars_df = pl.read_json(vr_full_load_jsons[10])\n",
    "polars_df.head(2)\n"
   ]
  },
  {
   "cell_type": "markdown",
   "metadata": {},
   "source": [
    "# Creating Schema"
   ]
  },
  {
   "cell_type": "code",
   "execution_count": 21,
   "metadata": {},
   "outputs": [],
   "source": [
    "SCHEMA = {\n",
    "    \"trainNumber\": pl.Int64,\n",
    "    \"departureDate\": pl.Utf8,\n",
    "    \"operatorUICCode\": pl.Int64,\n",
    "    \"operatorShortCode\": pl.Utf8,\n",
    "    \"trainType\": pl.Utf8,\n",
    "\t\"trainCategory\": pl.Utf8,\n",
    "\t\"commuterLineID\": pl.Utf8,\n",
    "    \"runningCurrently\": pl.Boolean,\n",
    "\t\"cancelled\": pl.Boolean,\n",
    "    \"deleted\": pl.Boolean,\n",
    "    \"version\": pl.Int64,\n",
    "    \"timetableType\": pl.Utf8,\n",
    "\t\"timetableAcceptanceDate\": pl.Utf8,\n",
    "    \"timeTableRows\": pl.List(\n",
    "        pl.Struct({\n",
    "            \"stationShortCode\": pl.Utf8,\n",
    "            \"stationUICCode\": pl.Int64,\n",
    "            \"countryCode\": pl.Utf8,\n",
    "            \"type\": pl.Utf8,\n",
    "            \"trainStopping\": pl.Boolean,\n",
    "            \"commercialStop\": pl.Boolean,\n",
    "            \"commercialTrack\": pl.Utf8,\n",
    "            \"cancelled\": pl.Boolean,\n",
    "            \"scheduledTime\": pl.Utf8,\n",
    "            \"liveEstimateTime\": pl.Utf8,\n",
    "            \"estimateSource\": pl.Utf8,\n",
    "            \"unknownDelay\": pl.Boolean,\n",
    "            \"actualTime\": pl.Utf8,\n",
    "            \"differenceInMinutes\": pl.Int64,\n",
    "            \"causes\": pl.List(\n",
    "                pl.Struct(\n",
    "                    {\n",
    "                        \"passengerTerm\": pl.Utf8,\n",
    "                        \"categoryCode\": pl.Utf8,\n",
    "                        \"categoryName\": pl.Utf8,\n",
    "                        \"validFrom\": pl.Utf8,\n",
    "                        \"validTo\": pl.Utf8,\n",
    "                        \"id\": pl.Int32,\n",
    "                        \"detailedCategoryCode\": pl.Utf8,\n",
    "                        \"detailedCategoryName\": pl.Utf8,\n",
    "                        \"thirdCategoryCode\": pl.Utf8,\n",
    "                        \"thirdCategoryName\": pl.Utf8,\n",
    "                        \"description\": pl.Utf8,\n",
    "                        \"categoryCodeId\": pl.Int32,\n",
    "                        \"detailedCategoryCodeId\": pl.Int32,\n",
    "                        \"thirdCategoryCodeId\": pl.Int32,\n",
    "                    }\n",
    "                )\n",
    "            ),\n",
    "            \"trainReady\": pl.List(\n",
    "                pl.Struct(\n",
    "                    {\n",
    "                        \"source\": pl.Utf8,\n",
    "                        \"accepted\": pl.Boolean,\n",
    "                        \"timestamp\": pl.Utf8,   \n",
    "                    }\n",
    "                ),\n",
    "            ),\n",
    "        }),\n",
    "    )\n",
    "}\n"
   ]
  },
  {
   "cell_type": "markdown",
   "metadata": {},
   "source": [
    "# Concat list of arrays to one dataframe"
   ]
  },
  {
   "cell_type": "code",
   "execution_count": 24,
   "metadata": {},
   "outputs": [],
   "source": [
    "# Initialize an empty DataFrame\n",
    "polars_df = pl.DataFrame()\n",
    "\n",
    "# Read each JSON file and concatenate it to the existing DataFrame\n",
    "for json_file in vr_full_load_jsons:\n",
    "    df = pl.read_json(json_file, schema=SCHEMA)\n",
    "    polars_df = pl.concat([polars_df, df])\n",
    "\n",
    "# Now, polars_df contains all the data from the JSON files in a single DataFrame"
   ]
  },
  {
   "cell_type": "code",
   "execution_count": 25,
   "metadata": {},
   "outputs": [
    {
     "data": {
      "text/html": [
       "<div><style>\n",
       ".dataframe > thead > tr,\n",
       ".dataframe > tbody > tr {\n",
       "  text-align: right;\n",
       "  white-space: pre-wrap;\n",
       "}\n",
       "</style>\n",
       "<small>shape: (1, 14)</small><table border=\"1\" class=\"dataframe\"><thead><tr><th>trainNumber</th><th>departureDate</th><th>operatorUICCode</th><th>operatorShortCode</th><th>trainType</th><th>trainCategory</th><th>commuterLineID</th><th>runningCurrently</th><th>cancelled</th><th>deleted</th><th>version</th><th>timetableType</th><th>timetableAcceptanceDate</th><th>timeTableRows</th></tr><tr><td>i64</td><td>str</td><td>i64</td><td>str</td><td>str</td><td>str</td><td>str</td><td>bool</td><td>bool</td><td>bool</td><td>i64</td><td>str</td><td>str</td><td>list[struct[16]]</td></tr></thead><tbody><tr><td>76045</td><td>&quot;2023-11-30&quot;</td><td>9999</td><td>&quot;winco&quot;</td><td>&quot;TYO&quot;</td><td>&quot;On-track machi…</td><td>&quot;&quot;</td><td>false</td><td>false</td><td>null</td><td>287050291234</td><td>&quot;ADHOC&quot;</td><td>&quot;2023-11-30T06:…</td><td>[{&quot;RI&quot;,40,&quot;FI&quot;,&quot;DEPARTURE&quot;,true,true,&quot;1&quot;,false,&quot;2023-11-30T06:36:00.000Z&quot;,null,null,null,&quot;2023-11-30T06:15:16.000Z&quot;,-21,[],null}, {&quot;ARP&quot;,1235,&quot;FI&quot;,&quot;ARRIVAL&quot;,false,null,&quot;&quot;,false,&quot;2023-11-30T06:40:30.000Z&quot;,null,null,null,&quot;2023-11-30T06:24:15.000Z&quot;,-16,[],null}, … {&quot;IKO&quot;,62,&quot;FI&quot;,&quot;ARRIVAL&quot;,true,true,&quot;2&quot;,false,&quot;2023-11-30T08:48:41.000Z&quot;,null,null,null,&quot;2023-11-30T07:58:52.000Z&quot;,-50,[],null}]</td></tr></tbody></table></div>"
      ],
      "text/plain": [
       "shape: (1, 14)\n",
       "┌───────────┬───────────┬───────────┬───────────┬───┬───────────┬───────────┬───────────┬──────────┐\n",
       "│ trainNumb ┆ departure ┆ operatorU ┆ operatorS ┆ … ┆ version   ┆ timetable ┆ timetable ┆ timeTabl │\n",
       "│ er        ┆ Date      ┆ ICCode    ┆ hortCode  ┆   ┆ ---       ┆ Type      ┆ Acceptanc ┆ eRows    │\n",
       "│ ---       ┆ ---       ┆ ---       ┆ ---       ┆   ┆ i64       ┆ ---       ┆ eDate     ┆ ---      │\n",
       "│ i64       ┆ str       ┆ i64       ┆ str       ┆   ┆           ┆ str       ┆ ---       ┆ list[str │\n",
       "│           ┆           ┆           ┆           ┆   ┆           ┆           ┆ str       ┆ uct[16]] │\n",
       "╞═══════════╪═══════════╪═══════════╪═══════════╪═══╪═══════════╪═══════════╪═══════════╪══════════╡\n",
       "│ 76045     ┆ 2023-11-3 ┆ 9999      ┆ winco     ┆ … ┆ 287050291 ┆ ADHOC     ┆ 2023-11-3 ┆ [{\"RI\",4 │\n",
       "│           ┆ 0         ┆           ┆           ┆   ┆ 234       ┆           ┆ 0T06:09:4 ┆ 0,\"FI\",\" │\n",
       "│           ┆           ┆           ┆           ┆   ┆           ┆           ┆ 7.000Z    ┆ DEPARTUR │\n",
       "│           ┆           ┆           ┆           ┆   ┆           ┆           ┆           ┆ E\",true, │\n",
       "│           ┆           ┆           ┆           ┆   ┆           ┆           ┆           ┆ …        │\n",
       "└───────────┴───────────┴───────────┴───────────┴───┴───────────┴───────────┴───────────┴──────────┘"
      ]
     },
     "execution_count": 25,
     "metadata": {},
     "output_type": "execute_result"
    }
   ],
   "source": [
    "#polars_df = pl.read_json(vr_full_load_jsons[0], schema=SCHEMA)\n",
    "polars_df.tail(1)"
   ]
  },
  {
   "cell_type": "code",
   "execution_count": 27,
   "metadata": {},
   "outputs": [
    {
     "data": {
      "text/html": [
       "<div><style>\n",
       ".dataframe > thead > tr,\n",
       ".dataframe > tbody > tr {\n",
       "  text-align: right;\n",
       "  white-space: pre-wrap;\n",
       "}\n",
       "</style>\n",
       "<small>shape: (1, 14)</small><table border=\"1\" class=\"dataframe\"><thead><tr><th>trainNumber</th><th>departureDate</th><th>operatorUICCode</th><th>operatorShortCode</th><th>trainType</th><th>trainCategory</th><th>commuterLineID</th><th>runningCurrently</th><th>cancelled</th><th>deleted</th><th>version</th><th>timetableType</th><th>timetableAcceptanceDate</th><th>timeTableRows</th></tr><tr><td>i64</td><td>str</td><td>i64</td><td>str</td><td>str</td><td>str</td><td>str</td><td>bool</td><td>bool</td><td>bool</td><td>i64</td><td>str</td><td>str</td><td>list[struct[16]]</td></tr></thead><tbody><tr><td>76045</td><td>&quot;2023-11-30&quot;</td><td>9999</td><td>&quot;winco&quot;</td><td>&quot;TYO&quot;</td><td>&quot;On-track machi…</td><td>&quot;&quot;</td><td>false</td><td>false</td><td>null</td><td>287050291234</td><td>&quot;ADHOC&quot;</td><td>&quot;2023-11-30T06:…</td><td>[{&quot;RI&quot;,40,&quot;FI&quot;,&quot;DEPARTURE&quot;,true,true,&quot;1&quot;,false,&quot;2023-11-30T06:36:00.000Z&quot;,null,null,null,&quot;2023-11-30T06:15:16.000Z&quot;,-21,[],null}, {&quot;ARP&quot;,1235,&quot;FI&quot;,&quot;ARRIVAL&quot;,false,null,&quot;&quot;,false,&quot;2023-11-30T06:40:30.000Z&quot;,null,null,null,&quot;2023-11-30T06:24:15.000Z&quot;,-16,[],null}, … {&quot;IKO&quot;,62,&quot;FI&quot;,&quot;ARRIVAL&quot;,true,true,&quot;2&quot;,false,&quot;2023-11-30T08:48:41.000Z&quot;,null,null,null,&quot;2023-11-30T07:58:52.000Z&quot;,-50,[],null}]</td></tr></tbody></table></div>"
      ],
      "text/plain": [
       "shape: (1, 14)\n",
       "┌───────────┬───────────┬───────────┬───────────┬───┬───────────┬───────────┬───────────┬──────────┐\n",
       "│ trainNumb ┆ departure ┆ operatorU ┆ operatorS ┆ … ┆ version   ┆ timetable ┆ timetable ┆ timeTabl │\n",
       "│ er        ┆ Date      ┆ ICCode    ┆ hortCode  ┆   ┆ ---       ┆ Type      ┆ Acceptanc ┆ eRows    │\n",
       "│ ---       ┆ ---       ┆ ---       ┆ ---       ┆   ┆ i64       ┆ ---       ┆ eDate     ┆ ---      │\n",
       "│ i64       ┆ str       ┆ i64       ┆ str       ┆   ┆           ┆ str       ┆ ---       ┆ list[str │\n",
       "│           ┆           ┆           ┆           ┆   ┆           ┆           ┆ str       ┆ uct[16]] │\n",
       "╞═══════════╪═══════════╪═══════════╪═══════════╪═══╪═══════════╪═══════════╪═══════════╪══════════╡\n",
       "│ 76045     ┆ 2023-11-3 ┆ 9999      ┆ winco     ┆ … ┆ 287050291 ┆ ADHOC     ┆ 2023-11-3 ┆ [{\"RI\",4 │\n",
       "│           ┆ 0         ┆           ┆           ┆   ┆ 234       ┆           ┆ 0T06:09:4 ┆ 0,\"FI\",\" │\n",
       "│           ┆           ┆           ┆           ┆   ┆           ┆           ┆ 7.000Z    ┆ DEPARTUR │\n",
       "│           ┆           ┆           ┆           ┆   ┆           ┆           ┆           ┆ E\",true, │\n",
       "│           ┆           ┆           ┆           ┆   ┆           ┆           ┆           ┆ …        │\n",
       "└───────────┴───────────┴───────────┴───────────┴───┴───────────┴───────────┴───────────┴──────────┘"
      ]
     },
     "execution_count": 27,
     "metadata": {},
     "output_type": "execute_result"
    }
   ],
   "source": [
    "#lazy_df = pl.scan_ndjson(vr_full_load_jsons[0], schema=SCHEMA)\n",
    "#print(lazy_df.limit(1))\n",
    "# lazy_df.limit(3).collect()\n",
    "lazy_df = polars_df\n",
    "lazy_df.tail(1)"
   ]
  },
  {
   "cell_type": "markdown",
   "metadata": {},
   "source": [
    "# Write to Warehouse (DuckDB)"
   ]
  },
  {
   "cell_type": "code",
   "execution_count": 28,
   "metadata": {},
   "outputs": [],
   "source": [
    "duckdb_path = Path().absolute().parent.parent / \"data\" / \"warehouse\" / \"vr.duckdb\"\n",
    "duckdb_path.is_file()\n",
    "conn = duckdb.connect(database=str(duckdb_path), read_only=False)"
   ]
  },
  {
   "cell_type": "code",
   "execution_count": null,
   "metadata": {},
   "outputs": [],
   "source": []
  },
  {
   "cell_type": "code",
   "execution_count": 29,
   "metadata": {},
   "outputs": [
    {
     "data": {
      "text/html": [
       "<div><style>\n",
       ".dataframe > thead > tr,\n",
       ".dataframe > tbody > tr {\n",
       "  text-align: right;\n",
       "  white-space: pre-wrap;\n",
       "}\n",
       "</style>\n",
       "<small>shape: (49_197, 14)</small><table border=\"1\" class=\"dataframe\"><thead><tr><th>trainNumber</th><th>departureDate</th><th>operatorUICCode</th><th>operatorShortCode</th><th>trainType</th><th>trainCategory</th><th>commuterLineID</th><th>runningCurrently</th><th>cancelled</th><th>deleted</th><th>version</th><th>timetableType</th><th>timetableAcceptanceDate</th><th>timeTableRows</th></tr><tr><td>i64</td><td>str</td><td>i64</td><td>str</td><td>str</td><td>str</td><td>str</td><td>bool</td><td>bool</td><td>bool</td><td>i64</td><td>str</td><td>str</td><td>list[struct[16]]</td></tr></thead><tbody><tr><td>1</td><td>&quot;2023-11-01&quot;</td><td>10</td><td>&quot;vr&quot;</td><td>&quot;IC&quot;</td><td>&quot;Long-distance&quot;</td><td>&quot;&quot;</td><td>false</td><td>false</td><td>null</td><td>286822491217</td><td>&quot;REGULAR&quot;</td><td>&quot;2023-07-05T11:…</td><td>[{&quot;HKI&quot;,1,&quot;FI&quot;,&quot;DEPARTURE&quot;,true,true,&quot;10&quot;,false,&quot;2023-11-01T04:55:00.000Z&quot;,null,null,null,&quot;2023-11-01T04:55:21.000Z&quot;,0,[],null}, {&quot;PSL&quot;,10,&quot;FI&quot;,&quot;ARRIVAL&quot;,true,true,&quot;4&quot;,false,&quot;2023-11-01T05:00:00.000Z&quot;,null,null,null,&quot;2023-11-01T05:00:14.000Z&quot;,0,[],null}, … {&quot;JNS&quot;,460,&quot;FI&quot;,&quot;ARRIVAL&quot;,true,true,&quot;1&quot;,false,&quot;2023-11-01T09:41:00.000Z&quot;,&quot;2023-11-01T09:39:41.000Z&quot;,&quot;LIIKE_AUTOMATIC&quot;,null,&quot;2023-11-01T09:39:41.000Z&quot;,-1,[],null}]</td></tr><tr><td>2</td><td>&quot;2023-11-01&quot;</td><td>10</td><td>&quot;vr&quot;</td><td>&quot;S&quot;</td><td>&quot;Long-distance&quot;</td><td>&quot;&quot;</td><td>false</td><td>false</td><td>null</td><td>286821604082</td><td>&quot;REGULAR&quot;</td><td>&quot;2023-07-05T11:…</td><td>[{&quot;JNS&quot;,460,&quot;FI&quot;,&quot;DEPARTURE&quot;,true,true,&quot;1&quot;,false,&quot;2023-11-01T02:58:00.000Z&quot;,null,null,null,&quot;2023-11-01T02:58:00.000Z&quot;,0,[],null}, {&quot;PLT&quot;,1070,&quot;FI&quot;,&quot;ARRIVAL&quot;,false,null,&quot;&quot;,false,&quot;2023-11-01T02:58:42.000Z&quot;,&quot;2023-11-01T02:58:42.000Z&quot;,&quot;LIIKE_AUTOMATIC&quot;,null,null,0,[],null}, … {&quot;HKI&quot;,1,&quot;FI&quot;,&quot;ARRIVAL&quot;,true,true,&quot;9&quot;,false,&quot;2023-11-01T07:30:00.000Z&quot;,null,null,null,&quot;2023-11-01T07:31:07.000Z&quot;,1,[],null}]</td></tr><tr><td>3</td><td>&quot;2023-11-01&quot;</td><td>10</td><td>&quot;vr&quot;</td><td>&quot;IC&quot;</td><td>&quot;Long-distance&quot;</td><td>&quot;&quot;</td><td>false</td><td>false</td><td>null</td><td>286823761991</td><td>&quot;REGULAR&quot;</td><td>&quot;2023-07-05T11:…</td><td>[{&quot;HKI&quot;,1,&quot;FI&quot;,&quot;DEPARTURE&quot;,true,true,&quot;6&quot;,false,&quot;2023-11-01T08:15:00.000Z&quot;,null,null,null,&quot;2023-11-01T08:15:49.000Z&quot;,1,[],null}, {&quot;PSL&quot;,10,&quot;FI&quot;,&quot;ARRIVAL&quot;,true,true,&quot;4&quot;,false,&quot;2023-11-01T08:20:00.000Z&quot;,null,null,null,&quot;2023-11-01T08:20:21.000Z&quot;,0,[],null}, … {&quot;JNS&quot;,460,&quot;FI&quot;,&quot;ARRIVAL&quot;,true,true,&quot;1&quot;,false,&quot;2023-11-01T12:51:00.000Z&quot;,&quot;2023-11-01T12:53:08.000Z&quot;,&quot;LIIKE_AUTOMATIC&quot;,null,&quot;2023-11-01T12:53:08.000Z&quot;,2,[],null}]</td></tr><tr><td>4</td><td>&quot;2023-11-01&quot;</td><td>10</td><td>&quot;vr&quot;</td><td>&quot;IC&quot;</td><td>&quot;Long-distance&quot;</td><td>&quot;&quot;</td><td>false</td><td>false</td><td>null</td><td>286822663552</td><td>&quot;REGULAR&quot;</td><td>&quot;2023-07-05T11:…</td><td>[{&quot;JNS&quot;,460,&quot;FI&quot;,&quot;DEPARTURE&quot;,true,true,&quot;1&quot;,false,&quot;2023-11-01T03:58:00.000Z&quot;,null,null,null,&quot;2023-11-01T03:58:00.000Z&quot;,0,[],null}, {&quot;PLT&quot;,1070,&quot;FI&quot;,&quot;ARRIVAL&quot;,false,null,&quot;&quot;,false,&quot;2023-11-01T03:58:42.000Z&quot;,null,null,null,null,null,[],null}, … {&quot;HKI&quot;,1,&quot;FI&quot;,&quot;ARRIVAL&quot;,true,true,&quot;10&quot;,false,&quot;2023-11-01T08:40:00.000Z&quot;,null,null,null,&quot;2023-11-01T08:43:45.000Z&quot;,4,[{null,&quot;L&quot;,null,null,null,null,&quot;L2&quot;,null,&quot;L204&quot;,null,null,352389194,34930952,67245313}],null}]</td></tr><tr><td>5</td><td>&quot;2023-11-01&quot;</td><td>10</td><td>&quot;vr&quot;</td><td>&quot;IC&quot;</td><td>&quot;Long-distance&quot;</td><td>&quot;&quot;</td><td>false</td><td>false</td><td>null</td><td>286824982323</td><td>&quot;REGULAR&quot;</td><td>&quot;2023-07-05T11:…</td><td>[{&quot;HKI&quot;,1,&quot;FI&quot;,&quot;DEPARTURE&quot;,true,true,&quot;8&quot;,false,&quot;2023-11-01T11:15:00.000Z&quot;,null,null,null,&quot;2023-11-01T11:15:24.000Z&quot;,0,[],null}, {&quot;PSL&quot;,10,&quot;FI&quot;,&quot;ARRIVAL&quot;,true,true,&quot;4&quot;,false,&quot;2023-11-01T11:20:00.000Z&quot;,null,null,null,&quot;2023-11-01T11:19:54.000Z&quot;,0,[],null}, … {&quot;JNS&quot;,460,&quot;FI&quot;,&quot;ARRIVAL&quot;,true,true,&quot;1&quot;,false,&quot;2023-11-01T15:51:00.000Z&quot;,&quot;2023-11-01T15:51:00.000Z&quot;,&quot;LIIKE_AUTOMATIC&quot;,null,&quot;2023-11-01T15:51:41.000Z&quot;,1,[],null}]</td></tr><tr><td>6</td><td>&quot;2023-11-01&quot;</td><td>10</td><td>&quot;vr&quot;</td><td>&quot;IC&quot;</td><td>&quot;Long-distance&quot;</td><td>&quot;&quot;</td><td>false</td><td>false</td><td>null</td><td>286823288189</td><td>&quot;REGULAR&quot;</td><td>&quot;2023-07-05T11:…</td><td>[{&quot;JNS&quot;,460,&quot;FI&quot;,&quot;DEPARTURE&quot;,true,true,&quot;1&quot;,false,&quot;2023-11-01T07:00:00.000Z&quot;,&quot;2023-11-01T07:00:00.000Z&quot;,&quot;LIIKE_AUTOMATIC&quot;,null,&quot;2023-11-01T07:00:00.000Z&quot;,0,[],null}, {&quot;PLT&quot;,1070,&quot;FI&quot;,&quot;ARRIVAL&quot;,false,null,&quot;&quot;,false,&quot;2023-11-01T07:00:42.000Z&quot;,&quot;2023-11-01T07:00:42.000Z&quot;,&quot;LIIKE_AUTOMATIC&quot;,null,null,0,[],null}, … {&quot;HKI&quot;,1,&quot;FI&quot;,&quot;ARRIVAL&quot;,true,true,&quot;10&quot;,false,&quot;2023-11-01T11:40:00.000Z&quot;,null,null,null,&quot;2023-11-01T11:42:54.000Z&quot;,3,[],null}]</td></tr><tr><td>7</td><td>&quot;2023-11-01&quot;</td><td>10</td><td>&quot;vr&quot;</td><td>&quot;S&quot;</td><td>&quot;Long-distance&quot;</td><td>&quot;&quot;</td><td>false</td><td>false</td><td>null</td><td>286825745031</td><td>&quot;REGULAR&quot;</td><td>&quot;2023-07-05T11:…</td><td>[{&quot;HKI&quot;,1,&quot;FI&quot;,&quot;DEPARTURE&quot;,true,true,&quot;8&quot;,false,&quot;2023-11-01T13:15:00.000Z&quot;,null,null,null,&quot;2023-11-01T13:15:53.000Z&quot;,1,[],null}, {&quot;PSL&quot;,10,&quot;FI&quot;,&quot;ARRIVAL&quot;,true,true,&quot;4&quot;,false,&quot;2023-11-01T13:20:00.000Z&quot;,null,null,null,&quot;2023-11-01T13:20:58.000Z&quot;,1,[],null}, … {&quot;JNS&quot;,460,&quot;FI&quot;,&quot;ARRIVAL&quot;,true,true,&quot;1&quot;,false,&quot;2023-11-01T17:38:00.000Z&quot;,&quot;2023-11-01T17:38:00.000Z&quot;,&quot;LIIKE_AUTOMATIC&quot;,null,&quot;2023-11-01T17:38:00.000Z&quot;,0,[],null}]</td></tr><tr><td>8</td><td>&quot;2023-11-01&quot;</td><td>10</td><td>&quot;vr&quot;</td><td>&quot;IC&quot;</td><td>&quot;Long-distance&quot;</td><td>&quot;&quot;</td><td>false</td><td>false</td><td>null</td><td>286824613102</td><td>&quot;REGULAR&quot;</td><td>&quot;2023-07-05T11:…</td><td>[{&quot;JNS&quot;,460,&quot;FI&quot;,&quot;DEPARTURE&quot;,true,true,&quot;1&quot;,false,&quot;2023-11-01T10:11:00.000Z&quot;,&quot;2023-11-01T10:11:00.000Z&quot;,&quot;LIIKE_AUTOMATIC&quot;,null,&quot;2023-11-01T10:11:00.000Z&quot;,0,[],null}, {&quot;PLT&quot;,1070,&quot;FI&quot;,&quot;ARRIVAL&quot;,false,null,&quot;&quot;,false,&quot;2023-11-01T10:11:42.000Z&quot;,&quot;2023-11-01T10:11:42.000Z&quot;,&quot;LIIKE_AUTOMATIC&quot;,null,null,0,[],null}, … {&quot;HKI&quot;,1,&quot;FI&quot;,&quot;ARRIVAL&quot;,true,true,&quot;7&quot;,false,&quot;2023-11-01T14:40:00.000Z&quot;,null,null,null,&quot;2023-11-01T14:43:45.000Z&quot;,4,[{null,&quot;L&quot;,null,null,null,null,&quot;L3&quot;,null,&quot;L301&quot;,null,null,352389194,51708168,16979201}],null}]</td></tr><tr><td>9</td><td>&quot;2023-11-01&quot;</td><td>10</td><td>&quot;vr&quot;</td><td>&quot;IC&quot;</td><td>&quot;Long-distance&quot;</td><td>&quot;&quot;</td><td>false</td><td>false</td><td>null</td><td>286826214328</td><td>&quot;REGULAR&quot;</td><td>&quot;2023-07-05T11:…</td><td>[{&quot;HKI&quot;,1,&quot;FI&quot;,&quot;DEPARTURE&quot;,true,true,&quot;7&quot;,false,&quot;2023-11-01T14:15:00.000Z&quot;,null,null,null,&quot;2023-11-01T14:18:15.000Z&quot;,3,[],null}, {&quot;PSL&quot;,10,&quot;FI&quot;,&quot;ARRIVAL&quot;,true,true,&quot;4&quot;,false,&quot;2023-11-01T14:20:00.000Z&quot;,null,null,null,&quot;2023-11-01T14:22:31.000Z&quot;,3,[],null}, … {&quot;JNS&quot;,460,&quot;FI&quot;,&quot;ARRIVAL&quot;,true,true,&quot;1&quot;,false,&quot;2023-11-01T18:58:00.000Z&quot;,&quot;2023-11-01T18:59:56.000Z&quot;,&quot;LIIKE_AUTOMATIC&quot;,null,&quot;2023-11-01T18:59:56.000Z&quot;,2,[],null}]</td></tr><tr><td>10</td><td>&quot;2023-11-01&quot;</td><td>10</td><td>&quot;vr&quot;</td><td>&quot;IC&quot;</td><td>&quot;Long-distance&quot;</td><td>&quot;&quot;</td><td>false</td><td>false</td><td>null</td><td>286825742543</td><td>&quot;REGULAR&quot;</td><td>&quot;2023-07-05T11:…</td><td>[{&quot;JNS&quot;,460,&quot;FI&quot;,&quot;DEPARTURE&quot;,true,true,&quot;1&quot;,false,&quot;2023-11-01T13:11:00.000Z&quot;,&quot;2023-11-01T13:11:00.000Z&quot;,&quot;LIIKE_AUTOMATIC&quot;,null,&quot;2023-11-01T13:11:00.000Z&quot;,0,[],null}, {&quot;PLT&quot;,1070,&quot;FI&quot;,&quot;ARRIVAL&quot;,false,null,&quot;&quot;,false,&quot;2023-11-01T13:11:42.000Z&quot;,&quot;2023-11-01T13:11:42.000Z&quot;,&quot;LIIKE_AUTOMATIC&quot;,null,null,0,[],null}, … {&quot;HKI&quot;,1,&quot;FI&quot;,&quot;ARRIVAL&quot;,true,true,&quot;10&quot;,false,&quot;2023-11-01T17:45:00.000Z&quot;,null,null,null,&quot;2023-11-01T17:46:14.000Z&quot;,1,[],null}]</td></tr><tr><td>11</td><td>&quot;2023-11-01&quot;</td><td>10</td><td>&quot;vr&quot;</td><td>&quot;IC&quot;</td><td>&quot;Long-distance&quot;</td><td>&quot;&quot;</td><td>false</td><td>false</td><td>null</td><td>286826993172</td><td>&quot;REGULAR&quot;</td><td>&quot;2023-07-05T11:…</td><td>[{&quot;HKI&quot;,1,&quot;FI&quot;,&quot;DEPARTURE&quot;,true,true,&quot;8&quot;,false,&quot;2023-11-01T16:29:00.000Z&quot;,null,null,null,&quot;2023-11-01T16:29:31.000Z&quot;,1,[],null}, {&quot;PSL&quot;,10,&quot;FI&quot;,&quot;ARRIVAL&quot;,true,true,&quot;4&quot;,false,&quot;2023-11-01T16:34:00.000Z&quot;,null,null,null,&quot;2023-11-01T16:34:19.000Z&quot;,0,[],null}, … {&quot;JNS&quot;,460,&quot;FI&quot;,&quot;ARRIVAL&quot;,true,true,&quot;1&quot;,false,&quot;2023-11-01T21:15:00.000Z&quot;,&quot;2023-11-01T21:14:17.000Z&quot;,&quot;LIIKE_AUTOMATIC&quot;,null,&quot;2023-11-01T21:11:50.000Z&quot;,-3,[],null}]</td></tr><tr><td>12</td><td>&quot;2023-11-01&quot;</td><td>10</td><td>&quot;vr&quot;</td><td>&quot;IC&quot;</td><td>&quot;Long-distance&quot;</td><td>&quot;&quot;</td><td>false</td><td>false</td><td>null</td><td>286944397711</td><td>&quot;REGULAR&quot;</td><td>&quot;2022-11-03T06:…</td><td>[{&quot;JNS&quot;,460,&quot;FI&quot;,&quot;DEPARTURE&quot;,true,true,&quot;1&quot;,false,&quot;2023-11-01T16:13:00.000Z&quot;,null,null,null,&quot;2023-11-01T16:13:00.000Z&quot;,0,[],null}, {&quot;PLT&quot;,1070,&quot;FI&quot;,&quot;ARRIVAL&quot;,false,null,&quot;&quot;,false,&quot;2023-11-01T16:13:42.000Z&quot;,&quot;2023-11-01T16:13:42.000Z&quot;,&quot;LIIKE_AUTOMATIC&quot;,null,null,0,[],null}, … {&quot;HKI&quot;,1,&quot;FI&quot;,&quot;ARRIVAL&quot;,true,true,&quot;11&quot;,false,&quot;2023-11-01T21:03:00.000Z&quot;,null,null,null,&quot;2023-11-01T21:03:13.000Z&quot;,0,[],null}]</td></tr><tr><td>&hellip;</td><td>&hellip;</td><td>&hellip;</td><td>&hellip;</td><td>&hellip;</td><td>&hellip;</td><td>&hellip;</td><td>&hellip;</td><td>&hellip;</td><td>&hellip;</td><td>&hellip;</td><td>&hellip;</td><td>&hellip;</td><td>&hellip;</td></tr><tr><td>71246</td><td>&quot;2023-11-30&quot;</td><td>2910</td><td>&quot;vr-track&quot;</td><td>&quot;TYO&quot;</td><td>&quot;On-track machi…</td><td>&quot;&quot;</td><td>false</td><td>false</td><td>null</td><td>287051734225</td><td>&quot;ADHOC&quot;</td><td>&quot;2023-11-29T14:…</td><td>[{&quot;OLL&quot;,1351,&quot;FI&quot;,&quot;DEPARTURE&quot;,true,true,&quot;852&quot;,false,&quot;2023-11-30T09:20:00.000Z&quot;,&quot;2023-11-30T09:44:50.000Z&quot;,&quot;LIIKE_USER&quot;,null,null,25,[],null}, {&quot;KML&quot;,769,&quot;FI&quot;,&quot;ARRIVAL&quot;,true,false,&quot;2&quot;,false,&quot;2023-11-30T09:25:26.000Z&quot;,null,null,null,&quot;2023-11-30T09:48:32.000Z&quot;,23,[],null}, … {&quot;RHE&quot;,335,&quot;FI&quot;,&quot;ARRIVAL&quot;,true,true,&quot;002&quot;,false,&quot;2023-11-30T11:14:27.000Z&quot;,null,null,null,&quot;2023-11-30T11:37:31.000Z&quot;,23,[],null}]</td></tr><tr><td>72023</td><td>&quot;2023-11-30&quot;</td><td>2910</td><td>&quot;vr-track&quot;</td><td>&quot;TYO&quot;</td><td>&quot;On-track machi…</td><td>&quot;&quot;</td><td>false</td><td>false</td><td>null</td><td>287048652539</td><td>&quot;ADHOC&quot;</td><td>&quot;2023-11-30T01:…</td><td>[{&quot;JR&quot;,95,&quot;FI&quot;,&quot;DEPARTURE&quot;,true,true,&quot;3&quot;,false,&quot;2023-11-30T02:45:00.000Z&quot;,null,null,null,&quot;2023-11-30T02:55:55.000Z&quot;,11,[],null}, {&quot;HR&quot;,96,&quot;FI&quot;,&quot;ARRIVAL&quot;,false,null,&quot;1&quot;,false,&quot;2023-11-30T02:53:18.000Z&quot;,null,null,null,&quot;2023-11-30T03:06:29.000Z&quot;,13,[],null}, … {&quot;NMÄ&quot;,1324,&quot;FI&quot;,&quot;ARRIVAL&quot;,true,true,&quot;704&quot;,false,&quot;2023-11-30T03:31:52.000Z&quot;,null,null,null,&quot;2023-11-30T03:58:22.000Z&quot;,27,[],null}]</td></tr><tr><td>72246</td><td>&quot;2023-11-30&quot;</td><td>2910</td><td>&quot;vr-track&quot;</td><td>&quot;TYO&quot;</td><td>&quot;On-track machi…</td><td>&quot;&quot;</td><td>true</td><td>false</td><td>null</td><td>287053282732</td><td>&quot;ADHOC&quot;</td><td>&quot;2023-11-30T12:…</td><td>[{&quot;RHE&quot;,335,&quot;FI&quot;,&quot;DEPARTURE&quot;,true,true,&quot;002&quot;,false,&quot;2023-11-30T13:00:00.000Z&quot;,null,null,null,&quot;2023-11-30T12:52:42.000Z&quot;,-7,[],null}, {&quot;R530&quot;,99994,&quot;FI&quot;,&quot;ARRIVAL&quot;,false,null,&quot;&quot;,false,&quot;2023-11-30T13:26:57.000Z&quot;,null,null,null,&quot;2023-11-30T13:32:17.000Z&quot;,5,[],null}, … {&quot;RPA&quot;,747,&quot;FI&quot;,&quot;ARRIVAL&quot;,true,true,&quot;501&quot;,false,&quot;2023-11-30T15:29:22.000Z&quot;,&quot;2023-11-30T15:29:42.000Z&quot;,&quot;LIIKE_AUTOMATIC&quot;,null,null,0,[],null}]</td></tr><tr><td>73246</td><td>&quot;2023-11-30&quot;</td><td>2910</td><td>&quot;vr-track&quot;</td><td>&quot;TYO&quot;</td><td>&quot;On-track machi…</td><td>&quot;&quot;</td><td>false</td><td>false</td><td>null</td><td>287053887733</td><td>&quot;ADHOC&quot;</td><td>&quot;2023-11-30T15:…</td><td>[{&quot;RPA&quot;,747,&quot;FI&quot;,&quot;DEPARTURE&quot;,true,true,&quot;504&quot;,false,&quot;2023-11-30T16:06:00.000Z&quot;,&quot;2023-11-30T15:53:00.000Z&quot;,&quot;LIIKE_USER&quot;,null,&quot;2023-11-30T15:53:00.000Z&quot;,-13,[],null}, {&quot;KNS&quot;,317,&quot;FI&quot;,&quot;ARRIVAL&quot;,false,null,&quot;&quot;,false,&quot;2023-11-30T16:19:13.000Z&quot;,null,null,null,&quot;2023-11-30T16:04:30.000Z&quot;,-15,[],null}, … {&quot;YV&quot;,320,&quot;FI&quot;,&quot;ARRIVAL&quot;,true,true,&quot;3&quot;,false,&quot;2023-11-30T16:57:04.000Z&quot;,&quot;2023-11-30T16:49:41.000Z&quot;,&quot;LIIKE_AUTOMATIC&quot;,null,&quot;2023-11-30T16:48:50.000Z&quot;,-8,[],null}]</td></tr><tr><td>75197</td><td>&quot;2023-11-30&quot;</td><td>9900</td><td>&quot;sweco-ir&quot;</td><td>&quot;LIV&quot;</td><td>&quot;Test drive&quot;</td><td>&quot;&quot;</td><td>false</td><td>false</td><td>null</td><td>287052168439</td><td>&quot;ADHOC&quot;</td><td>&quot;2023-10-30T17:…</td><td>[{&quot;IMT&quot;,502,&quot;FI&quot;,&quot;DEPARTURE&quot;,true,true,&quot;602&quot;,false,&quot;2023-11-30T11:07:00.000Z&quot;,null,null,null,&quot;2023-11-30T11:13:15.000Z&quot;,6,[],null}, {&quot;IMR&quot;,603,&quot;FI&quot;,&quot;ARRIVAL&quot;,false,null,&quot;1&quot;,false,&quot;2023-11-30T11:08:38.000Z&quot;,null,null,null,&quot;2023-11-30T11:17:30.000Z&quot;,9,[],null}, … {&quot;KV&quot;,480,&quot;FI&quot;,&quot;ARRIVAL&quot;,true,true,&quot;6&quot;,false,&quot;2023-11-30T13:00:03.000Z&quot;,null,null,null,&quot;2023-11-30T12:41:49.000Z&quot;,-18,[],null}]</td></tr><tr><td>75198</td><td>&quot;2023-11-30&quot;</td><td>9900</td><td>&quot;sweco-ir&quot;</td><td>&quot;LIV&quot;</td><td>&quot;Test drive&quot;</td><td>&quot;&quot;</td><td>false</td><td>false</td><td>null</td><td>287051190079</td><td>&quot;ADHOC&quot;</td><td>&quot;2023-10-30T17:…</td><td>[{&quot;KE&quot;,20,&quot;FI&quot;,&quot;DEPARTURE&quot;,true,true,&quot;4&quot;,false,&quot;2023-11-30T07:13:00.000Z&quot;,&quot;2023-11-30T07:13:00.000Z&quot;,&quot;LIIKE_AUTOMATIC&quot;,null,null,0,[],null}, {&quot;KYT&quot;,1111,&quot;FI&quot;,&quot;ARRIVAL&quot;,false,null,&quot;&quot;,false,&quot;2023-11-30T07:14:30.000Z&quot;,null,null,null,&quot;2023-11-30T07:15:48.000Z&quot;,1,[],null}, … {&quot;IMT&quot;,502,&quot;FI&quot;,&quot;ARRIVAL&quot;,true,true,&quot;602&quot;,false,&quot;2023-11-30T10:41:22.000Z&quot;,null,null,null,&quot;2023-11-30T10:12:57.000Z&quot;,-28,[],null}]</td></tr><tr><td>75199</td><td>&quot;2023-11-30&quot;</td><td>9900</td><td>&quot;sweco-ir&quot;</td><td>&quot;LIV&quot;</td><td>&quot;Test drive&quot;</td><td>&quot;&quot;</td><td>true</td><td>false</td><td>null</td><td>287049850990</td><td>&quot;ADHOC&quot;</td><td>&quot;2023-10-30T17:…</td><td>[{&quot;HY&quot;,30,&quot;FI&quot;,&quot;DEPARTURE&quot;,true,true,&quot;5&quot;,false,&quot;2023-11-30T06:43:00.000Z&quot;,null,null,null,&quot;2023-11-30T06:44:17.000Z&quot;,1,[],null}, {&quot;PLP&quot;,562,&quot;FI&quot;,&quot;ARRIVAL&quot;,false,null,&quot;&quot;,false,&quot;2023-11-30T06:44:59.000Z&quot;,null,null,null,&quot;2023-11-30T06:48:25.000Z&quot;,3,[],null}, … {&quot;KE&quot;,20,&quot;FI&quot;,&quot;ARRIVAL&quot;,true,true,&quot;602&quot;,false,&quot;2023-11-30T07:01:08.000Z&quot;,&quot;2023-11-30T07:04:57.000Z&quot;,&quot;LIIKE_AUTOMATIC&quot;,null,null,4,[],null}]</td></tr><tr><td>76010</td><td>&quot;2023-11-30&quot;</td><td>9999</td><td>&quot;winco&quot;</td><td>&quot;TYO&quot;</td><td>&quot;On-track machi…</td><td>&quot;&quot;</td><td>false</td><td>false</td><td>null</td><td>287055934663</td><td>&quot;ADHOC&quot;</td><td>&quot;2023-11-30T12:…</td><td>[{&quot;TKL&quot;,18,&quot;FI&quot;,&quot;DEPARTURE&quot;,true,true,&quot;4&quot;,false,&quot;2023-11-30T21:52:00.000Z&quot;,null,null,null,&quot;2023-11-30T21:58:45.000Z&quot;,7,[],null}, {&quot;HKH&quot;,556,&quot;FI&quot;,&quot;ARRIVAL&quot;,false,null,&quot;3&quot;,false,&quot;2023-11-30T21:53:10.000Z&quot;,null,null,null,&quot;2023-11-30T22:01:31.000Z&quot;,8,[],null}, … {&quot;LPV&quot;,68,&quot;FI&quot;,&quot;ARRIVAL&quot;,true,true,&quot;1&quot;,false,&quot;2023-11-30T22:23:38.000Z&quot;,null,null,null,&quot;2023-11-30T22:47:08.000Z&quot;,24,[],null}]</td></tr><tr><td>76012</td><td>&quot;2023-11-30&quot;</td><td>9999</td><td>&quot;winco&quot;</td><td>&quot;TYO&quot;</td><td>&quot;On-track machi…</td><td>&quot;&quot;</td><td>false</td><td>false</td><td>null</td><td>287048219243</td><td>&quot;ADHOC&quot;</td><td>&quot;2023-11-30T01:…</td><td>[{&quot;MYR&quot;,660,&quot;FI&quot;,&quot;DEPARTURE&quot;,true,true,&quot;1&quot;,false,&quot;2023-11-30T01:50:00.000Z&quot;,null,null,null,&quot;2023-11-30T01:23:37.000Z&quot;,-26,[],null}, {&quot;LOH&quot;,661,&quot;FI&quot;,&quot;ARRIVAL&quot;,false,null,&quot;1&quot;,false,&quot;2023-11-30T01:50:59.000Z&quot;,null,null,null,&quot;2023-11-30T01:25:11.000Z&quot;,-26,[],null}, … {&quot;TKL&quot;,18,&quot;FI&quot;,&quot;ARRIVAL&quot;,true,true,&quot;5&quot;,false,&quot;2023-11-30T02:11:43.000Z&quot;,null,null,null,&quot;2023-11-30T01:52:58.000Z&quot;,-19,[],null}]</td></tr><tr><td>76040</td><td>&quot;2023-11-30&quot;</td><td>9999</td><td>&quot;winco&quot;</td><td>&quot;TYO&quot;</td><td>&quot;On-track machi…</td><td>&quot;&quot;</td><td>false</td><td>false</td><td>null</td><td>287047662762</td><td>&quot;ADHOC&quot;</td><td>&quot;2023-11-29T21:…</td><td>[{&quot;HKI&quot;,1,&quot;FI&quot;,&quot;DEPARTURE&quot;,true,true,&quot;415&quot;,false,&quot;2023-11-29T22:14:00.000Z&quot;,null,null,null,null,null,[],null}, {&quot;PSL&quot;,10,&quot;FI&quot;,&quot;ARRIVAL&quot;,false,null,&quot;9&quot;,false,&quot;2023-11-29T22:18:36.000Z&quot;,null,null,null,&quot;2023-11-29T22:18:10.000Z&quot;,0,[],null}, … {&quot;KLH&quot;,65,&quot;FI&quot;,&quot;ARRIVAL&quot;,true,true,&quot;3&quot;,false,&quot;2023-11-29T22:38:15.000Z&quot;,null,null,null,&quot;2023-11-29T22:47:34.000Z&quot;,9,[],null}]</td></tr><tr><td>76041</td><td>&quot;2023-11-30&quot;</td><td>9999</td><td>&quot;winco&quot;</td><td>&quot;TYO&quot;</td><td>&quot;On-track machi…</td><td>&quot;&quot;</td><td>true</td><td>false</td><td>null</td><td>287048010304</td><td>&quot;ADHOC&quot;</td><td>&quot;2023-11-29T21:…</td><td>[{&quot;KLH&quot;,65,&quot;FI&quot;,&quot;DEPARTURE&quot;,true,true,&quot;3&quot;,false,&quot;2023-11-29T23:20:00.000Z&quot;,null,null,null,&quot;2023-11-29T23:38:11.000Z&quot;,18,[],null}, {&quot;EPO&quot;,66,&quot;FI&quot;,&quot;ARRIVAL&quot;,false,null,&quot;2&quot;,false,&quot;2023-11-29T23:23:26.000Z&quot;,null,null,null,&quot;2023-11-29T23:54:12.000Z&quot;,31,[],null}, … {&quot;HKI&quot;,1,&quot;FI&quot;,&quot;ARRIVAL&quot;,true,true,&quot;415&quot;,false,&quot;2023-11-29T23:44:15.000Z&quot;,&quot;2023-11-30T00:40:37.000Z&quot;,&quot;LIIKE_AUTOMATIC&quot;,null,null,56,[],null}]</td></tr><tr><td>76045</td><td>&quot;2023-11-30&quot;</td><td>9999</td><td>&quot;winco&quot;</td><td>&quot;TYO&quot;</td><td>&quot;On-track machi…</td><td>&quot;&quot;</td><td>false</td><td>false</td><td>null</td><td>287050291234</td><td>&quot;ADHOC&quot;</td><td>&quot;2023-11-30T06:…</td><td>[{&quot;RI&quot;,40,&quot;FI&quot;,&quot;DEPARTURE&quot;,true,true,&quot;1&quot;,false,&quot;2023-11-30T06:36:00.000Z&quot;,null,null,null,&quot;2023-11-30T06:15:16.000Z&quot;,-21,[],null}, {&quot;ARP&quot;,1235,&quot;FI&quot;,&quot;ARRIVAL&quot;,false,null,&quot;&quot;,false,&quot;2023-11-30T06:40:30.000Z&quot;,null,null,null,&quot;2023-11-30T06:24:15.000Z&quot;,-16,[],null}, … {&quot;IKO&quot;,62,&quot;FI&quot;,&quot;ARRIVAL&quot;,true,true,&quot;2&quot;,false,&quot;2023-11-30T08:48:41.000Z&quot;,null,null,null,&quot;2023-11-30T07:58:52.000Z&quot;,-50,[],null}]</td></tr></tbody></table></div>"
      ],
      "text/plain": [
       "shape: (49_197, 14)\n",
       "┌───────────┬───────────┬───────────┬───────────┬───┬───────────┬───────────┬───────────┬──────────┐\n",
       "│ trainNumb ┆ departure ┆ operatorU ┆ operatorS ┆ … ┆ version   ┆ timetable ┆ timetable ┆ timeTabl │\n",
       "│ er        ┆ Date      ┆ ICCode    ┆ hortCode  ┆   ┆ ---       ┆ Type      ┆ Acceptanc ┆ eRows    │\n",
       "│ ---       ┆ ---       ┆ ---       ┆ ---       ┆   ┆ i64       ┆ ---       ┆ eDate     ┆ ---      │\n",
       "│ i64       ┆ str       ┆ i64       ┆ str       ┆   ┆           ┆ str       ┆ ---       ┆ list[str │\n",
       "│           ┆           ┆           ┆           ┆   ┆           ┆           ┆ str       ┆ uct[16]] │\n",
       "╞═══════════╪═══════════╪═══════════╪═══════════╪═══╪═══════════╪═══════════╪═══════════╪══════════╡\n",
       "│ 1         ┆ 2023-11-0 ┆ 10        ┆ vr        ┆ … ┆ 286822491 ┆ REGULAR   ┆ 2023-07-0 ┆ [{\"HKI\", │\n",
       "│           ┆ 1         ┆           ┆           ┆   ┆ 217       ┆           ┆ 5T11:22:0 ┆ 1,\"FI\",\" │\n",
       "│           ┆           ┆           ┆           ┆   ┆           ┆           ┆ 1.000Z    ┆ DEPARTUR │\n",
       "│           ┆           ┆           ┆           ┆   ┆           ┆           ┆           ┆ E\",true, │\n",
       "│           ┆           ┆           ┆           ┆   ┆           ┆           ┆           ┆ …        │\n",
       "│ 2         ┆ 2023-11-0 ┆ 10        ┆ vr        ┆ … ┆ 286821604 ┆ REGULAR   ┆ 2023-07-0 ┆ [{\"JNS\", │\n",
       "│           ┆ 1         ┆           ┆           ┆   ┆ 082       ┆           ┆ 5T11:22:0 ┆ 460,\"FI\" │\n",
       "│           ┆           ┆           ┆           ┆   ┆           ┆           ┆ 1.000Z    ┆ ,\"DEPART │\n",
       "│           ┆           ┆           ┆           ┆   ┆           ┆           ┆           ┆ URE\",tru │\n",
       "│           ┆           ┆           ┆           ┆   ┆           ┆           ┆           ┆ …        │\n",
       "│ 3         ┆ 2023-11-0 ┆ 10        ┆ vr        ┆ … ┆ 286823761 ┆ REGULAR   ┆ 2023-07-0 ┆ [{\"HKI\", │\n",
       "│           ┆ 1         ┆           ┆           ┆   ┆ 991       ┆           ┆ 5T11:22:0 ┆ 1,\"FI\",\" │\n",
       "│           ┆           ┆           ┆           ┆   ┆           ┆           ┆ 1.000Z    ┆ DEPARTUR │\n",
       "│           ┆           ┆           ┆           ┆   ┆           ┆           ┆           ┆ E\",true, │\n",
       "│           ┆           ┆           ┆           ┆   ┆           ┆           ┆           ┆ …        │\n",
       "│ 4         ┆ 2023-11-0 ┆ 10        ┆ vr        ┆ … ┆ 286822663 ┆ REGULAR   ┆ 2023-07-0 ┆ [{\"JNS\", │\n",
       "│           ┆ 1         ┆           ┆           ┆   ┆ 552       ┆           ┆ 5T11:22:0 ┆ 460,\"FI\" │\n",
       "│           ┆           ┆           ┆           ┆   ┆           ┆           ┆ 1.000Z    ┆ ,\"DEPART │\n",
       "│           ┆           ┆           ┆           ┆   ┆           ┆           ┆           ┆ URE\",tru │\n",
       "│           ┆           ┆           ┆           ┆   ┆           ┆           ┆           ┆ …        │\n",
       "│ …         ┆ …         ┆ …         ┆ …         ┆ … ┆ …         ┆ …         ┆ …         ┆ …        │\n",
       "│ 76012     ┆ 2023-11-3 ┆ 9999      ┆ winco     ┆ … ┆ 287048219 ┆ ADHOC     ┆ 2023-11-3 ┆ [{\"MYR\", │\n",
       "│           ┆ 0         ┆           ┆           ┆   ┆ 243       ┆           ┆ 0T01:02:4 ┆ 660,\"FI\" │\n",
       "│           ┆           ┆           ┆           ┆   ┆           ┆           ┆ 0.000Z    ┆ ,\"DEPART │\n",
       "│           ┆           ┆           ┆           ┆   ┆           ┆           ┆           ┆ URE\",tru │\n",
       "│           ┆           ┆           ┆           ┆   ┆           ┆           ┆           ┆ …        │\n",
       "│ 76040     ┆ 2023-11-3 ┆ 9999      ┆ winco     ┆ … ┆ 287047662 ┆ ADHOC     ┆ 2023-11-2 ┆ [{\"HKI\", │\n",
       "│           ┆ 0         ┆           ┆           ┆   ┆ 762       ┆           ┆ 9T21:27:4 ┆ 1,\"FI\",\" │\n",
       "│           ┆           ┆           ┆           ┆   ┆           ┆           ┆ 5.000Z    ┆ DEPARTUR │\n",
       "│           ┆           ┆           ┆           ┆   ┆           ┆           ┆           ┆ E\",true, │\n",
       "│           ┆           ┆           ┆           ┆   ┆           ┆           ┆           ┆ …        │\n",
       "│ 76041     ┆ 2023-11-3 ┆ 9999      ┆ winco     ┆ … ┆ 287048010 ┆ ADHOC     ┆ 2023-11-2 ┆ [{\"KLH\", │\n",
       "│           ┆ 0         ┆           ┆           ┆   ┆ 304       ┆           ┆ 9T21:28:1 ┆ 65,\"FI\", │\n",
       "│           ┆           ┆           ┆           ┆   ┆           ┆           ┆ 6.000Z    ┆ \"DEPARTU │\n",
       "│           ┆           ┆           ┆           ┆   ┆           ┆           ┆           ┆ RE\",true │\n",
       "│           ┆           ┆           ┆           ┆   ┆           ┆           ┆           ┆ …        │\n",
       "│ 76045     ┆ 2023-11-3 ┆ 9999      ┆ winco     ┆ … ┆ 287050291 ┆ ADHOC     ┆ 2023-11-3 ┆ [{\"RI\",4 │\n",
       "│           ┆ 0         ┆           ┆           ┆   ┆ 234       ┆           ┆ 0T06:09:4 ┆ 0,\"FI\",\" │\n",
       "│           ┆           ┆           ┆           ┆   ┆           ┆           ┆ 7.000Z    ┆ DEPARTUR │\n",
       "│           ┆           ┆           ┆           ┆   ┆           ┆           ┆           ┆ E\",true, │\n",
       "│           ┆           ┆           ┆           ┆   ┆           ┆           ┆           ┆ …        │\n",
       "└───────────┴───────────┴───────────┴───────────┴───┴───────────┴───────────┴───────────┴──────────┘"
      ]
     },
     "execution_count": 29,
     "metadata": {},
     "output_type": "execute_result"
    }
   ],
   "source": [
    "#conn.sql(\"SHOW\")\n",
    "conn.sql(\"SELECT * FROM lazy_df\").pl()"
   ]
  },
  {
   "cell_type": "code",
   "execution_count": 30,
   "metadata": {},
   "outputs": [
    {
     "data": {
      "text/plain": [
       "┌──────────────────────┬─────────────┬───────────────┬───┬───────────────┬──────────────────────┬──────────────────────┐\n",
       "│       route_sk       │ trainNumber │ departureDate │ … │ timetableType │ timetableAcceptanc…  │    timeTableRows     │\n",
       "│       varchar        │    int64    │    varchar    │   │    varchar    │       varchar        │ struct(stationshor…  │\n",
       "├──────────────────────┼─────────────┼───────────────┼───┼───────────────┼──────────────────────┼──────────────────────┤\n",
       "│ 01ad4f7ec5ee7711ab…  │           1 │ 2023-11-01    │ … │ REGULAR       │ 2023-07-05T11:22:0…  │ [{'stationShortCod…  │\n",
       "├──────────────────────┴─────────────┴───────────────┴───┴───────────────┴──────────────────────┴──────────────────────┤\n",
       "│ 1 rows                                                                                          15 columns (6 shown) │\n",
       "└──────────────────────────────────────────────────────────────────────────────────────────────────────────────────────┘"
      ]
     },
     "execution_count": 30,
     "metadata": {},
     "output_type": "execute_result"
    }
   ],
   "source": [
    "conn.sql(\"\"\"\n",
    "CREATE SCHEMA IF NOT EXISTS medallion_bronze;     \n",
    "CREATE OR REPLACE TABLE vr.medallion_bronze.method_b_traintest AS (  \n",
    "    WITH traintest_data AS (\n",
    "        SELECT \n",
    "            md5(\n",
    "                trainNumber || departureDate || operatorUICCode \n",
    "            ) as route_sk, --Surrogate Key\n",
    "            * \n",
    "        FROM lazy_df\n",
    "    )\n",
    "            \n",
    "    SELECT * FROM traintest_data\n",
    ");\n",
    "\"\"\")\n",
    "\n",
    "conn.sql(\"\"\"SELECT * FROM medallion_bronze.method_b_traintest LIMIT 1\"\"\")"
   ]
  },
  {
   "cell_type": "code",
   "execution_count": 31,
   "metadata": {},
   "outputs": [],
   "source": [
    "conn.close()"
   ]
  }
 ],
 "metadata": {
  "kernelspec": {
   "display_name": "Python 3",
   "language": "python",
   "name": "python3"
  },
  "language_info": {
   "codemirror_mode": {
    "name": "ipython",
    "version": 3
   },
   "file_extension": ".py",
   "mimetype": "text/x-python",
   "name": "python",
   "nbconvert_exporter": "python",
   "pygments_lexer": "ipython3",
   "version": "3.11.7"
  }
 },
 "nbformat": 4,
 "nbformat_minor": 2
}
