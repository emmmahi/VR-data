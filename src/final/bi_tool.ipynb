{
 "cells": [
  {
   "cell_type": "code",
   "execution_count": 1,
   "metadata": {},
   "outputs": [],
   "source": [
    "import duckdb\n",
    "from polars import DataFrame\n",
    "from pathlib import Path"
   ]
  },
  {
   "cell_type": "code",
   "execution_count": 2,
   "metadata": {},
   "outputs": [
    {
     "data": {
      "text/plain": [
       "PosixPath('/workspaces/VR-data')"
      ]
     },
     "execution_count": 2,
     "metadata": {},
     "output_type": "execute_result"
    }
   ],
   "source": [
    "Path().absolute().parent.parent"
   ]
  },
  {
   "cell_type": "code",
   "execution_count": 3,
   "metadata": {},
   "outputs": [
    {
     "name": "stdout",
     "output_type": "stream",
     "text": [
      "/workspaces/VR-data/data/warehouse/vr.duckdb   file exists:   True\n"
     ]
    }
   ],
   "source": [
    "project_dir = Path().absolute().parent.parent\n",
    "db_path = project_dir / \"data\" / \"warehouse\" / \"vr.duckdb\"\n",
    "print(str(db_path), \"  file exists:  \", db_path.is_file())"
   ]
  },
  {
   "cell_type": "code",
   "execution_count": 4,
   "metadata": {},
   "outputs": [],
   "source": [
    "# funktio kyselyn tekemistä varten ei vaadi yhteyden sulkua koska käytetään WITH\n",
    "def sql(query: str) -> DataFrame:\n",
    "    with duckdb.connect(str(db_path), read_only=True) as conn:\n",
    "        df = conn.execute(query).pl()\n",
    "    return df"
   ]
  },
  {
   "cell_type": "code",
   "execution_count": 5,
   "metadata": {},
   "outputs": [],
   "source": [
    "df = sql(\"SELECT * FROM vr.medallion_gold.method_b_kaj_train LIMIT 10\")"
   ]
  },
  {
   "cell_type": "code",
   "execution_count": 6,
   "metadata": {},
   "outputs": [
    {
     "data": {
      "text/html": [
       "<div><style>\n",
       ".dataframe > thead > tr,\n",
       ".dataframe > tbody > tr {\n",
       "  text-align: right;\n",
       "  white-space: pre-wrap;\n",
       "}\n",
       "</style>\n",
       "<small>shape: (5, 11)</small><table border=\"1\" class=\"dataframe\"><thead><tr><th>stop_sk</th><th>first(stationShortCode)</th><th>station_id</th><th>station_name</th><th>arrival_lateness</th><th>departure_lateness</th><th>arrival_schedule</th><th>departure_schedule</th><th>arrival_actual</th><th>departure_actual</th><th>lateness_causes_new</th></tr><tr><td>str</td><td>str</td><td>i32</td><td>str</td><td>i32</td><td>i32</td><td>str</td><td>str</td><td>str</td><td>str</td><td>struct[14]</td></tr></thead><tbody><tr><td>&quot;68fa3d4531963a…</td><td>&quot;KAJ&quot;</td><td>387</td><td>&quot;KAJ&quot;</td><td>-96</td><td>-96</td><td>&quot;2023-11-07T22:…</td><td>null</td><td>&quot;2023-11-07T21:…</td><td>&quot;2023-11-07T21:…</td><td>{null,&quot;E&quot;,null,null,null,null,&quot;E2&quot;,null,null,null,null,335611978,34865416,null}</td></tr><tr><td>&quot;48dcbc0a6d855b…</td><td>&quot;KAJ&quot;</td><td>387</td><td>&quot;KAJ&quot;</td><td>4</td><td>2</td><td>&quot;2023-11-11T07:…</td><td>null</td><td>&quot;2023-11-11T07:…</td><td>&quot;2023-11-11T07:…</td><td>{null,&quot;T&quot;,null,null,null,null,&quot;T1&quot;,null,&quot;T102&quot;,null,null,402720842,18350344,33626113}</td></tr><tr><td>&quot;b9d0517f02a969…</td><td>&quot;KAJ&quot;</td><td>387</td><td>&quot;KAJ&quot;</td><td>-39</td><td>-39</td><td>&quot;2023-11-13T22:…</td><td>null</td><td>&quot;2023-11-13T22:…</td><td>&quot;2023-11-13T22:…</td><td>{null,&quot;E&quot;,null,null,null,null,&quot;E1&quot;,null,null,null,null,335611978,18088200,null}</td></tr><tr><td>&quot;282822f9117d5b…</td><td>&quot;KAJ&quot;</td><td>387</td><td>&quot;KAJ&quot;</td><td>4</td><td>1</td><td>&quot;2023-11-14T12:…</td><td>null</td><td>&quot;2023-11-14T12:…</td><td>&quot;2023-11-14T12:…</td><td>{null,&quot;L&quot;,null,null,null,null,&quot;L2&quot;,null,&quot;L204&quot;,null,null,352389194,34930952,67245313}</td></tr><tr><td>&quot;ed3f2c2dc5c6ec…</td><td>&quot;KAJ&quot;</td><td>387</td><td>&quot;KAJ&quot;</td><td>-36</td><td>-36</td><td>&quot;2023-11-14T22:…</td><td>null</td><td>&quot;2023-11-14T22:…</td><td>&quot;2023-11-14T22:…</td><td>{null,&quot;E&quot;,null,null,null,null,&quot;E2&quot;,null,null,null,null,335611978,34865416,null}</td></tr></tbody></table></div>"
      ],
      "text/plain": [
       "shape: (5, 11)\n",
       "┌───────────┬───────────┬───────────┬───────────┬───┬───────────┬───────────┬───────────┬──────────┐\n",
       "│ stop_sk   ┆ first(sta ┆ station_i ┆ station_n ┆ … ┆ departure ┆ arrival_a ┆ departure ┆ lateness │\n",
       "│ ---       ┆ tionShort ┆ d         ┆ ame       ┆   ┆ _schedule ┆ ctual     ┆ _actual   ┆ _causes_ │\n",
       "│ str       ┆ Code)     ┆ ---       ┆ ---       ┆   ┆ ---       ┆ ---       ┆ ---       ┆ new      │\n",
       "│           ┆ ---       ┆ i32       ┆ str       ┆   ┆ str       ┆ str       ┆ str       ┆ ---      │\n",
       "│           ┆ str       ┆           ┆           ┆   ┆           ┆           ┆           ┆ struct[1 │\n",
       "│           ┆           ┆           ┆           ┆   ┆           ┆           ┆           ┆ 4]       │\n",
       "╞═══════════╪═══════════╪═══════════╪═══════════╪═══╪═══════════╪═══════════╪═══════════╪══════════╡\n",
       "│ 68fa3d453 ┆ KAJ       ┆ 387       ┆ KAJ       ┆ … ┆ null      ┆ 2023-11-0 ┆ 2023-11-0 ┆ {null,\"E │\n",
       "│ 1963aaf74 ┆           ┆           ┆           ┆   ┆           ┆ 7T21:08:5 ┆ 7T21:08:5 ┆ \",null,n │\n",
       "│ 39b11964e ┆           ┆           ┆           ┆   ┆           ┆ 2.000Z    ┆ 2.000Z    ┆ ull,null │\n",
       "│ 1d13f     ┆           ┆           ┆           ┆   ┆           ┆           ┆           ┆ ,null,\"E │\n",
       "│           ┆           ┆           ┆           ┆   ┆           ┆           ┆           ┆ …        │\n",
       "│ 48dcbc0a6 ┆ KAJ       ┆ 387       ┆ KAJ       ┆ … ┆ null      ┆ 2023-11-1 ┆ 2023-11-1 ┆ {null,\"T │\n",
       "│ d855b05c2 ┆           ┆           ┆           ┆   ┆           ┆ 1T07:14:4 ┆ 1T07:19:1 ┆ \",null,n │\n",
       "│ da9a61265 ┆           ┆           ┆           ┆   ┆           ┆ 6.000Z    ┆ 5.000Z    ┆ ull,null │\n",
       "│ 7f386     ┆           ┆           ┆           ┆   ┆           ┆           ┆           ┆ ,null,\"T │\n",
       "│           ┆           ┆           ┆           ┆   ┆           ┆           ┆           ┆ …        │\n",
       "│ b9d0517f0 ┆ KAJ       ┆ 387       ┆ KAJ       ┆ … ┆ null      ┆ 2023-11-1 ┆ 2023-11-1 ┆ {null,\"E │\n",
       "│ 2a969ab93 ┆           ┆           ┆           ┆   ┆           ┆ 3T22:06:1 ┆ 3T22:06:1 ┆ \",null,n │\n",
       "│ e346a4659 ┆           ┆           ┆           ┆   ┆           ┆ 6.000Z    ┆ 6.000Z    ┆ ull,null │\n",
       "│ 5f4ef     ┆           ┆           ┆           ┆   ┆           ┆           ┆           ┆ ,null,\"E │\n",
       "│           ┆           ┆           ┆           ┆   ┆           ┆           ┆           ┆ …        │\n",
       "│ 282822f91 ┆ KAJ       ┆ 387       ┆ KAJ       ┆ … ┆ null      ┆ 2023-11-1 ┆ 2023-11-1 ┆ {null,\"L │\n",
       "│ 17d5bd259 ┆           ┆           ┆           ┆   ┆           ┆ 4T12:31:4 ┆ 4T12:33:1 ┆ \",null,n │\n",
       "│ 76e021c4b ┆           ┆           ┆           ┆   ┆           ┆ 5.000Z    ┆ 0.000Z    ┆ ull,null │\n",
       "│ ca4d0     ┆           ┆           ┆           ┆   ┆           ┆           ┆           ┆ ,null,\"L │\n",
       "│           ┆           ┆           ┆           ┆   ┆           ┆           ┆           ┆ …        │\n",
       "│ ed3f2c2dc ┆ KAJ       ┆ 387       ┆ KAJ       ┆ … ┆ null      ┆ 2023-11-1 ┆ 2023-11-1 ┆ {null,\"E │\n",
       "│ 5c6ec8cd0 ┆           ┆           ┆           ┆   ┆           ┆ 4T22:08:4 ┆ 4T22:08:4 ┆ \",null,n │\n",
       "│ 04e3e3173 ┆           ┆           ┆           ┆   ┆           ┆ 8.000Z    ┆ 8.000Z    ┆ ull,null │\n",
       "│ c543d     ┆           ┆           ┆           ┆   ┆           ┆           ┆           ┆ ,null,\"E │\n",
       "│           ┆           ┆           ┆           ┆   ┆           ┆           ┆           ┆ …        │\n",
       "└───────────┴───────────┴───────────┴───────────┴───┴───────────┴───────────┴───────────┴──────────┘"
      ]
     },
     "execution_count": 6,
     "metadata": {},
     "output_type": "execute_result"
    }
   ],
   "source": [
    "df.head()"
   ]
  },
  {
   "cell_type": "code",
   "execution_count": null,
   "metadata": {},
   "outputs": [],
   "source": [
    "import pandas as pd\n",
    "import polars as pl\n",
    "import matplotlib.pyplot as plt\n",
    "\n",
    "# Assuming your DataFrame is named 'df'\n",
    "# Convert the 'arrival_schedule' column to datetime type\n",
    "df['arrival_schedule'] = pl.col('arrival_schedule').to_datetime(format='%Y-%m-%dT%H:%M:%S')\n",
    "\n",
    "# Plotting lateness over dates\n",
    "plt.figure(figsize=(10, 6))\n",
    "plt.plot(df['arrival_schedule'], df['arrival_lateness'], marker='o', linestyle='-', color='b')\n",
    "plt.title('Lateness Over Dates')\n",
    "plt.xlabel('Date')\n",
    "plt.ylabel('Lateness (minutes)')\n",
    "plt.grid(True)\n",
    "plt.show()\n"
   ]
  },
  {
   "cell_type": "code",
   "execution_count": 9,
   "metadata": {},
   "outputs": [],
   "source": [
    "import polars as pl\n",
    "import matplotlib.pyplot as plt\n",
    "import pandas as pd"
   ]
  },
  {
   "cell_type": "markdown",
   "metadata": {},
   "source": [
    "# Convert Polars DataFrame to Pandas DataFrame\n",
    "df_pandas = df.to_pandas()\n",
    "\n",
    "# Bar plot for arrival_lateness and departure_lateness using Matplotlib\n",
    "df_pandas.plot.bar(\n",
    "    x=\"arrival_schedule\",\n",
    "    y=[\"arrival_lateness\", \"departure_lateness\"],\n",
    "    title=\"Arrival and Departure Lateness for Station KAJ in November 2023\",\n",
    "    figsize=(10, 6),\n",
    ")\n",
    "plt.show()"
   ]
  }
 ],
 "metadata": {
  "kernelspec": {
   "display_name": "Python 3",
   "language": "python",
   "name": "python3"
  },
  "language_info": {
   "codemirror_mode": {
    "name": "ipython",
    "version": 3
   },
   "file_extension": ".py",
   "mimetype": "text/x-python",
   "name": "python",
   "nbconvert_exporter": "python",
   "pygments_lexer": "ipython3",
   "version": "3.11.7"
  }
 },
 "nbformat": 4,
 "nbformat_minor": 2
}
